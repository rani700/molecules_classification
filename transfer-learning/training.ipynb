{
 "cells": [
  {
   "cell_type": "markdown",
   "metadata": {
    "colab_type": "text",
    "id": "8LMSTPk0iDTh"
   },
   "source": [
    "# Classification based of musk vs non musk with transfer learning\n",
    "\n",
    "Here our approach is to first train our model with 102 class of molecule and then add another layer on the top of the previously trained model and again train it with binary class of musk vs non mask with dense layer with 1 perceptron in final layer"
   ]
  },
  {
   "cell_type": "markdown",
   "metadata": {
    "colab_type": "text",
    "id": "PZG23CcBmTNk"
   },
   "source": [
    "## Training multiclass molecule classification model"
   ]
  },
  {
   "cell_type": "markdown",
   "metadata": {
    "colab_type": "text",
    "id": "JQnNmTSQBKOm"
   },
   "source": [
    "Dataset is uploaded to a github repo URL is saved here"
   ]
  },
  {
   "cell_type": "code",
   "execution_count": 0,
   "metadata": {
    "colab": {},
    "colab_type": "code",
    "id": "jOUkGH2vlZ03"
   },
   "outputs": [],
   "source": [
    "URL = \"https://raw.githubusercontent.com/rani700/datasets/master/musk_csv.csv\""
   ]
  },
  {
   "cell_type": "markdown",
   "metadata": {
    "colab_type": "text",
    "id": "UQESI1OVBOL2"
   },
   "source": [
    "### Importing libraries for data manipulation and visualisation"
   ]
  },
  {
   "cell_type": "code",
   "execution_count": 0,
   "metadata": {
    "colab": {},
    "colab_type": "code",
    "id": "nGHYb8Ublg8v"
   },
   "outputs": [],
   "source": [
    "import matplotlib.pyplot as plt\n",
    "import numpy as np\n",
    "import pandas as pd"
   ]
  },
  {
   "cell_type": "markdown",
   "metadata": {
    "colab_type": "text",
    "id": "wAIk6zjTBQZs"
   },
   "source": [
    "### Reading dataset into DataFrame"
   ]
  },
  {
   "cell_type": "code",
   "execution_count": 0,
   "metadata": {
    "colab": {},
    "colab_type": "code",
    "id": "yrGP_RT3oY5l"
   },
   "outputs": [],
   "source": [
    "df = pd.read_csv(URL)"
   ]
  },
  {
   "cell_type": "code",
   "execution_count": 145,
   "metadata": {
    "colab": {
     "base_uri": "https://localhost:8080/",
     "height": 253
    },
    "colab_type": "code",
    "id": "7IcIrmf-obBt",
    "outputId": "d7b4e6e4-9697-4d94-8707-8c2d4f7b088f"
   },
   "outputs": [
    {
     "data": {
      "text/html": [
       "<div>\n",
       "<style scoped>\n",
       "    .dataframe tbody tr th:only-of-type {\n",
       "        vertical-align: middle;\n",
       "    }\n",
       "\n",
       "    .dataframe tbody tr th {\n",
       "        vertical-align: top;\n",
       "    }\n",
       "\n",
       "    .dataframe thead th {\n",
       "        text-align: right;\n",
       "    }\n",
       "</style>\n",
       "<table border=\"1\" class=\"dataframe\">\n",
       "  <thead>\n",
       "    <tr style=\"text-align: right;\">\n",
       "      <th></th>\n",
       "      <th>ID</th>\n",
       "      <th>molecule_name</th>\n",
       "      <th>conformation_name</th>\n",
       "      <th>f1</th>\n",
       "      <th>f2</th>\n",
       "      <th>f3</th>\n",
       "      <th>f4</th>\n",
       "      <th>f5</th>\n",
       "      <th>f6</th>\n",
       "      <th>f7</th>\n",
       "      <th>f8</th>\n",
       "      <th>f9</th>\n",
       "      <th>f10</th>\n",
       "      <th>f11</th>\n",
       "      <th>f12</th>\n",
       "      <th>f13</th>\n",
       "      <th>f14</th>\n",
       "      <th>f15</th>\n",
       "      <th>f16</th>\n",
       "      <th>f17</th>\n",
       "      <th>f18</th>\n",
       "      <th>f19</th>\n",
       "      <th>f20</th>\n",
       "      <th>f21</th>\n",
       "      <th>f22</th>\n",
       "      <th>f23</th>\n",
       "      <th>f24</th>\n",
       "      <th>f25</th>\n",
       "      <th>f26</th>\n",
       "      <th>f27</th>\n",
       "      <th>f28</th>\n",
       "      <th>f29</th>\n",
       "      <th>f30</th>\n",
       "      <th>f31</th>\n",
       "      <th>f32</th>\n",
       "      <th>f33</th>\n",
       "      <th>f34</th>\n",
       "      <th>f35</th>\n",
       "      <th>f36</th>\n",
       "      <th>f37</th>\n",
       "      <th>...</th>\n",
       "      <th>f128</th>\n",
       "      <th>f129</th>\n",
       "      <th>f130</th>\n",
       "      <th>f131</th>\n",
       "      <th>f132</th>\n",
       "      <th>f133</th>\n",
       "      <th>f134</th>\n",
       "      <th>f135</th>\n",
       "      <th>f136</th>\n",
       "      <th>f137</th>\n",
       "      <th>f138</th>\n",
       "      <th>f139</th>\n",
       "      <th>f140</th>\n",
       "      <th>f141</th>\n",
       "      <th>f142</th>\n",
       "      <th>f143</th>\n",
       "      <th>f144</th>\n",
       "      <th>f145</th>\n",
       "      <th>f146</th>\n",
       "      <th>f147</th>\n",
       "      <th>f148</th>\n",
       "      <th>f149</th>\n",
       "      <th>f150</th>\n",
       "      <th>f151</th>\n",
       "      <th>f152</th>\n",
       "      <th>f153</th>\n",
       "      <th>f154</th>\n",
       "      <th>f155</th>\n",
       "      <th>f156</th>\n",
       "      <th>f157</th>\n",
       "      <th>f158</th>\n",
       "      <th>f159</th>\n",
       "      <th>f160</th>\n",
       "      <th>f161</th>\n",
       "      <th>f162</th>\n",
       "      <th>f163</th>\n",
       "      <th>f164</th>\n",
       "      <th>f165</th>\n",
       "      <th>f166</th>\n",
       "      <th>class</th>\n",
       "    </tr>\n",
       "  </thead>\n",
       "  <tbody>\n",
       "    <tr>\n",
       "      <th>0</th>\n",
       "      <td>1</td>\n",
       "      <td>MUSK-211</td>\n",
       "      <td>211_1+1</td>\n",
       "      <td>46</td>\n",
       "      <td>-108</td>\n",
       "      <td>-60</td>\n",
       "      <td>-69</td>\n",
       "      <td>-117</td>\n",
       "      <td>49</td>\n",
       "      <td>38</td>\n",
       "      <td>-161</td>\n",
       "      <td>-8</td>\n",
       "      <td>5</td>\n",
       "      <td>-323</td>\n",
       "      <td>-220</td>\n",
       "      <td>-113</td>\n",
       "      <td>-299</td>\n",
       "      <td>-283</td>\n",
       "      <td>-307</td>\n",
       "      <td>-31</td>\n",
       "      <td>-106</td>\n",
       "      <td>-227</td>\n",
       "      <td>-42</td>\n",
       "      <td>-59</td>\n",
       "      <td>-22</td>\n",
       "      <td>-67</td>\n",
       "      <td>189</td>\n",
       "      <td>81</td>\n",
       "      <td>17</td>\n",
       "      <td>-27</td>\n",
       "      <td>-89</td>\n",
       "      <td>-67</td>\n",
       "      <td>105</td>\n",
       "      <td>-116</td>\n",
       "      <td>124</td>\n",
       "      <td>-106</td>\n",
       "      <td>5</td>\n",
       "      <td>-120</td>\n",
       "      <td>63</td>\n",
       "      <td>-165</td>\n",
       "      <td>...</td>\n",
       "      <td>81</td>\n",
       "      <td>-114</td>\n",
       "      <td>-187</td>\n",
       "      <td>45</td>\n",
       "      <td>-118</td>\n",
       "      <td>-75</td>\n",
       "      <td>-182</td>\n",
       "      <td>-234</td>\n",
       "      <td>-19</td>\n",
       "      <td>12</td>\n",
       "      <td>-13</td>\n",
       "      <td>-41</td>\n",
       "      <td>-119</td>\n",
       "      <td>-149</td>\n",
       "      <td>70</td>\n",
       "      <td>17</td>\n",
       "      <td>-20</td>\n",
       "      <td>-177</td>\n",
       "      <td>-101</td>\n",
       "      <td>-116</td>\n",
       "      <td>-14</td>\n",
       "      <td>-50</td>\n",
       "      <td>24</td>\n",
       "      <td>-81</td>\n",
       "      <td>-125</td>\n",
       "      <td>-114</td>\n",
       "      <td>-44</td>\n",
       "      <td>128</td>\n",
       "      <td>3</td>\n",
       "      <td>-244</td>\n",
       "      <td>-308</td>\n",
       "      <td>52</td>\n",
       "      <td>-7</td>\n",
       "      <td>39</td>\n",
       "      <td>126</td>\n",
       "      <td>156</td>\n",
       "      <td>-50</td>\n",
       "      <td>-112</td>\n",
       "      <td>96</td>\n",
       "      <td>1</td>\n",
       "    </tr>\n",
       "    <tr>\n",
       "      <th>1</th>\n",
       "      <td>2</td>\n",
       "      <td>MUSK-211</td>\n",
       "      <td>211_1+10</td>\n",
       "      <td>41</td>\n",
       "      <td>-188</td>\n",
       "      <td>-145</td>\n",
       "      <td>22</td>\n",
       "      <td>-117</td>\n",
       "      <td>-6</td>\n",
       "      <td>57</td>\n",
       "      <td>-171</td>\n",
       "      <td>-39</td>\n",
       "      <td>-100</td>\n",
       "      <td>-319</td>\n",
       "      <td>-111</td>\n",
       "      <td>-228</td>\n",
       "      <td>-281</td>\n",
       "      <td>-281</td>\n",
       "      <td>-300</td>\n",
       "      <td>54</td>\n",
       "      <td>-149</td>\n",
       "      <td>-98</td>\n",
       "      <td>-196</td>\n",
       "      <td>-27</td>\n",
       "      <td>-22</td>\n",
       "      <td>2</td>\n",
       "      <td>75</td>\n",
       "      <td>49</td>\n",
       "      <td>-34</td>\n",
       "      <td>45</td>\n",
       "      <td>-91</td>\n",
       "      <td>32</td>\n",
       "      <td>95</td>\n",
       "      <td>-116</td>\n",
       "      <td>85</td>\n",
       "      <td>-23</td>\n",
       "      <td>42</td>\n",
       "      <td>-58</td>\n",
       "      <td>61</td>\n",
       "      <td>-171</td>\n",
       "      <td>...</td>\n",
       "      <td>88</td>\n",
       "      <td>-21</td>\n",
       "      <td>-32</td>\n",
       "      <td>32</td>\n",
       "      <td>-128</td>\n",
       "      <td>-72</td>\n",
       "      <td>-124</td>\n",
       "      <td>-218</td>\n",
       "      <td>-94</td>\n",
       "      <td>53</td>\n",
       "      <td>-79</td>\n",
       "      <td>-20</td>\n",
       "      <td>-35</td>\n",
       "      <td>-26</td>\n",
       "      <td>4</td>\n",
       "      <td>50</td>\n",
       "      <td>17</td>\n",
       "      <td>-177</td>\n",
       "      <td>-102</td>\n",
       "      <td>-121</td>\n",
       "      <td>-66</td>\n",
       "      <td>-77</td>\n",
       "      <td>51</td>\n",
       "      <td>-41</td>\n",
       "      <td>-34</td>\n",
       "      <td>-32</td>\n",
       "      <td>-63</td>\n",
       "      <td>115</td>\n",
       "      <td>-5</td>\n",
       "      <td>-235</td>\n",
       "      <td>-59</td>\n",
       "      <td>-2</td>\n",
       "      <td>52</td>\n",
       "      <td>103</td>\n",
       "      <td>136</td>\n",
       "      <td>169</td>\n",
       "      <td>-61</td>\n",
       "      <td>-136</td>\n",
       "      <td>79</td>\n",
       "      <td>1</td>\n",
       "    </tr>\n",
       "    <tr>\n",
       "      <th>2</th>\n",
       "      <td>3</td>\n",
       "      <td>MUSK-211</td>\n",
       "      <td>211_1+11</td>\n",
       "      <td>46</td>\n",
       "      <td>-194</td>\n",
       "      <td>-145</td>\n",
       "      <td>28</td>\n",
       "      <td>-117</td>\n",
       "      <td>73</td>\n",
       "      <td>57</td>\n",
       "      <td>-168</td>\n",
       "      <td>-39</td>\n",
       "      <td>-22</td>\n",
       "      <td>-319</td>\n",
       "      <td>-111</td>\n",
       "      <td>-104</td>\n",
       "      <td>-283</td>\n",
       "      <td>-282</td>\n",
       "      <td>-303</td>\n",
       "      <td>52</td>\n",
       "      <td>-152</td>\n",
       "      <td>-97</td>\n",
       "      <td>-225</td>\n",
       "      <td>-28</td>\n",
       "      <td>-22</td>\n",
       "      <td>2</td>\n",
       "      <td>179</td>\n",
       "      <td>49</td>\n",
       "      <td>-33</td>\n",
       "      <td>46</td>\n",
       "      <td>-88</td>\n",
       "      <td>22</td>\n",
       "      <td>79</td>\n",
       "      <td>-116</td>\n",
       "      <td>19</td>\n",
       "      <td>-11</td>\n",
       "      <td>6</td>\n",
       "      <td>-38</td>\n",
       "      <td>71</td>\n",
       "      <td>-175</td>\n",
       "      <td>...</td>\n",
       "      <td>64</td>\n",
       "      <td>0</td>\n",
       "      <td>-23</td>\n",
       "      <td>-15</td>\n",
       "      <td>-129</td>\n",
       "      <td>-74</td>\n",
       "      <td>-125</td>\n",
       "      <td>-221</td>\n",
       "      <td>-93</td>\n",
       "      <td>53</td>\n",
       "      <td>-72</td>\n",
       "      <td>-19</td>\n",
       "      <td>-33</td>\n",
       "      <td>-26</td>\n",
       "      <td>3</td>\n",
       "      <td>49</td>\n",
       "      <td>17</td>\n",
       "      <td>-177</td>\n",
       "      <td>-102</td>\n",
       "      <td>-119</td>\n",
       "      <td>-66</td>\n",
       "      <td>-81</td>\n",
       "      <td>51</td>\n",
       "      <td>-41</td>\n",
       "      <td>-27</td>\n",
       "      <td>-41</td>\n",
       "      <td>-140</td>\n",
       "      <td>77</td>\n",
       "      <td>-163</td>\n",
       "      <td>-238</td>\n",
       "      <td>-134</td>\n",
       "      <td>-154</td>\n",
       "      <td>57</td>\n",
       "      <td>143</td>\n",
       "      <td>142</td>\n",
       "      <td>165</td>\n",
       "      <td>-67</td>\n",
       "      <td>-145</td>\n",
       "      <td>39</td>\n",
       "      <td>1</td>\n",
       "    </tr>\n",
       "    <tr>\n",
       "      <th>3</th>\n",
       "      <td>4</td>\n",
       "      <td>MUSK-211</td>\n",
       "      <td>211_1+12</td>\n",
       "      <td>41</td>\n",
       "      <td>-188</td>\n",
       "      <td>-145</td>\n",
       "      <td>22</td>\n",
       "      <td>-117</td>\n",
       "      <td>-7</td>\n",
       "      <td>57</td>\n",
       "      <td>-170</td>\n",
       "      <td>-39</td>\n",
       "      <td>-99</td>\n",
       "      <td>-319</td>\n",
       "      <td>-111</td>\n",
       "      <td>-228</td>\n",
       "      <td>-282</td>\n",
       "      <td>-281</td>\n",
       "      <td>-301</td>\n",
       "      <td>54</td>\n",
       "      <td>-150</td>\n",
       "      <td>-98</td>\n",
       "      <td>-196</td>\n",
       "      <td>-28</td>\n",
       "      <td>-22</td>\n",
       "      <td>2</td>\n",
       "      <td>77</td>\n",
       "      <td>48</td>\n",
       "      <td>-34</td>\n",
       "      <td>46</td>\n",
       "      <td>-91</td>\n",
       "      <td>32</td>\n",
       "      <td>94</td>\n",
       "      <td>-116</td>\n",
       "      <td>84</td>\n",
       "      <td>-23</td>\n",
       "      <td>41</td>\n",
       "      <td>-58</td>\n",
       "      <td>62</td>\n",
       "      <td>-171</td>\n",
       "      <td>...</td>\n",
       "      <td>88</td>\n",
       "      <td>-20</td>\n",
       "      <td>-32</td>\n",
       "      <td>32</td>\n",
       "      <td>-128</td>\n",
       "      <td>-73</td>\n",
       "      <td>-125</td>\n",
       "      <td>-220</td>\n",
       "      <td>-93</td>\n",
       "      <td>53</td>\n",
       "      <td>-78</td>\n",
       "      <td>-19</td>\n",
       "      <td>-34</td>\n",
       "      <td>-26</td>\n",
       "      <td>4</td>\n",
       "      <td>50</td>\n",
       "      <td>17</td>\n",
       "      <td>-177</td>\n",
       "      <td>-101</td>\n",
       "      <td>-121</td>\n",
       "      <td>-65</td>\n",
       "      <td>-77</td>\n",
       "      <td>52</td>\n",
       "      <td>-41</td>\n",
       "      <td>-34</td>\n",
       "      <td>-32</td>\n",
       "      <td>-66</td>\n",
       "      <td>115</td>\n",
       "      <td>-7</td>\n",
       "      <td>-236</td>\n",
       "      <td>-60</td>\n",
       "      <td>-4</td>\n",
       "      <td>52</td>\n",
       "      <td>104</td>\n",
       "      <td>136</td>\n",
       "      <td>168</td>\n",
       "      <td>-60</td>\n",
       "      <td>-135</td>\n",
       "      <td>80</td>\n",
       "      <td>1</td>\n",
       "    </tr>\n",
       "    <tr>\n",
       "      <th>4</th>\n",
       "      <td>5</td>\n",
       "      <td>MUSK-211</td>\n",
       "      <td>211_1+13</td>\n",
       "      <td>41</td>\n",
       "      <td>-188</td>\n",
       "      <td>-145</td>\n",
       "      <td>22</td>\n",
       "      <td>-117</td>\n",
       "      <td>-7</td>\n",
       "      <td>57</td>\n",
       "      <td>-170</td>\n",
       "      <td>-39</td>\n",
       "      <td>-99</td>\n",
       "      <td>-319</td>\n",
       "      <td>-111</td>\n",
       "      <td>-228</td>\n",
       "      <td>-282</td>\n",
       "      <td>-281</td>\n",
       "      <td>-301</td>\n",
       "      <td>54</td>\n",
       "      <td>-150</td>\n",
       "      <td>-98</td>\n",
       "      <td>-196</td>\n",
       "      <td>-28</td>\n",
       "      <td>-22</td>\n",
       "      <td>2</td>\n",
       "      <td>78</td>\n",
       "      <td>48</td>\n",
       "      <td>-34</td>\n",
       "      <td>46</td>\n",
       "      <td>-91</td>\n",
       "      <td>31</td>\n",
       "      <td>94</td>\n",
       "      <td>-116</td>\n",
       "      <td>84</td>\n",
       "      <td>-23</td>\n",
       "      <td>41</td>\n",
       "      <td>-58</td>\n",
       "      <td>62</td>\n",
       "      <td>-171</td>\n",
       "      <td>...</td>\n",
       "      <td>88</td>\n",
       "      <td>-20</td>\n",
       "      <td>-32</td>\n",
       "      <td>32</td>\n",
       "      <td>-128</td>\n",
       "      <td>-73</td>\n",
       "      <td>-125</td>\n",
       "      <td>-220</td>\n",
       "      <td>-93</td>\n",
       "      <td>53</td>\n",
       "      <td>-78</td>\n",
       "      <td>-19</td>\n",
       "      <td>-34</td>\n",
       "      <td>-26</td>\n",
       "      <td>4</td>\n",
       "      <td>50</td>\n",
       "      <td>17</td>\n",
       "      <td>-177</td>\n",
       "      <td>-101</td>\n",
       "      <td>-121</td>\n",
       "      <td>-65</td>\n",
       "      <td>-76</td>\n",
       "      <td>52</td>\n",
       "      <td>-41</td>\n",
       "      <td>-34</td>\n",
       "      <td>-32</td>\n",
       "      <td>-66</td>\n",
       "      <td>115</td>\n",
       "      <td>-8</td>\n",
       "      <td>-236</td>\n",
       "      <td>-60</td>\n",
       "      <td>-4</td>\n",
       "      <td>52</td>\n",
       "      <td>104</td>\n",
       "      <td>137</td>\n",
       "      <td>168</td>\n",
       "      <td>-60</td>\n",
       "      <td>-135</td>\n",
       "      <td>80</td>\n",
       "      <td>1</td>\n",
       "    </tr>\n",
       "  </tbody>\n",
       "</table>\n",
       "<p>5 rows × 170 columns</p>\n",
       "</div>"
      ],
      "text/plain": [
       "   ID molecule_name conformation_name  f1   f2  ...  f163  f164  f165  f166  class\n",
       "0   1      MUSK-211           211_1+1  46 -108  ...   156   -50  -112    96      1\n",
       "1   2      MUSK-211          211_1+10  41 -188  ...   169   -61  -136    79      1\n",
       "2   3      MUSK-211          211_1+11  46 -194  ...   165   -67  -145    39      1\n",
       "3   4      MUSK-211          211_1+12  41 -188  ...   168   -60  -135    80      1\n",
       "4   5      MUSK-211          211_1+13  41 -188  ...   168   -60  -135    80      1\n",
       "\n",
       "[5 rows x 170 columns]"
      ]
     },
     "execution_count": 145,
     "metadata": {
      "tags": []
     },
     "output_type": "execute_result"
    }
   ],
   "source": [
    "df.head()"
   ]
  },
  {
   "cell_type": "markdown",
   "metadata": {
    "colab_type": "text",
    "id": "XPL4PBbyBVdG"
   },
   "source": [
    "### Seperating Features (Input) and Output (Labels) for training\n",
    "here I have taken molecule_name as output / labels"
   ]
  },
  {
   "cell_type": "code",
   "execution_count": 0,
   "metadata": {
    "colab": {},
    "colab_type": "code",
    "id": "1Pw18ePsocdd"
   },
   "outputs": [],
   "source": [
    "X = df.iloc[:, 3:-1].values"
   ]
  },
  {
   "cell_type": "code",
   "execution_count": 147,
   "metadata": {
    "colab": {
     "base_uri": "https://localhost:8080/",
     "height": 34
    },
    "colab_type": "code",
    "id": "K-jUVbQJpN_J",
    "outputId": "2f42273b-0c04-4881-fbc2-bd8f292869f1"
   },
   "outputs": [
    {
     "data": {
      "text/plain": [
       "(6598, 166)"
      ]
     },
     "execution_count": 147,
     "metadata": {
      "tags": []
     },
     "output_type": "execute_result"
    }
   ],
   "source": [
    "X.shape"
   ]
  },
  {
   "cell_type": "code",
   "execution_count": 0,
   "metadata": {
    "colab": {},
    "colab_type": "code",
    "id": "Dpnaab7fqQhJ"
   },
   "outputs": [],
   "source": [
    "y = df.iloc[:, 1].values"
   ]
  },
  {
   "cell_type": "code",
   "execution_count": 149,
   "metadata": {
    "colab": {
     "base_uri": "https://localhost:8080/",
     "height": 34
    },
    "colab_type": "code",
    "id": "tK6zgEjAfH1X",
    "outputId": "1225e317-7c74-40ee-a654-dd1292d0e2d0"
   },
   "outputs": [
    {
     "data": {
      "text/plain": [
       "(102,)"
      ]
     },
     "execution_count": 149,
     "metadata": {
      "tags": []
     },
     "output_type": "execute_result"
    }
   ],
   "source": [
    "np.unique(y).shape"
   ]
  },
  {
   "cell_type": "markdown",
   "metadata": {
    "colab_type": "text",
    "id": "Za7A-SMSBsVK"
   },
   "source": [
    "### One Hot Encoding the labels for training"
   ]
  },
  {
   "cell_type": "code",
   "execution_count": 0,
   "metadata": {
    "colab": {},
    "colab_type": "code",
    "id": "jS4lO8FWevvz"
   },
   "outputs": [],
   "source": [
    "from sklearn.preprocessing import OneHotEncoder\n",
    "y = OneHotEncoder().fit_transform(y.reshape(-1, 1)).toarray()"
   ]
  },
  {
   "cell_type": "markdown",
   "metadata": {
    "colab_type": "text",
    "id": "xpWQW81KBwpH"
   },
   "source": [
    "### Scaling the data using StandardScaler"
   ]
  },
  {
   "cell_type": "code",
   "execution_count": 0,
   "metadata": {
    "colab": {},
    "colab_type": "code",
    "id": "5YtB7gARsdha"
   },
   "outputs": [],
   "source": [
    "from sklearn.preprocessing import StandardScaler\n",
    "X = StandardScaler().fit_transform(X)"
   ]
  },
  {
   "cell_type": "markdown",
   "metadata": {
    "colab_type": "text",
    "id": "1_L30ORuByZa"
   },
   "source": [
    "### Spliting the dataset into training and testing set (Ratio 80:20)"
   ]
  },
  {
   "cell_type": "code",
   "execution_count": 0,
   "metadata": {
    "colab": {},
    "colab_type": "code",
    "id": "QsnDuBVsqYsX"
   },
   "outputs": [],
   "source": [
    "from sklearn.model_selection import train_test_split\n",
    "X_train, X_test, y_train, y_test = train_test_split(X, y, train_size=0.8, test_size=0.2)"
   ]
  },
  {
   "cell_type": "markdown",
   "metadata": {
    "colab_type": "text",
    "id": "yWYLJtkXB3DK"
   },
   "source": [
    "### Importing Sequential model and Dense Layer from keras"
   ]
  },
  {
   "cell_type": "code",
   "execution_count": 0,
   "metadata": {
    "colab": {},
    "colab_type": "code",
    "id": "mbXpPhQyrlxt"
   },
   "outputs": [],
   "source": [
    "from keras import Sequential\n",
    "from keras.layers import Dense"
   ]
  },
  {
   "cell_type": "markdown",
   "metadata": {
    "colab_type": "text",
    "id": "fM8X5098B6om"
   },
   "source": [
    "### Making model for training"
   ]
  },
  {
   "cell_type": "code",
   "execution_count": 0,
   "metadata": {
    "colab": {},
    "colab_type": "code",
    "id": "R_UquosurvSL"
   },
   "outputs": [],
   "source": [
    "model = Sequential()\n",
    "model.add(Dense(300, activation='softmax'))\n",
    "model.add(Dense(200, activation='relu'))\n",
    "model.add(Dense(102, activation='sigmoid'))\n",
    "model.compile(optimizer='adam', loss='mse', metrics=['accuracy'])"
   ]
  },
  {
   "cell_type": "markdown",
   "metadata": {
    "colab_type": "text",
    "id": "jGsNti5FB9v7"
   },
   "source": [
    "### Training on train set generated above and using test set as validation data over 20 epochs"
   ]
  },
  {
   "cell_type": "code",
   "execution_count": 155,
   "metadata": {
    "colab": {
     "base_uri": "https://localhost:8080/",
     "height": 1000
    },
    "colab_type": "code",
    "id": "bxf_asaxsINQ",
    "outputId": "0645c898-e029-4349-bc29-24c5c6367452"
   },
   "outputs": [
    {
     "name": "stdout",
     "output_type": "stream",
     "text": [
      "Train on 5278 samples, validate on 1320 samples\n",
      "Epoch 1/100\n",
      "5278/5278 [==============================] - 1s 205us/step - loss: 0.0721 - acc: 0.0885 - val_loss: 0.0090 - val_acc: 0.1765\n",
      "Epoch 2/100\n",
      "5278/5278 [==============================] - 1s 104us/step - loss: 0.0086 - acc: 0.2154 - val_loss: 0.0081 - val_acc: 0.2727\n",
      "Epoch 3/100\n",
      "5278/5278 [==============================] - 1s 107us/step - loss: 0.0078 - acc: 0.3175 - val_loss: 0.0073 - val_acc: 0.3985\n",
      "Epoch 4/100\n",
      "5278/5278 [==============================] - 1s 116us/step - loss: 0.0069 - acc: 0.4360 - val_loss: 0.0063 - val_acc: 0.4485\n",
      "Epoch 5/100\n",
      "5278/5278 [==============================] - 1s 127us/step - loss: 0.0059 - acc: 0.5746 - val_loss: 0.0051 - val_acc: 0.6826\n",
      "Epoch 6/100\n",
      "5278/5278 [==============================] - 1s 114us/step - loss: 0.0046 - acc: 0.6787 - val_loss: 0.0040 - val_acc: 0.6992\n",
      "Epoch 7/100\n",
      "5278/5278 [==============================] - 1s 128us/step - loss: 0.0040 - acc: 0.6800 - val_loss: 0.0036 - val_acc: 0.7144\n",
      "Epoch 8/100\n",
      "5278/5278 [==============================] - 1s 117us/step - loss: 0.0036 - acc: 0.6885 - val_loss: 0.0033 - val_acc: 0.7356\n",
      "Epoch 9/100\n",
      "5278/5278 [==============================] - 1s 109us/step - loss: 0.0034 - acc: 0.7124 - val_loss: 0.0031 - val_acc: 0.7477\n",
      "Epoch 10/100\n",
      "5278/5278 [==============================] - 1s 107us/step - loss: 0.0032 - acc: 0.7397 - val_loss: 0.0028 - val_acc: 0.7720\n",
      "Epoch 11/100\n",
      "5278/5278 [==============================] - 1s 110us/step - loss: 0.0029 - acc: 0.7582 - val_loss: 0.0026 - val_acc: 0.7720\n",
      "Epoch 12/100\n",
      "5278/5278 [==============================] - 1s 107us/step - loss: 0.0028 - acc: 0.7637 - val_loss: 0.0025 - val_acc: 0.7833\n",
      "Epoch 13/100\n",
      "5278/5278 [==============================] - 1s 105us/step - loss: 0.0027 - acc: 0.7673 - val_loss: 0.0024 - val_acc: 0.7871\n",
      "Epoch 14/100\n",
      "5278/5278 [==============================] - 1s 105us/step - loss: 0.0026 - acc: 0.7738 - val_loss: 0.0023 - val_acc: 0.7947\n",
      "Epoch 15/100\n",
      "5278/5278 [==============================] - 1s 101us/step - loss: 0.0025 - acc: 0.7821 - val_loss: 0.0023 - val_acc: 0.8015\n",
      "Epoch 16/100\n",
      "5278/5278 [==============================] - 1s 106us/step - loss: 0.0024 - acc: 0.7927 - val_loss: 0.0022 - val_acc: 0.8152\n",
      "Epoch 17/100\n",
      "5278/5278 [==============================] - 1s 103us/step - loss: 0.0024 - acc: 0.8022 - val_loss: 0.0021 - val_acc: 0.8235\n",
      "Epoch 18/100\n",
      "5278/5278 [==============================] - 1s 104us/step - loss: 0.0023 - acc: 0.8109 - val_loss: 0.0020 - val_acc: 0.8288\n",
      "Epoch 19/100\n",
      "5278/5278 [==============================] - 1s 104us/step - loss: 0.0022 - acc: 0.8234 - val_loss: 0.0019 - val_acc: 0.8462\n",
      "Epoch 20/100\n",
      "5278/5278 [==============================] - 1s 115us/step - loss: 0.0021 - acc: 0.8323 - val_loss: 0.0018 - val_acc: 0.8598\n",
      "Epoch 21/100\n",
      "5278/5278 [==============================] - 1s 117us/step - loss: 0.0020 - acc: 0.8395 - val_loss: 0.0017 - val_acc: 0.8629\n",
      "Epoch 22/100\n",
      "5278/5278 [==============================] - 1s 112us/step - loss: 0.0019 - acc: 0.8429 - val_loss: 0.0017 - val_acc: 0.8583\n",
      "Epoch 23/100\n",
      "5278/5278 [==============================] - 1s 112us/step - loss: 0.0018 - acc: 0.8480 - val_loss: 0.0017 - val_acc: 0.8576\n",
      "Epoch 24/100\n",
      "5278/5278 [==============================] - 1s 114us/step - loss: 0.0018 - acc: 0.8511 - val_loss: 0.0016 - val_acc: 0.8697\n",
      "Epoch 25/100\n",
      "5278/5278 [==============================] - 1s 114us/step - loss: 0.0017 - acc: 0.8528 - val_loss: 0.0016 - val_acc: 0.8727\n",
      "Epoch 26/100\n",
      "5278/5278 [==============================] - 1s 108us/step - loss: 0.0017 - acc: 0.8571 - val_loss: 0.0015 - val_acc: 0.8727\n",
      "Epoch 27/100\n",
      "5278/5278 [==============================] - 1s 111us/step - loss: 0.0017 - acc: 0.8628 - val_loss: 0.0015 - val_acc: 0.8758\n",
      "Epoch 28/100\n",
      "5278/5278 [==============================] - 1s 111us/step - loss: 0.0016 - acc: 0.8693 - val_loss: 0.0015 - val_acc: 0.8788\n",
      "Epoch 29/100\n",
      "5278/5278 [==============================] - 1s 112us/step - loss: 0.0016 - acc: 0.8719 - val_loss: 0.0014 - val_acc: 0.8864\n",
      "Epoch 30/100\n",
      "5278/5278 [==============================] - 1s 112us/step - loss: 0.0015 - acc: 0.8767 - val_loss: 0.0014 - val_acc: 0.8955\n",
      "Epoch 31/100\n",
      "5278/5278 [==============================] - 1s 112us/step - loss: 0.0015 - acc: 0.8803 - val_loss: 0.0014 - val_acc: 0.8932\n",
      "Epoch 32/100\n",
      "5278/5278 [==============================] - 1s 109us/step - loss: 0.0014 - acc: 0.8880 - val_loss: 0.0013 - val_acc: 0.8939\n",
      "Epoch 33/100\n",
      "5278/5278 [==============================] - 1s 110us/step - loss: 0.0014 - acc: 0.8907 - val_loss: 0.0013 - val_acc: 0.8985\n",
      "Epoch 34/100\n",
      "5278/5278 [==============================] - 1s 107us/step - loss: 0.0014 - acc: 0.8941 - val_loss: 0.0013 - val_acc: 0.9091\n",
      "Epoch 35/100\n",
      "5278/5278 [==============================] - 1s 110us/step - loss: 0.0013 - acc: 0.9003 - val_loss: 0.0012 - val_acc: 0.9114\n",
      "Epoch 36/100\n",
      "5278/5278 [==============================] - 1s 107us/step - loss: 0.0013 - acc: 0.8994 - val_loss: 0.0012 - val_acc: 0.8985\n",
      "Epoch 37/100\n",
      "5278/5278 [==============================] - 1s 111us/step - loss: 0.0012 - acc: 0.9049 - val_loss: 0.0012 - val_acc: 0.9114\n",
      "Epoch 38/100\n",
      "5278/5278 [==============================] - 1s 109us/step - loss: 0.0012 - acc: 0.9062 - val_loss: 0.0011 - val_acc: 0.9189\n",
      "Epoch 39/100\n",
      "5278/5278 [==============================] - 1s 102us/step - loss: 0.0012 - acc: 0.9100 - val_loss: 0.0011 - val_acc: 0.9114\n",
      "Epoch 40/100\n",
      "5278/5278 [==============================] - 1s 104us/step - loss: 0.0011 - acc: 0.9108 - val_loss: 0.0011 - val_acc: 0.9083\n",
      "Epoch 41/100\n",
      "5278/5278 [==============================] - 1s 102us/step - loss: 0.0011 - acc: 0.9117 - val_loss: 0.0010 - val_acc: 0.9220\n",
      "Epoch 42/100\n",
      "5278/5278 [==============================] - 1s 104us/step - loss: 0.0011 - acc: 0.9140 - val_loss: 0.0010 - val_acc: 0.9235\n",
      "Epoch 43/100\n",
      "5278/5278 [==============================] - 1s 103us/step - loss: 0.0011 - acc: 0.9178 - val_loss: 0.0010 - val_acc: 0.9205\n",
      "Epoch 44/100\n",
      "5278/5278 [==============================] - 1s 110us/step - loss: 0.0010 - acc: 0.9183 - val_loss: 9.8488e-04 - val_acc: 0.9235\n",
      "Epoch 45/100\n",
      "5278/5278 [==============================] - 1s 100us/step - loss: 0.0010 - acc: 0.9212 - val_loss: 9.4338e-04 - val_acc: 0.9318\n",
      "Epoch 46/100\n",
      "5278/5278 [==============================] - 1s 104us/step - loss: 0.0010 - acc: 0.9238 - val_loss: 9.2412e-04 - val_acc: 0.9288\n",
      "Epoch 47/100\n",
      "5278/5278 [==============================] - 1s 102us/step - loss: 9.7532e-04 - acc: 0.9261 - val_loss: 9.1366e-04 - val_acc: 0.9258\n",
      "Epoch 48/100\n",
      "5278/5278 [==============================] - 1s 101us/step - loss: 9.4960e-04 - acc: 0.9255 - val_loss: 8.9196e-04 - val_acc: 0.9295\n",
      "Epoch 49/100\n",
      "5278/5278 [==============================] - 1s 97us/step - loss: 9.4342e-04 - acc: 0.9297 - val_loss: 8.9865e-04 - val_acc: 0.9250\n",
      "Epoch 50/100\n",
      "5278/5278 [==============================] - 1s 101us/step - loss: 9.2465e-04 - acc: 0.9301 - val_loss: 8.9471e-04 - val_acc: 0.9295\n",
      "Epoch 51/100\n",
      "5278/5278 [==============================] - 1s 96us/step - loss: 9.1281e-04 - acc: 0.9324 - val_loss: 8.4649e-04 - val_acc: 0.9394\n",
      "Epoch 52/100\n",
      "5278/5278 [==============================] - 1s 106us/step - loss: 8.7057e-04 - acc: 0.9343 - val_loss: 8.3019e-04 - val_acc: 0.9341\n",
      "Epoch 53/100\n",
      "5278/5278 [==============================] - 1s 100us/step - loss: 8.3442e-04 - acc: 0.9362 - val_loss: 7.9317e-04 - val_acc: 0.9439\n",
      "Epoch 54/100\n",
      "5278/5278 [==============================] - 1s 100us/step - loss: 8.1915e-04 - acc: 0.9401 - val_loss: 7.8218e-04 - val_acc: 0.9432\n",
      "Epoch 55/100\n",
      "5278/5278 [==============================] - 1s 98us/step - loss: 7.9681e-04 - acc: 0.9430 - val_loss: 7.4862e-04 - val_acc: 0.9462\n",
      "Epoch 56/100\n",
      "5278/5278 [==============================] - 1s 104us/step - loss: 7.8246e-04 - acc: 0.9432 - val_loss: 7.1868e-04 - val_acc: 0.9470\n",
      "Epoch 57/100\n",
      "5278/5278 [==============================] - 1s 105us/step - loss: 7.2971e-04 - acc: 0.9464 - val_loss: 7.0503e-04 - val_acc: 0.9500\n",
      "Epoch 58/100\n",
      "5278/5278 [==============================] - 1s 103us/step - loss: 7.1295e-04 - acc: 0.9479 - val_loss: 7.0449e-04 - val_acc: 0.9485\n",
      "Epoch 59/100\n",
      "5278/5278 [==============================] - 1s 103us/step - loss: 6.9688e-04 - acc: 0.9507 - val_loss: 6.9467e-04 - val_acc: 0.9492\n",
      "Epoch 60/100\n",
      "5278/5278 [==============================] - 1s 102us/step - loss: 6.9741e-04 - acc: 0.9500 - val_loss: 6.7030e-04 - val_acc: 0.9523\n",
      "Epoch 61/100\n",
      "5278/5278 [==============================] - 1s 101us/step - loss: 6.6921e-04 - acc: 0.9536 - val_loss: 6.4756e-04 - val_acc: 0.9492\n",
      "Epoch 62/100\n",
      "5278/5278 [==============================] - 1s 102us/step - loss: 6.5028e-04 - acc: 0.9532 - val_loss: 6.1363e-04 - val_acc: 0.9545\n",
      "Epoch 63/100\n",
      "5278/5278 [==============================] - 1s 110us/step - loss: 6.5434e-04 - acc: 0.9521 - val_loss: 6.6766e-04 - val_acc: 0.9485\n",
      "Epoch 64/100\n",
      "5278/5278 [==============================] - 1s 105us/step - loss: 6.2795e-04 - acc: 0.9543 - val_loss: 6.4245e-04 - val_acc: 0.9515\n",
      "Epoch 65/100\n",
      "5278/5278 [==============================] - 1s 102us/step - loss: 6.1879e-04 - acc: 0.9545 - val_loss: 5.9590e-04 - val_acc: 0.9523\n",
      "Epoch 66/100\n",
      "5278/5278 [==============================] - 1s 103us/step - loss: 5.9559e-04 - acc: 0.9583 - val_loss: 5.9224e-04 - val_acc: 0.9545\n",
      "Epoch 67/100\n",
      "5278/5278 [==============================] - 1s 104us/step - loss: 5.9079e-04 - acc: 0.9557 - val_loss: 5.9359e-04 - val_acc: 0.9530\n",
      "Epoch 68/100\n",
      "5278/5278 [==============================] - 1s 107us/step - loss: 5.5369e-04 - acc: 0.9600 - val_loss: 5.7911e-04 - val_acc: 0.9538\n",
      "Epoch 69/100\n",
      "5278/5278 [==============================] - 1s 123us/step - loss: 5.4241e-04 - acc: 0.9596 - val_loss: 6.1077e-04 - val_acc: 0.9545\n",
      "Epoch 70/100\n",
      "5278/5278 [==============================] - 1s 105us/step - loss: 5.5747e-04 - acc: 0.9589 - val_loss: 5.6897e-04 - val_acc: 0.9591\n",
      "Epoch 71/100\n",
      "5278/5278 [==============================] - 1s 103us/step - loss: 5.2862e-04 - acc: 0.9612 - val_loss: 5.4684e-04 - val_acc: 0.9576\n",
      "Epoch 72/100\n",
      "5278/5278 [==============================] - 1s 104us/step - loss: 5.2281e-04 - acc: 0.9596 - val_loss: 5.3006e-04 - val_acc: 0.9591\n",
      "Epoch 73/100\n",
      "5278/5278 [==============================] - 1s 100us/step - loss: 5.0989e-04 - acc: 0.9619 - val_loss: 5.2203e-04 - val_acc: 0.9606\n",
      "Epoch 74/100\n",
      "5278/5278 [==============================] - 1s 102us/step - loss: 5.0179e-04 - acc: 0.9632 - val_loss: 5.1559e-04 - val_acc: 0.9652\n",
      "Epoch 75/100\n",
      "5278/5278 [==============================] - 1s 102us/step - loss: 4.7685e-04 - acc: 0.9636 - val_loss: 5.1909e-04 - val_acc: 0.9598\n",
      "Epoch 76/100\n",
      "5278/5278 [==============================] - 1s 104us/step - loss: 4.9571e-04 - acc: 0.9617 - val_loss: 5.1871e-04 - val_acc: 0.9614\n",
      "Epoch 77/100\n",
      "5278/5278 [==============================] - 1s 110us/step - loss: 4.6765e-04 - acc: 0.9638 - val_loss: 4.9720e-04 - val_acc: 0.9621\n",
      "Epoch 78/100\n",
      "5278/5278 [==============================] - 1s 107us/step - loss: 4.5346e-04 - acc: 0.9648 - val_loss: 5.0963e-04 - val_acc: 0.9621\n",
      "Epoch 79/100\n",
      "5278/5278 [==============================] - 1s 103us/step - loss: 4.9077e-04 - acc: 0.9646 - val_loss: 5.4378e-04 - val_acc: 0.9598\n",
      "Epoch 80/100\n",
      "5278/5278 [==============================] - 1s 102us/step - loss: 4.6461e-04 - acc: 0.9655 - val_loss: 5.4150e-04 - val_acc: 0.9606\n",
      "Epoch 81/100\n",
      "5278/5278 [==============================] - 1s 99us/step - loss: 4.6367e-04 - acc: 0.9640 - val_loss: 5.2001e-04 - val_acc: 0.9652\n",
      "Epoch 82/100\n",
      "5278/5278 [==============================] - 1s 101us/step - loss: 4.3518e-04 - acc: 0.9685 - val_loss: 4.6502e-04 - val_acc: 0.9652\n",
      "Epoch 83/100\n",
      "5278/5278 [==============================] - 1s 99us/step - loss: 4.1202e-04 - acc: 0.9685 - val_loss: 4.5623e-04 - val_acc: 0.9674\n",
      "Epoch 84/100\n",
      "5278/5278 [==============================] - 1s 100us/step - loss: 4.0384e-04 - acc: 0.9687 - val_loss: 4.5549e-04 - val_acc: 0.9667\n",
      "Epoch 85/100\n",
      "5278/5278 [==============================] - 1s 102us/step - loss: 4.0573e-04 - acc: 0.9685 - val_loss: 4.4308e-04 - val_acc: 0.9682\n",
      "Epoch 86/100\n",
      "5278/5278 [==============================] - 1s 104us/step - loss: 4.0670e-04 - acc: 0.9697 - val_loss: 4.7416e-04 - val_acc: 0.9644\n",
      "Epoch 87/100\n",
      "5278/5278 [==============================] - 1s 100us/step - loss: 4.0691e-04 - acc: 0.9699 - val_loss: 4.6476e-04 - val_acc: 0.9644\n",
      "Epoch 88/100\n",
      "5278/5278 [==============================] - 1s 106us/step - loss: 3.9185e-04 - acc: 0.9699 - val_loss: 4.7525e-04 - val_acc: 0.9644\n",
      "Epoch 89/100\n",
      "5278/5278 [==============================] - 1s 101us/step - loss: 4.1262e-04 - acc: 0.9703 - val_loss: 4.4979e-04 - val_acc: 0.9697\n",
      "Epoch 90/100\n",
      "5278/5278 [==============================] - 1s 99us/step - loss: 3.8701e-04 - acc: 0.9716 - val_loss: 4.3062e-04 - val_acc: 0.9667\n",
      "Epoch 91/100\n",
      "5278/5278 [==============================] - 1s 102us/step - loss: 3.7798e-04 - acc: 0.9708 - val_loss: 4.7287e-04 - val_acc: 0.9652\n",
      "Epoch 92/100\n",
      "5278/5278 [==============================] - 1s 101us/step - loss: 3.9345e-04 - acc: 0.9716 - val_loss: 4.3890e-04 - val_acc: 0.9652\n",
      "Epoch 93/100\n",
      "5278/5278 [==============================] - 1s 101us/step - loss: 3.9458e-04 - acc: 0.9697 - val_loss: 5.2489e-04 - val_acc: 0.9606\n",
      "Epoch 94/100\n",
      "5278/5278 [==============================] - 1s 98us/step - loss: 4.1000e-04 - acc: 0.9704 - val_loss: 4.5755e-04 - val_acc: 0.9674\n",
      "Epoch 95/100\n",
      "5278/5278 [==============================] - 1s 100us/step - loss: 3.7744e-04 - acc: 0.9725 - val_loss: 4.2583e-04 - val_acc: 0.9689\n",
      "Epoch 96/100\n",
      "5278/5278 [==============================] - 1s 105us/step - loss: 3.9143e-04 - acc: 0.9727 - val_loss: 4.0967e-04 - val_acc: 0.9705\n",
      "Epoch 97/100\n",
      "5278/5278 [==============================] - 1s 100us/step - loss: 3.3848e-04 - acc: 0.9765 - val_loss: 4.1112e-04 - val_acc: 0.9727\n",
      "Epoch 98/100\n",
      "5278/5278 [==============================] - 1s 99us/step - loss: 3.5556e-04 - acc: 0.9757 - val_loss: 4.1820e-04 - val_acc: 0.9705\n",
      "Epoch 99/100\n",
      "5278/5278 [==============================] - 1s 107us/step - loss: 3.7652e-04 - acc: 0.9729 - val_loss: 4.1601e-04 - val_acc: 0.9712\n",
      "Epoch 100/100\n",
      "5278/5278 [==============================] - 1s 102us/step - loss: 3.3481e-04 - acc: 0.9763 - val_loss: 3.6608e-04 - val_acc: 0.9712\n"
     ]
    },
    {
     "data": {
      "text/plain": [
       "<keras.callbacks.History at 0x7f4285aa7ef0>"
      ]
     },
     "execution_count": 155,
     "metadata": {
      "tags": []
     },
     "output_type": "execute_result"
    }
   ],
   "source": [
    "model.fit(X_train, y_train, verbose=1, validation_data=(X_test, y_test), epochs=100)"
   ]
  },
  {
   "cell_type": "markdown",
   "metadata": {
    "colab_type": "text",
    "id": "Y3WvwT0bB_dn"
   },
   "source": [
    "### Plotting Training vs Validation Accuracy and Loss"
   ]
  },
  {
   "cell_type": "code",
   "execution_count": 0,
   "metadata": {
    "colab": {},
    "colab_type": "code",
    "id": "SmEzqPRUsT-7"
   },
   "outputs": [],
   "source": [
    "train_accuracy = model.history.history['acc']\n",
    "validation_accuracy = model.history.history['val_acc']\n",
    "\n",
    "train_loss = model.history.history['loss']\n",
    "validation_loss = model.history.history['val_loss']"
   ]
  },
  {
   "cell_type": "code",
   "execution_count": 157,
   "metadata": {
    "colab": {
     "base_uri": "https://localhost:8080/",
     "height": 265
    },
    "colab_type": "code",
    "id": "8AoCO3k6tQEJ",
    "outputId": "d8257c69-07a5-4c79-c9ac-829df04b1aca"
   },
   "outputs": [
    {
     "data": {
      "image/png": "[encoded data removed]",
      "text/plain": [
       "<Figure size 432x288 with 1 Axes>"
      ]
     },
     "metadata": {
      "tags": []
     },
     "output_type": "display_data"
    }
   ],
   "source": [
    "plt.plot(train_accuracy, label='training accuracy')\n",
    "plt.plot(validation_accuracy, label='validation accuracy')\n",
    "plt.legend()\n",
    "plt.show()"
   ]
  },
  {
   "cell_type": "code",
   "execution_count": 158,
   "metadata": {
    "colab": {
     "base_uri": "https://localhost:8080/",
     "height": 265
    },
    "colab_type": "code",
    "id": "ngN9N80itq-Z",
    "outputId": "4f4f3e60-4349-435e-ffcc-4116ae7b7f2f"
   },
   "outputs": [
    {
     "data": {
      "image/png": "[encoded data removed]",
      "text/plain": [
       "<Figure size 432x288 with 1 Axes>"
      ]
     },
     "metadata": {
      "tags": []
     },
     "output_type": "display_data"
    }
   ],
   "source": [
    "plt.plot(train_loss, label='training loss')\n",
    "plt.plot(validation_loss, label='validation loss')\n",
    "plt.legend()\n",
    "plt.show()"
   ]
  },
  {
   "cell_type": "code",
   "execution_count": 0,
   "metadata": {
    "colab": {},
    "colab_type": "code",
    "id": "nKS4iqAiuRDh"
   },
   "outputs": [],
   "source": [
    "model.save('model_molecule_dnn.h5')"
   ]
  },
  {
   "cell_type": "markdown",
   "metadata": {
    "colab_type": "text",
    "id": "FtrpQPWKCHBN"
   },
   "source": [
    "### Generating Classification Report and Confusion matrix"
   ]
  },
  {
   "cell_type": "code",
   "execution_count": 0,
   "metadata": {
    "colab": {},
    "colab_type": "code",
    "id": "wGkDzH_BuZ64"
   },
   "outputs": [],
   "source": [
    "y_hat = model.predict(X_test)"
   ]
  },
  {
   "cell_type": "code",
   "execution_count": 0,
   "metadata": {
    "colab": {},
    "colab_type": "code",
    "id": "uHHUOrEidiHI"
   },
   "outputs": [],
   "source": [
    "y_hat_i = []\n",
    "y_test_i = []\n",
    "for i in range(len(y_test)):\n",
    "  y_hat_i.append(np.argmax(y_hat[i]))\n",
    "  y_test_i.append(np.argmax(y_test[i]))\n"
   ]
  },
  {
   "cell_type": "code",
   "execution_count": 0,
   "metadata": {
    "colab": {},
    "colab_type": "code",
    "id": "Bg-mA6ypeF_Y"
   },
   "outputs": [],
   "source": [
    "y_hat_i = np.array(y_hat_i)\n",
    "y_test_i = np.array(y_test_i)"
   ]
  },
  {
   "cell_type": "code",
   "execution_count": 163,
   "metadata": {
    "colab": {
     "base_uri": "https://localhost:8080/",
     "height": 51
    },
    "colab_type": "code",
    "id": "PysaYfmXob53",
    "outputId": "579c5bb1-9f20-45d3-ce1f-b932a1d32c2a"
   },
   "outputs": [
    {
     "name": "stdout",
     "output_type": "stream",
     "text": [
      "Accuracy = \n"
     ]
    },
    {
     "data": {
      "text/plain": [
       "0.9712121212121212"
      ]
     },
     "execution_count": 163,
     "metadata": {
      "tags": []
     },
     "output_type": "execute_result"
    }
   ],
   "source": [
    "print(\"Accuracy = \")\n",
    "sum((y_hat_i == y_test_i).astype(int))/len(y_test_i)"
   ]
  },
  {
   "cell_type": "code",
   "execution_count": 164,
   "metadata": {
    "colab": {
     "base_uri": "https://localhost:8080/",
     "height": 1000
    },
    "colab_type": "code",
    "id": "f1DOARmCeGre",
    "outputId": "2d2aa910-3629-4c51-b281-2474781601c0"
   },
   "outputs": [
    {
     "name": "stdout",
     "output_type": "stream",
     "text": [
      "              precision    recall  f1-score   support\n",
      "\n",
      "           0       1.00      1.00      1.00         2\n",
      "           1       1.00      1.00      1.00         3\n",
      "           2       1.00      1.00      1.00        14\n",
      "           3       1.00      1.00      1.00         5\n",
      "           4       1.00      1.00      1.00        12\n",
      "           5       1.00      1.00      1.00        47\n",
      "           6       1.00      1.00      1.00         1\n",
      "           7       1.00      1.00      1.00         3\n",
      "           8       1.00      1.00      1.00         4\n",
      "           9       0.00      0.00      0.00         2\n",
      "          10       1.00      1.00      1.00        13\n",
      "          11       1.00      1.00      1.00         7\n",
      "          12       0.20      0.33      0.25         3\n",
      "          13       1.00      1.00      1.00         2\n",
      "          14       0.79      1.00      0.88        11\n",
      "          15       0.00      0.00      0.00         3\n",
      "          18       1.00      0.67      0.80         3\n",
      "          20       1.00      1.00      1.00         4\n",
      "          21       1.00      1.00      1.00         1\n",
      "          22       0.50      1.00      0.67         1\n",
      "          23       0.00      0.00      0.00         3\n",
      "          24       1.00      1.00      1.00         4\n",
      "          25       0.00      0.00      0.00         1\n",
      "          26       1.00      1.00      1.00         7\n",
      "          27       1.00      1.00      1.00         9\n",
      "          28       1.00      1.00      1.00         2\n",
      "          29       0.75      1.00      0.86         3\n",
      "          30       0.00      0.00      0.00         1\n",
      "          31       1.00      1.00      1.00         2\n",
      "          33       1.00      1.00      1.00         2\n",
      "          34       0.50      1.00      0.67         2\n",
      "          35       0.75      0.60      0.67         5\n",
      "          36       1.00      0.50      0.67         2\n",
      "          37       1.00      1.00      1.00         6\n",
      "          38       0.00      0.00      0.00         3\n",
      "          39       1.00      1.00      1.00        48\n",
      "          40       1.00      1.00      1.00        54\n",
      "          41       1.00      1.00      1.00         1\n",
      "          43       1.00      1.00      1.00         5\n",
      "          44       1.00      1.00      1.00         6\n",
      "          45       1.00      1.00      1.00         5\n",
      "          46       1.00      1.00      1.00        26\n",
      "          47       1.00      1.00      1.00        12\n",
      "          48       1.00      1.00      1.00         2\n",
      "          49       0.26      0.83      0.40         6\n",
      "          50       1.00      0.95      0.97        20\n",
      "          51       0.82      1.00      0.90         9\n",
      "          52       1.00      1.00      1.00         4\n",
      "          53       1.00      1.00      1.00        28\n",
      "          54       1.00      1.00      1.00       225\n",
      "          55       1.00      1.00      1.00         1\n",
      "          56       1.00      1.00      1.00        16\n",
      "          58       1.00      1.00      1.00        16\n",
      "          59       1.00      1.00      1.00        66\n",
      "          60       0.20      0.17      0.18         6\n",
      "          63       1.00      1.00      1.00         1\n",
      "          64       0.00      0.00      0.00         1\n",
      "          66       0.00      0.00      0.00         1\n",
      "          69       1.00      1.00      1.00         2\n",
      "          71       1.00      1.00      1.00        36\n",
      "          72       1.00      1.00      1.00         3\n",
      "          73       1.00      1.00      1.00         1\n",
      "          74       1.00      1.00      1.00         1\n",
      "          76       0.00      0.00      0.00         1\n",
      "          79       1.00      1.00      1.00         4\n",
      "          80       0.75      1.00      0.86         3\n",
      "          81       1.00      1.00      1.00        68\n",
      "          82       0.00      0.00      0.00         1\n",
      "          83       0.00      0.00      0.00         1\n",
      "          84       1.00      1.00      1.00         5\n",
      "          85       1.00      1.00      1.00        10\n",
      "          86       1.00      1.00      1.00         3\n",
      "          87       0.00      0.00      0.00         1\n",
      "          89       1.00      1.00      1.00       219\n",
      "          90       0.99      1.00      1.00       191\n",
      "          91       0.00      0.00      0.00         1\n",
      "          94       0.00      0.00      0.00         1\n",
      "          95       1.00      1.00      1.00         2\n",
      "          97       0.00      0.00      0.00         0\n",
      "         100       0.00      0.00      0.00         2\n",
      "         101       1.00      0.83      0.91        12\n",
      "\n",
      "    accuracy                           0.97      1320\n",
      "   macro avg       0.75      0.76      0.75      1320\n",
      "weighted avg       0.97      0.97      0.97      1320\n",
      "\n"
     ]
    },
    {
     "name": "stderr",
     "output_type": "stream",
     "text": [
      "/usr/local/lib/python3.6/dist-packages/sklearn/metrics/_classification.py:1272: UndefinedMetricWarning: Precision and F-score are ill-defined and being set to 0.0 in labels with no predicted samples. Use `zero_division` parameter to control this behavior.\n",
      "  _warn_prf(average, modifier, msg_start, len(result))\n",
      "/usr/local/lib/python3.6/dist-packages/sklearn/metrics/_classification.py:1272: UndefinedMetricWarning: Recall and F-score are ill-defined and being set to 0.0 in labels with no true samples. Use `zero_division` parameter to control this behavior.\n",
      "  _warn_prf(average, modifier, msg_start, len(result))\n"
     ]
    }
   ],
   "source": [
    "from sklearn.metrics import classification_report, confusion_matrix\n",
    "print(classification_report(y_test_i, y_hat_i))"
   ]
  },
  {
   "cell_type": "code",
   "execution_count": 165,
   "metadata": {
    "colab": {
     "base_uri": "https://localhost:8080/",
     "height": 136
    },
    "colab_type": "code",
    "id": "uvY61XK5ooX5",
    "outputId": "2e08271a-2605-4dee-9003-23f8bdf86a24"
   },
   "outputs": [
    {
     "data": {
      "text/plain": [
       "array([[ 2,  0,  0, ...,  0,  0,  0],\n",
       "       [ 0,  3,  0, ...,  0,  0,  0],\n",
       "       [ 0,  0, 14, ...,  0,  0,  0],\n",
       "       ...,\n",
       "       [ 0,  0,  0, ...,  0,  0,  0],\n",
       "       [ 0,  0,  0, ...,  2,  0,  0],\n",
       "       [ 0,  0,  0, ...,  0,  0, 10]])"
      ]
     },
     "execution_count": 165,
     "metadata": {
      "tags": []
     },
     "output_type": "execute_result"
    }
   ],
   "source": [
    "confusion_matrix(y_test_i, y_hat_i)"
   ]
  },
  {
   "cell_type": "code",
   "execution_count": 166,
   "metadata": {
    "colab": {
     "base_uri": "https://localhost:8080/",
     "height": 607
    },
    "colab_type": "code",
    "id": "NQ_iJ5RBEJlE",
    "outputId": "33c8bb70-ef0b-438e-8a02-50febdf310ea"
   },
   "outputs": [
    {
     "data": {
      "image/png": "[encoded data removed]",
      "text/plain": [
       "<Figure size 720x720 with 1 Axes>"
      ]
     },
     "metadata": {
      "tags": []
     },
     "output_type": "display_data"
    }
   ],
   "source": [
    "plt.figure(figsize=(10, 10))\n",
    "plt.title(\"Confusion Metrics\")\n",
    "plt.imshow(confusion_matrix(y_test_i, y_hat_i), cmap='Paired', interpolation='nearest')\n",
    "plt.show()"
   ]
  },
  {
   "cell_type": "code",
   "execution_count": 167,
   "metadata": {
    "colab": {
     "base_uri": "https://localhost:8080/",
     "height": 255
    },
    "colab_type": "code",
    "id": "fnaBQz2BES0V",
    "outputId": "b0e85156-0d0d-4d7c-b26d-982359106fb4"
   },
   "outputs": [
    {
     "name": "stdout",
     "output_type": "stream",
     "text": [
      "Model: \"sequential_4\"\n",
      "_________________________________________________________________\n",
      "Layer (type)                 Output Shape              Param #   \n",
      "=================================================================\n",
      "dense_15 (Dense)             (None, 300)               50100     \n",
      "_________________________________________________________________\n",
      "dense_16 (Dense)             (None, 200)               60200     \n",
      "_________________________________________________________________\n",
      "dense_17 (Dense)             (None, 102)               20502     \n",
      "=================================================================\n",
      "Total params: 130,802\n",
      "Trainable params: 130,802\n",
      "Non-trainable params: 0\n",
      "_________________________________________________________________\n"
     ]
    }
   ],
   "source": [
    "model.summary()"
   ]
  },
  {
   "cell_type": "markdown",
   "metadata": {
    "colab_type": "text",
    "id": "HSX7N7ppmn95"
   },
   "source": [
    "## Using Transfer learning on the previously trained model"
   ]
  },
  {
   "cell_type": "code",
   "execution_count": 0,
   "metadata": {
    "colab": {},
    "colab_type": "code",
    "id": "jZjBWAI2gqeI"
   },
   "outputs": [],
   "source": [
    "# Cerating the new output for musk vs non musk calssification \n",
    "y1 = df.iloc[:, -1].values"
   ]
  },
  {
   "cell_type": "markdown",
   "metadata": {
    "colab_type": "text",
    "id": "tA7CvALum-lG"
   },
   "source": [
    "### Copying the model"
   ]
  },
  {
   "cell_type": "code",
   "execution_count": 0,
   "metadata": {
    "colab": {},
    "colab_type": "code",
    "id": "GNUwJ1-jgzVs"
   },
   "outputs": [],
   "source": [
    "model1 = model"
   ]
  },
  {
   "cell_type": "code",
   "execution_count": 175,
   "metadata": {
    "colab": {
     "base_uri": "https://localhost:8080/",
     "height": 255
    },
    "colab_type": "code",
    "id": "0CYSp1OttY2b",
    "outputId": "6e5a5e3c-c41e-4125-b0f4-9d834fbc1f80"
   },
   "outputs": [
    {
     "name": "stdout",
     "output_type": "stream",
     "text": [
      "Model: \"sequential_4\"\n",
      "_________________________________________________________________\n",
      "Layer (type)                 Output Shape              Param #   \n",
      "=================================================================\n",
      "dense_15 (Dense)             (None, 300)               50100     \n",
      "_________________________________________________________________\n",
      "dense_16 (Dense)             (None, 200)               60200     \n",
      "_________________________________________________________________\n",
      "dense_17 (Dense)             (None, 102)               20502     \n",
      "=================================================================\n",
      "Total params: 130,802\n",
      "Trainable params: 130,802\n",
      "Non-trainable params: 0\n",
      "_________________________________________________________________\n"
     ]
    }
   ],
   "source": [
    "model1.summary()"
   ]
  },
  {
   "cell_type": "markdown",
   "metadata": {
    "colab_type": "text",
    "id": "XXuLCuScnC8a"
   },
   "source": [
    "### Adding the dense layer to the model and compiling it again"
   ]
  },
  {
   "cell_type": "code",
   "execution_count": 0,
   "metadata": {
    "colab": {},
    "colab_type": "code",
    "id": "ZqIIDIOPhSgC"
   },
   "outputs": [],
   "source": [
    "model1.add(Dense(50, activation='relu'))\n",
    "model1.add(Dense(1, activation='sigmoid'))\n",
    "model1.compile(optimizer='adam', loss='mse', metrics=['accuracy'])"
   ]
  },
  {
   "cell_type": "code",
   "execution_count": 177,
   "metadata": {
    "colab": {
     "base_uri": "https://localhost:8080/",
     "height": 323
    },
    "colab_type": "code",
    "id": "iHGEle_EhcAC",
    "outputId": "a64092c3-a335-4a4f-d338-e4992af5e128"
   },
   "outputs": [
    {
     "name": "stdout",
     "output_type": "stream",
     "text": [
      "Model: \"sequential_4\"\n",
      "_________________________________________________________________\n",
      "Layer (type)                 Output Shape              Param #   \n",
      "=================================================================\n",
      "dense_15 (Dense)             (None, 300)               50100     \n",
      "_________________________________________________________________\n",
      "dense_16 (Dense)             (None, 200)               60200     \n",
      "_________________________________________________________________\n",
      "dense_17 (Dense)             (None, 102)               20502     \n",
      "_________________________________________________________________\n",
      "dense_18 (Dense)             (None, 50)                5150      \n",
      "_________________________________________________________________\n",
      "dense_19 (Dense)             (None, 1)                 51        \n",
      "=================================================================\n",
      "Total params: 136,003\n",
      "Trainable params: 136,003\n",
      "Non-trainable params: 0\n",
      "_________________________________________________________________\n"
     ]
    }
   ],
   "source": [
    "model1.summary()"
   ]
  },
  {
   "cell_type": "markdown",
   "metadata": {
    "colab_type": "text",
    "id": "VqVcpCrEnJQ0"
   },
   "source": [
    "### Preparing the dataset for new binary classification"
   ]
  },
  {
   "cell_type": "code",
   "execution_count": 0,
   "metadata": {
    "colab": {},
    "colab_type": "code",
    "id": "dy-1ZK3Mic9v"
   },
   "outputs": [],
   "source": [
    "X_train1, X_test1, y_train1, y_test1 = train_test_split(X, y1, train_size=0.8, test_size=0.2)"
   ]
  },
  {
   "cell_type": "markdown",
   "metadata": {
    "colab_type": "text",
    "id": "e3g8aTOAnQi_"
   },
   "source": [
    "### Training the transfer learning model for 5 epoch"
   ]
  },
  {
   "cell_type": "code",
   "execution_count": 179,
   "metadata": {
    "colab": {
     "base_uri": "https://localhost:8080/",
     "height": 731
    },
    "colab_type": "code",
    "id": "Av5jhNEyhisx",
    "outputId": "2177a96e-851d-44d3-fa4d-20e46bd9a5c9"
   },
   "outputs": [
    {
     "name": "stdout",
     "output_type": "stream",
     "text": [
      "Train on 5278 samples, validate on 1320 samples\n",
      "Epoch 1/20\n",
      "5278/5278 [==============================] - 1s 256us/step - loss: 0.1051 - acc: 0.8899 - val_loss: 0.0385 - val_acc: 0.9682\n",
      "Epoch 2/20\n",
      "5278/5278 [==============================] - 1s 121us/step - loss: 0.0225 - acc: 0.9786 - val_loss: 0.0129 - val_acc: 0.9841\n",
      "Epoch 3/20\n",
      "5278/5278 [==============================] - 1s 122us/step - loss: 0.0118 - acc: 0.9862 - val_loss: 0.0100 - val_acc: 0.9894\n",
      "Epoch 4/20\n",
      "5278/5278 [==============================] - 1s 126us/step - loss: 0.0048 - acc: 0.9964 - val_loss: 0.0069 - val_acc: 0.9939\n",
      "Epoch 5/20\n",
      "5278/5278 [==============================] - 1s 121us/step - loss: 0.0039 - acc: 0.9953 - val_loss: 0.0035 - val_acc: 0.9970\n",
      "Epoch 6/20\n",
      "5278/5278 [==============================] - 1s 127us/step - loss: 0.0017 - acc: 0.9983 - val_loss: 0.0037 - val_acc: 0.9955\n",
      "Epoch 7/20\n",
      "5278/5278 [==============================] - 1s 129us/step - loss: 0.0026 - acc: 0.9972 - val_loss: 0.0030 - val_acc: 0.9962\n",
      "Epoch 8/20\n",
      "5278/5278 [==============================] - 1s 130us/step - loss: 9.0047e-04 - acc: 0.9994 - val_loss: 0.0012 - val_acc: 0.9985\n",
      "Epoch 9/20\n",
      "5278/5278 [==============================] - 1s 126us/step - loss: 5.8339e-04 - acc: 0.9996 - val_loss: 0.0017 - val_acc: 0.9977\n",
      "Epoch 10/20\n",
      "5278/5278 [==============================] - 1s 135us/step - loss: 6.5958e-04 - acc: 0.9994 - val_loss: 7.2237e-04 - val_acc: 0.9985\n",
      "Epoch 11/20\n",
      "5278/5278 [==============================] - 1s 146us/step - loss: 4.2600e-04 - acc: 0.9996 - val_loss: 0.0011 - val_acc: 0.9985\n",
      "Epoch 12/20\n",
      "5278/5278 [==============================] - 1s 132us/step - loss: 8.6198e-04 - acc: 0.9992 - val_loss: 0.0071 - val_acc: 0.9909\n",
      "Epoch 13/20\n",
      "5278/5278 [==============================] - 1s 128us/step - loss: 0.0051 - acc: 0.9945 - val_loss: 0.0043 - val_acc: 0.9939\n",
      "Epoch 14/20\n",
      "5278/5278 [==============================] - 1s 127us/step - loss: 0.0042 - acc: 0.9956 - val_loss: 0.0055 - val_acc: 0.9939\n",
      "Epoch 15/20\n",
      "5278/5278 [==============================] - 1s 124us/step - loss: 0.0022 - acc: 0.9975 - val_loss: 0.0014 - val_acc: 0.9985\n",
      "Epoch 16/20\n",
      "5278/5278 [==============================] - 1s 123us/step - loss: 0.0017 - acc: 0.9981 - val_loss: 0.0092 - val_acc: 0.9886\n",
      "Epoch 17/20\n",
      "5278/5278 [==============================] - 1s 126us/step - loss: 0.0014 - acc: 0.9985 - val_loss: 6.9120e-04 - val_acc: 0.9992\n",
      "Epoch 18/20\n",
      "5278/5278 [==============================] - 1s 122us/step - loss: 7.4306e-05 - acc: 1.0000 - val_loss: 1.2780e-04 - val_acc: 1.0000\n",
      "Epoch 19/20\n",
      "5278/5278 [==============================] - 1s 124us/step - loss: 7.5965e-04 - acc: 0.9991 - val_loss: 2.4574e-04 - val_acc: 1.0000\n",
      "Epoch 20/20\n",
      "5278/5278 [==============================] - 1s 120us/step - loss: 1.6372e-04 - acc: 0.9998 - val_loss: 1.0192e-04 - val_acc: 1.0000\n"
     ]
    },
    {
     "data": {
      "text/plain": [
       "<keras.callbacks.History at 0x7f42805b92e8>"
      ]
     },
     "execution_count": 179,
     "metadata": {
      "tags": []
     },
     "output_type": "execute_result"
    }
   ],
   "source": [
    "model1.fit(X_train1, y_train1, verbose=1, validation_data=(X_test1, y_test1), epochs=20)"
   ]
  },
  {
   "cell_type": "markdown",
   "metadata": {
    "colab_type": "text",
    "id": "pwzOSqECnVAY"
   },
   "source": [
    "### Checking the preformance of the newly created model"
   ]
  },
  {
   "cell_type": "code",
   "execution_count": 0,
   "metadata": {
    "colab": {},
    "colab_type": "code",
    "id": "G2vWVyqji0m2"
   },
   "outputs": [],
   "source": [
    "train_accuracy = model1.history.history['acc']\n",
    "validation_accuracy = model1.history.history['val_acc']\n",
    "\n",
    "train_loss = model1.history.history['loss']\n",
    "validation_loss = model1.history.history['val_loss']"
   ]
  },
  {
   "cell_type": "code",
   "execution_count": 181,
   "metadata": {
    "colab": {
     "base_uri": "https://localhost:8080/",
     "height": 265
    },
    "colab_type": "code",
    "id": "iZUesY7BjCFs",
    "outputId": "e521b4cb-613c-416c-b128-12241b5e469a"
   },
   "outputs": [
    {
     "data": {
      "image/png": "[encoded data removed]",
      "text/plain": [
       "<Figure size 432x288 with 1 Axes>"
      ]
     },
     "metadata": {
      "tags": []
     },
     "output_type": "display_data"
    }
   ],
   "source": [
    "plt.plot(train_accuracy, label='training accuracy')\n",
    "plt.plot(validation_accuracy, label='validation accuracy')\n",
    "plt.legend()\n",
    "plt.show()"
   ]
  },
  {
   "cell_type": "code",
   "execution_count": 182,
   "metadata": {
    "colab": {
     "base_uri": "https://localhost:8080/",
     "height": 265
    },
    "colab_type": "code",
    "id": "D8zQ7OGjjDTR",
    "outputId": "cec30d89-9298-4d73-96be-39525fc4b0b6"
   },
   "outputs": [
    {
     "data": {
      "image/png": "[encoded data removed]",
      "text/plain": [
       "<Figure size 432x288 with 1 Axes>"
      ]
     },
     "metadata": {
      "tags": []
     },
     "output_type": "display_data"
    }
   ],
   "source": [
    "plt.plot(train_loss, label='training loss')\n",
    "plt.plot(validation_loss, label='validation loss')\n",
    "plt.legend()\n",
    "plt.show()"
   ]
  },
  {
   "cell_type": "code",
   "execution_count": 0,
   "metadata": {
    "colab": {},
    "colab_type": "code",
    "id": "gs8YB6xujGNK"
   },
   "outputs": [],
   "source": [
    "y_hat = model1.predict(X_test1)"
   ]
  },
  {
   "cell_type": "code",
   "execution_count": 0,
   "metadata": {
    "colab": {},
    "colab_type": "code",
    "id": "kmf_E4McjM0R"
   },
   "outputs": [],
   "source": [
    "y_hat = (y_hat[:] > 0.5).astype(int).flatten()"
   ]
  },
  {
   "cell_type": "code",
   "execution_count": 0,
   "metadata": {
    "colab": {},
    "colab_type": "code",
    "id": "ZTVAfRIpjNv5"
   },
   "outputs": [],
   "source": [
    "from sklearn.metrics import classification_report, confusion_matrix"
   ]
  },
  {
   "cell_type": "code",
   "execution_count": 186,
   "metadata": {
    "colab": {
     "base_uri": "https://localhost:8080/",
     "height": 170
    },
    "colab_type": "code",
    "id": "4tmD8argjO4B",
    "outputId": "fcdf1f38-4a96-4c21-efc1-600778888d2f"
   },
   "outputs": [
    {
     "name": "stdout",
     "output_type": "stream",
     "text": [
      "              precision    recall  f1-score   support\n",
      "\n",
      "           0       1.00      1.00      1.00      1110\n",
      "           1       1.00      1.00      1.00       210\n",
      "\n",
      "    accuracy                           1.00      1320\n",
      "   macro avg       1.00      1.00      1.00      1320\n",
      "weighted avg       1.00      1.00      1.00      1320\n",
      "\n"
     ]
    }
   ],
   "source": [
    "print(classification_report(y_test1, y_hat))"
   ]
  },
  {
   "cell_type": "code",
   "execution_count": 0,
   "metadata": {
    "colab": {},
    "colab_type": "code",
    "id": "77f7VTjbjRzB"
   },
   "outputs": [],
   "source": [
    "model1.save('model_musk_vs_non_musk_transfer_learning.h5')"
   ]
  },
  {
   "cell_type": "code",
   "execution_count": 194,
   "metadata": {
    "colab": {
     "base_uri": "https://localhost:8080/",
     "height": 51
    },
    "colab_type": "code",
    "id": "pq7ZPlLTnrzx",
    "outputId": "4e8f5513-cd10-4572-c39f-4f8699c18c58"
   },
   "outputs": [
    {
     "name": "stdout",
     "output_type": "stream",
     "text": [
      "Accuracy = \n"
     ]
    },
    {
     "data": {
      "text/plain": [
       "1.0"
      ]
     },
     "execution_count": 194,
     "metadata": {
      "tags": []
     },
     "output_type": "execute_result"
    }
   ],
   "source": [
    "print(\"Accuracy = \")\n",
    "sum((y_hat == y_test1).astype(int))/len(y_hat)"
   ]
  },
  {
   "cell_type": "code",
   "execution_count": 189,
   "metadata": {
    "colab": {
     "base_uri": "https://localhost:8080/",
     "height": 51
    },
    "colab_type": "code",
    "id": "bYxvdYUnqPS2",
    "outputId": "cdcbb241-41f6-4d62-e020-fce750fcb892"
   },
   "outputs": [
    {
     "data": {
      "text/plain": [
       "array([[1110,    0],\n",
       "       [   0,  210]])"
      ]
     },
     "execution_count": 189,
     "metadata": {
      "tags": []
     },
     "output_type": "execute_result"
    }
   ],
   "source": [
    "confusion_matrix(y_test1,y_hat)"
   ]
  },
  {
   "cell_type": "markdown",
   "metadata": {
    "colab_type": "text",
    "id": "_vtu04OAuR_S"
   },
   "source": [
    "### Finally achieved 100% accuracy"
   ]
  },
  {
   "cell_type": "code",
   "execution_count": 0,
   "metadata": {
    "colab": {},
    "colab_type": "code",
    "id": "WAo5zlwtrlRk"
   },
   "outputs": [],
   "source": []
  }
 ],
 "metadata": {
  "accelerator": "GPU",
  "colab": {
   "name": "credicxo_musk_vs_non_musk_with_transfer_learning",
   "provenance": []
  },
  "kernelspec": {
   "display_name": "Python 3",
   "language": "python",
   "name": "python3"
  },
  "language_info": {
   "codemirror_mode": {
    "name": "ipython",
    "version": 3
   },
   "file_extension": ".py",
   "mimetype": "text/x-python",
   "name": "python",
   "nbconvert_exporter": "python",
   "pygments_lexer": "ipython3",
   "version": "3.7.3"
  }
 },
 "nbformat": 4,
 "nbformat_minor": 1
}
