{
 "cells": [
  {
   "cell_type": "markdown",
   "metadata": {
    "colab_type": "text",
    "id": "8LMSTPk0iDTh"
   },
   "source": [
    "# Classification based on <b>'molucle_name'</b> using Deep Neural Network"
   ]
  },
  {
   "cell_type": "markdown",
   "metadata": {
    "colab_type": "text",
    "id": "JQnNmTSQBKOm"
   },
   "source": [
    "Dataset is uploaded to a github repo URL is saved here"
   ]
  },
  {
   "cell_type": "code",
   "execution_count": 0,
   "metadata": {
    "colab": {},
    "colab_type": "code",
    "id": "jOUkGH2vlZ03"
   },
   "outputs": [],
   "source": [
    "URL = \"https://raw.githubusercontent.com/rani700/datasets/master/musk_csv.csv\""
   ]
  },
  {
   "cell_type": "markdown",
   "metadata": {
    "colab_type": "text",
    "id": "UQESI1OVBOL2"
   },
   "source": [
    "### Importing libraries for data manipulation and visualisation"
   ]
  },
  {
   "cell_type": "code",
   "execution_count": 0,
   "metadata": {
    "colab": {},
    "colab_type": "code",
    "id": "nGHYb8Ublg8v"
   },
   "outputs": [],
   "source": [
    "import matplotlib.pyplot as plt\n",
    "import numpy as np\n",
    "import pandas as pd"
   ]
  },
  {
   "cell_type": "markdown",
   "metadata": {
    "colab_type": "text",
    "id": "wAIk6zjTBQZs"
   },
   "source": [
    "### Reading dataset into DataFrame"
   ]
  },
  {
   "cell_type": "code",
   "execution_count": 0,
   "metadata": {
    "colab": {},
    "colab_type": "code",
    "id": "yrGP_RT3oY5l"
   },
   "outputs": [],
   "source": [
    "df = pd.read_csv(URL)"
   ]
  },
  {
   "cell_type": "code",
   "execution_count": 4,
   "metadata": {
    "colab": {
     "base_uri": "https://localhost:8080/",
     "height": 253
    },
    "colab_type": "code",
    "id": "7IcIrmf-obBt",
    "outputId": "a8db408e-b0f3-41eb-8734-9b87c98ba5df"
   },
   "outputs": [
    {
     "data": {
      "text/html": [
       "<div>\n",
       "<style scoped>\n",
       "    .dataframe tbody tr th:only-of-type {\n",
       "        vertical-align: middle;\n",
       "    }\n",
       "\n",
       "    .dataframe tbody tr th {\n",
       "        vertical-align: top;\n",
       "    }\n",
       "\n",
       "    .dataframe thead th {\n",
       "        text-align: right;\n",
       "    }\n",
       "</style>\n",
       "<table border=\"1\" class=\"dataframe\">\n",
       "  <thead>\n",
       "    <tr style=\"text-align: right;\">\n",
       "      <th></th>\n",
       "      <th>ID</th>\n",
       "      <th>molecule_name</th>\n",
       "      <th>conformation_name</th>\n",
       "      <th>f1</th>\n",
       "      <th>f2</th>\n",
       "      <th>f3</th>\n",
       "      <th>f4</th>\n",
       "      <th>f5</th>\n",
       "      <th>f6</th>\n",
       "      <th>f7</th>\n",
       "      <th>f8</th>\n",
       "      <th>f9</th>\n",
       "      <th>f10</th>\n",
       "      <th>f11</th>\n",
       "      <th>f12</th>\n",
       "      <th>f13</th>\n",
       "      <th>f14</th>\n",
       "      <th>f15</th>\n",
       "      <th>f16</th>\n",
       "      <th>f17</th>\n",
       "      <th>f18</th>\n",
       "      <th>f19</th>\n",
       "      <th>f20</th>\n",
       "      <th>f21</th>\n",
       "      <th>f22</th>\n",
       "      <th>f23</th>\n",
       "      <th>f24</th>\n",
       "      <th>f25</th>\n",
       "      <th>f26</th>\n",
       "      <th>f27</th>\n",
       "      <th>f28</th>\n",
       "      <th>f29</th>\n",
       "      <th>f30</th>\n",
       "      <th>f31</th>\n",
       "      <th>f32</th>\n",
       "      <th>f33</th>\n",
       "      <th>f34</th>\n",
       "      <th>f35</th>\n",
       "      <th>f36</th>\n",
       "      <th>f37</th>\n",
       "      <th>...</th>\n",
       "      <th>f128</th>\n",
       "      <th>f129</th>\n",
       "      <th>f130</th>\n",
       "      <th>f131</th>\n",
       "      <th>f132</th>\n",
       "      <th>f133</th>\n",
       "      <th>f134</th>\n",
       "      <th>f135</th>\n",
       "      <th>f136</th>\n",
       "      <th>f137</th>\n",
       "      <th>f138</th>\n",
       "      <th>f139</th>\n",
       "      <th>f140</th>\n",
       "      <th>f141</th>\n",
       "      <th>f142</th>\n",
       "      <th>f143</th>\n",
       "      <th>f144</th>\n",
       "      <th>f145</th>\n",
       "      <th>f146</th>\n",
       "      <th>f147</th>\n",
       "      <th>f148</th>\n",
       "      <th>f149</th>\n",
       "      <th>f150</th>\n",
       "      <th>f151</th>\n",
       "      <th>f152</th>\n",
       "      <th>f153</th>\n",
       "      <th>f154</th>\n",
       "      <th>f155</th>\n",
       "      <th>f156</th>\n",
       "      <th>f157</th>\n",
       "      <th>f158</th>\n",
       "      <th>f159</th>\n",
       "      <th>f160</th>\n",
       "      <th>f161</th>\n",
       "      <th>f162</th>\n",
       "      <th>f163</th>\n",
       "      <th>f164</th>\n",
       "      <th>f165</th>\n",
       "      <th>f166</th>\n",
       "      <th>class</th>\n",
       "    </tr>\n",
       "  </thead>\n",
       "  <tbody>\n",
       "    <tr>\n",
       "      <th>0</th>\n",
       "      <td>1</td>\n",
       "      <td>MUSK-211</td>\n",
       "      <td>211_1+1</td>\n",
       "      <td>46</td>\n",
       "      <td>-108</td>\n",
       "      <td>-60</td>\n",
       "      <td>-69</td>\n",
       "      <td>-117</td>\n",
       "      <td>49</td>\n",
       "      <td>38</td>\n",
       "      <td>-161</td>\n",
       "      <td>-8</td>\n",
       "      <td>5</td>\n",
       "      <td>-323</td>\n",
       "      <td>-220</td>\n",
       "      <td>-113</td>\n",
       "      <td>-299</td>\n",
       "      <td>-283</td>\n",
       "      <td>-307</td>\n",
       "      <td>-31</td>\n",
       "      <td>-106</td>\n",
       "      <td>-227</td>\n",
       "      <td>-42</td>\n",
       "      <td>-59</td>\n",
       "      <td>-22</td>\n",
       "      <td>-67</td>\n",
       "      <td>189</td>\n",
       "      <td>81</td>\n",
       "      <td>17</td>\n",
       "      <td>-27</td>\n",
       "      <td>-89</td>\n",
       "      <td>-67</td>\n",
       "      <td>105</td>\n",
       "      <td>-116</td>\n",
       "      <td>124</td>\n",
       "      <td>-106</td>\n",
       "      <td>5</td>\n",
       "      <td>-120</td>\n",
       "      <td>63</td>\n",
       "      <td>-165</td>\n",
       "      <td>...</td>\n",
       "      <td>81</td>\n",
       "      <td>-114</td>\n",
       "      <td>-187</td>\n",
       "      <td>45</td>\n",
       "      <td>-118</td>\n",
       "      <td>-75</td>\n",
       "      <td>-182</td>\n",
       "      <td>-234</td>\n",
       "      <td>-19</td>\n",
       "      <td>12</td>\n",
       "      <td>-13</td>\n",
       "      <td>-41</td>\n",
       "      <td>-119</td>\n",
       "      <td>-149</td>\n",
       "      <td>70</td>\n",
       "      <td>17</td>\n",
       "      <td>-20</td>\n",
       "      <td>-177</td>\n",
       "      <td>-101</td>\n",
       "      <td>-116</td>\n",
       "      <td>-14</td>\n",
       "      <td>-50</td>\n",
       "      <td>24</td>\n",
       "      <td>-81</td>\n",
       "      <td>-125</td>\n",
       "      <td>-114</td>\n",
       "      <td>-44</td>\n",
       "      <td>128</td>\n",
       "      <td>3</td>\n",
       "      <td>-244</td>\n",
       "      <td>-308</td>\n",
       "      <td>52</td>\n",
       "      <td>-7</td>\n",
       "      <td>39</td>\n",
       "      <td>126</td>\n",
       "      <td>156</td>\n",
       "      <td>-50</td>\n",
       "      <td>-112</td>\n",
       "      <td>96</td>\n",
       "      <td>1</td>\n",
       "    </tr>\n",
       "    <tr>\n",
       "      <th>1</th>\n",
       "      <td>2</td>\n",
       "      <td>MUSK-211</td>\n",
       "      <td>211_1+10</td>\n",
       "      <td>41</td>\n",
       "      <td>-188</td>\n",
       "      <td>-145</td>\n",
       "      <td>22</td>\n",
       "      <td>-117</td>\n",
       "      <td>-6</td>\n",
       "      <td>57</td>\n",
       "      <td>-171</td>\n",
       "      <td>-39</td>\n",
       "      <td>-100</td>\n",
       "      <td>-319</td>\n",
       "      <td>-111</td>\n",
       "      <td>-228</td>\n",
       "      <td>-281</td>\n",
       "      <td>-281</td>\n",
       "      <td>-300</td>\n",
       "      <td>54</td>\n",
       "      <td>-149</td>\n",
       "      <td>-98</td>\n",
       "      <td>-196</td>\n",
       "      <td>-27</td>\n",
       "      <td>-22</td>\n",
       "      <td>2</td>\n",
       "      <td>75</td>\n",
       "      <td>49</td>\n",
       "      <td>-34</td>\n",
       "      <td>45</td>\n",
       "      <td>-91</td>\n",
       "      <td>32</td>\n",
       "      <td>95</td>\n",
       "      <td>-116</td>\n",
       "      <td>85</td>\n",
       "      <td>-23</td>\n",
       "      <td>42</td>\n",
       "      <td>-58</td>\n",
       "      <td>61</td>\n",
       "      <td>-171</td>\n",
       "      <td>...</td>\n",
       "      <td>88</td>\n",
       "      <td>-21</td>\n",
       "      <td>-32</td>\n",
       "      <td>32</td>\n",
       "      <td>-128</td>\n",
       "      <td>-72</td>\n",
       "      <td>-124</td>\n",
       "      <td>-218</td>\n",
       "      <td>-94</td>\n",
       "      <td>53</td>\n",
       "      <td>-79</td>\n",
       "      <td>-20</td>\n",
       "      <td>-35</td>\n",
       "      <td>-26</td>\n",
       "      <td>4</td>\n",
       "      <td>50</td>\n",
       "      <td>17</td>\n",
       "      <td>-177</td>\n",
       "      <td>-102</td>\n",
       "      <td>-121</td>\n",
       "      <td>-66</td>\n",
       "      <td>-77</td>\n",
       "      <td>51</td>\n",
       "      <td>-41</td>\n",
       "      <td>-34</td>\n",
       "      <td>-32</td>\n",
       "      <td>-63</td>\n",
       "      <td>115</td>\n",
       "      <td>-5</td>\n",
       "      <td>-235</td>\n",
       "      <td>-59</td>\n",
       "      <td>-2</td>\n",
       "      <td>52</td>\n",
       "      <td>103</td>\n",
       "      <td>136</td>\n",
       "      <td>169</td>\n",
       "      <td>-61</td>\n",
       "      <td>-136</td>\n",
       "      <td>79</td>\n",
       "      <td>1</td>\n",
       "    </tr>\n",
       "    <tr>\n",
       "      <th>2</th>\n",
       "      <td>3</td>\n",
       "      <td>MUSK-211</td>\n",
       "      <td>211_1+11</td>\n",
       "      <td>46</td>\n",
       "      <td>-194</td>\n",
       "      <td>-145</td>\n",
       "      <td>28</td>\n",
       "      <td>-117</td>\n",
       "      <td>73</td>\n",
       "      <td>57</td>\n",
       "      <td>-168</td>\n",
       "      <td>-39</td>\n",
       "      <td>-22</td>\n",
       "      <td>-319</td>\n",
       "      <td>-111</td>\n",
       "      <td>-104</td>\n",
       "      <td>-283</td>\n",
       "      <td>-282</td>\n",
       "      <td>-303</td>\n",
       "      <td>52</td>\n",
       "      <td>-152</td>\n",
       "      <td>-97</td>\n",
       "      <td>-225</td>\n",
       "      <td>-28</td>\n",
       "      <td>-22</td>\n",
       "      <td>2</td>\n",
       "      <td>179</td>\n",
       "      <td>49</td>\n",
       "      <td>-33</td>\n",
       "      <td>46</td>\n",
       "      <td>-88</td>\n",
       "      <td>22</td>\n",
       "      <td>79</td>\n",
       "      <td>-116</td>\n",
       "      <td>19</td>\n",
       "      <td>-11</td>\n",
       "      <td>6</td>\n",
       "      <td>-38</td>\n",
       "      <td>71</td>\n",
       "      <td>-175</td>\n",
       "      <td>...</td>\n",
       "      <td>64</td>\n",
       "      <td>0</td>\n",
       "      <td>-23</td>\n",
       "      <td>-15</td>\n",
       "      <td>-129</td>\n",
       "      <td>-74</td>\n",
       "      <td>-125</td>\n",
       "      <td>-221</td>\n",
       "      <td>-93</td>\n",
       "      <td>53</td>\n",
       "      <td>-72</td>\n",
       "      <td>-19</td>\n",
       "      <td>-33</td>\n",
       "      <td>-26</td>\n",
       "      <td>3</td>\n",
       "      <td>49</td>\n",
       "      <td>17</td>\n",
       "      <td>-177</td>\n",
       "      <td>-102</td>\n",
       "      <td>-119</td>\n",
       "      <td>-66</td>\n",
       "      <td>-81</td>\n",
       "      <td>51</td>\n",
       "      <td>-41</td>\n",
       "      <td>-27</td>\n",
       "      <td>-41</td>\n",
       "      <td>-140</td>\n",
       "      <td>77</td>\n",
       "      <td>-163</td>\n",
       "      <td>-238</td>\n",
       "      <td>-134</td>\n",
       "      <td>-154</td>\n",
       "      <td>57</td>\n",
       "      <td>143</td>\n",
       "      <td>142</td>\n",
       "      <td>165</td>\n",
       "      <td>-67</td>\n",
       "      <td>-145</td>\n",
       "      <td>39</td>\n",
       "      <td>1</td>\n",
       "    </tr>\n",
       "    <tr>\n",
       "      <th>3</th>\n",
       "      <td>4</td>\n",
       "      <td>MUSK-211</td>\n",
       "      <td>211_1+12</td>\n",
       "      <td>41</td>\n",
       "      <td>-188</td>\n",
       "      <td>-145</td>\n",
       "      <td>22</td>\n",
       "      <td>-117</td>\n",
       "      <td>-7</td>\n",
       "      <td>57</td>\n",
       "      <td>-170</td>\n",
       "      <td>-39</td>\n",
       "      <td>-99</td>\n",
       "      <td>-319</td>\n",
       "      <td>-111</td>\n",
       "      <td>-228</td>\n",
       "      <td>-282</td>\n",
       "      <td>-281</td>\n",
       "      <td>-301</td>\n",
       "      <td>54</td>\n",
       "      <td>-150</td>\n",
       "      <td>-98</td>\n",
       "      <td>-196</td>\n",
       "      <td>-28</td>\n",
       "      <td>-22</td>\n",
       "      <td>2</td>\n",
       "      <td>77</td>\n",
       "      <td>48</td>\n",
       "      <td>-34</td>\n",
       "      <td>46</td>\n",
       "      <td>-91</td>\n",
       "      <td>32</td>\n",
       "      <td>94</td>\n",
       "      <td>-116</td>\n",
       "      <td>84</td>\n",
       "      <td>-23</td>\n",
       "      <td>41</td>\n",
       "      <td>-58</td>\n",
       "      <td>62</td>\n",
       "      <td>-171</td>\n",
       "      <td>...</td>\n",
       "      <td>88</td>\n",
       "      <td>-20</td>\n",
       "      <td>-32</td>\n",
       "      <td>32</td>\n",
       "      <td>-128</td>\n",
       "      <td>-73</td>\n",
       "      <td>-125</td>\n",
       "      <td>-220</td>\n",
       "      <td>-93</td>\n",
       "      <td>53</td>\n",
       "      <td>-78</td>\n",
       "      <td>-19</td>\n",
       "      <td>-34</td>\n",
       "      <td>-26</td>\n",
       "      <td>4</td>\n",
       "      <td>50</td>\n",
       "      <td>17</td>\n",
       "      <td>-177</td>\n",
       "      <td>-101</td>\n",
       "      <td>-121</td>\n",
       "      <td>-65</td>\n",
       "      <td>-77</td>\n",
       "      <td>52</td>\n",
       "      <td>-41</td>\n",
       "      <td>-34</td>\n",
       "      <td>-32</td>\n",
       "      <td>-66</td>\n",
       "      <td>115</td>\n",
       "      <td>-7</td>\n",
       "      <td>-236</td>\n",
       "      <td>-60</td>\n",
       "      <td>-4</td>\n",
       "      <td>52</td>\n",
       "      <td>104</td>\n",
       "      <td>136</td>\n",
       "      <td>168</td>\n",
       "      <td>-60</td>\n",
       "      <td>-135</td>\n",
       "      <td>80</td>\n",
       "      <td>1</td>\n",
       "    </tr>\n",
       "    <tr>\n",
       "      <th>4</th>\n",
       "      <td>5</td>\n",
       "      <td>MUSK-211</td>\n",
       "      <td>211_1+13</td>\n",
       "      <td>41</td>\n",
       "      <td>-188</td>\n",
       "      <td>-145</td>\n",
       "      <td>22</td>\n",
       "      <td>-117</td>\n",
       "      <td>-7</td>\n",
       "      <td>57</td>\n",
       "      <td>-170</td>\n",
       "      <td>-39</td>\n",
       "      <td>-99</td>\n",
       "      <td>-319</td>\n",
       "      <td>-111</td>\n",
       "      <td>-228</td>\n",
       "      <td>-282</td>\n",
       "      <td>-281</td>\n",
       "      <td>-301</td>\n",
       "      <td>54</td>\n",
       "      <td>-150</td>\n",
       "      <td>-98</td>\n",
       "      <td>-196</td>\n",
       "      <td>-28</td>\n",
       "      <td>-22</td>\n",
       "      <td>2</td>\n",
       "      <td>78</td>\n",
       "      <td>48</td>\n",
       "      <td>-34</td>\n",
       "      <td>46</td>\n",
       "      <td>-91</td>\n",
       "      <td>31</td>\n",
       "      <td>94</td>\n",
       "      <td>-116</td>\n",
       "      <td>84</td>\n",
       "      <td>-23</td>\n",
       "      <td>41</td>\n",
       "      <td>-58</td>\n",
       "      <td>62</td>\n",
       "      <td>-171</td>\n",
       "      <td>...</td>\n",
       "      <td>88</td>\n",
       "      <td>-20</td>\n",
       "      <td>-32</td>\n",
       "      <td>32</td>\n",
       "      <td>-128</td>\n",
       "      <td>-73</td>\n",
       "      <td>-125</td>\n",
       "      <td>-220</td>\n",
       "      <td>-93</td>\n",
       "      <td>53</td>\n",
       "      <td>-78</td>\n",
       "      <td>-19</td>\n",
       "      <td>-34</td>\n",
       "      <td>-26</td>\n",
       "      <td>4</td>\n",
       "      <td>50</td>\n",
       "      <td>17</td>\n",
       "      <td>-177</td>\n",
       "      <td>-101</td>\n",
       "      <td>-121</td>\n",
       "      <td>-65</td>\n",
       "      <td>-76</td>\n",
       "      <td>52</td>\n",
       "      <td>-41</td>\n",
       "      <td>-34</td>\n",
       "      <td>-32</td>\n",
       "      <td>-66</td>\n",
       "      <td>115</td>\n",
       "      <td>-8</td>\n",
       "      <td>-236</td>\n",
       "      <td>-60</td>\n",
       "      <td>-4</td>\n",
       "      <td>52</td>\n",
       "      <td>104</td>\n",
       "      <td>137</td>\n",
       "      <td>168</td>\n",
       "      <td>-60</td>\n",
       "      <td>-135</td>\n",
       "      <td>80</td>\n",
       "      <td>1</td>\n",
       "    </tr>\n",
       "  </tbody>\n",
       "</table>\n",
       "<p>5 rows × 170 columns</p>\n",
       "</div>"
      ],
      "text/plain": [
       "   ID molecule_name conformation_name  f1   f2  ...  f163  f164  f165  f166  class\n",
       "0   1      MUSK-211           211_1+1  46 -108  ...   156   -50  -112    96      1\n",
       "1   2      MUSK-211          211_1+10  41 -188  ...   169   -61  -136    79      1\n",
       "2   3      MUSK-211          211_1+11  46 -194  ...   165   -67  -145    39      1\n",
       "3   4      MUSK-211          211_1+12  41 -188  ...   168   -60  -135    80      1\n",
       "4   5      MUSK-211          211_1+13  41 -188  ...   168   -60  -135    80      1\n",
       "\n",
       "[5 rows x 170 columns]"
      ]
     },
     "execution_count": 4,
     "metadata": {
      "tags": []
     },
     "output_type": "execute_result"
    }
   ],
   "source": [
    "df.head()"
   ]
  },
  {
   "cell_type": "markdown",
   "metadata": {
    "colab_type": "text",
    "id": "XPL4PBbyBVdG"
   },
   "source": [
    "### Seperating Features (Input) and Output (Labels) for training\n",
    "here I have taken molecule_name as output / labels"
   ]
  },
  {
   "cell_type": "code",
   "execution_count": 0,
   "metadata": {
    "colab": {},
    "colab_type": "code",
    "id": "1Pw18ePsocdd"
   },
   "outputs": [],
   "source": [
    "X = df.iloc[:, 3:-1].values"
   ]
  },
  {
   "cell_type": "code",
   "execution_count": 6,
   "metadata": {
    "colab": {
     "base_uri": "https://localhost:8080/",
     "height": 34
    },
    "colab_type": "code",
    "id": "K-jUVbQJpN_J",
    "outputId": "2ebaff04-50d9-4924-fc18-5c31a01a52d4"
   },
   "outputs": [
    {
     "data": {
      "text/plain": [
       "(6598, 166)"
      ]
     },
     "execution_count": 6,
     "metadata": {
      "tags": []
     },
     "output_type": "execute_result"
    }
   ],
   "source": [
    "X.shape"
   ]
  },
  {
   "cell_type": "code",
   "execution_count": 0,
   "metadata": {
    "colab": {},
    "colab_type": "code",
    "id": "Dpnaab7fqQhJ"
   },
   "outputs": [],
   "source": [
    "y = df.iloc[:, 1].values"
   ]
  },
  {
   "cell_type": "code",
   "execution_count": 8,
   "metadata": {
    "colab": {
     "base_uri": "https://localhost:8080/",
     "height": 34
    },
    "colab_type": "code",
    "id": "tK6zgEjAfH1X",
    "outputId": "601aeb5c-2375-4111-f027-d38724e6ea60"
   },
   "outputs": [
    {
     "data": {
      "text/plain": [
       "(102,)"
      ]
     },
     "execution_count": 8,
     "metadata": {
      "tags": []
     },
     "output_type": "execute_result"
    }
   ],
   "source": [
    "np.unique(y).shape"
   ]
  },
  {
   "cell_type": "markdown",
   "metadata": {
    "colab_type": "text",
    "id": "Za7A-SMSBsVK"
   },
   "source": [
    "### One Hot Encoding the labels for training"
   ]
  },
  {
   "cell_type": "code",
   "execution_count": 0,
   "metadata": {
    "colab": {},
    "colab_type": "code",
    "id": "jS4lO8FWevvz"
   },
   "outputs": [],
   "source": [
    "from sklearn.preprocessing import OneHotEncoder\n",
    "y = OneHotEncoder().fit_transform(y.reshape(-1, 1)).toarray()"
   ]
  },
  {
   "cell_type": "markdown",
   "metadata": {
    "colab_type": "text",
    "id": "xpWQW81KBwpH"
   },
   "source": [
    "### Scaling the data using StandardScaler"
   ]
  },
  {
   "cell_type": "code",
   "execution_count": 0,
   "metadata": {
    "colab": {},
    "colab_type": "code",
    "id": "5YtB7gARsdha"
   },
   "outputs": [],
   "source": [
    "from sklearn.preprocessing import StandardScaler\n",
    "X = StandardScaler().fit_transform(X)"
   ]
  },
  {
   "cell_type": "markdown",
   "metadata": {
    "colab_type": "text",
    "id": "1_L30ORuByZa"
   },
   "source": [
    "### Spliting the dataset into training and testing set (Ratio 80:20)"
   ]
  },
  {
   "cell_type": "code",
   "execution_count": 0,
   "metadata": {
    "colab": {},
    "colab_type": "code",
    "id": "QsnDuBVsqYsX"
   },
   "outputs": [],
   "source": [
    "from sklearn.model_selection import train_test_split\n",
    "X_train, X_test, y_train, y_test = train_test_split(X, y, train_size=0.8, test_size=0.2)"
   ]
  },
  {
   "cell_type": "markdown",
   "metadata": {
    "colab_type": "text",
    "id": "yWYLJtkXB3DK"
   },
   "source": [
    "### Importing Sequential model and Dense Layer from keras"
   ]
  },
  {
   "cell_type": "code",
   "execution_count": 12,
   "metadata": {
    "colab": {
     "base_uri": "https://localhost:8080/",
     "height": 80
    },
    "colab_type": "code",
    "id": "mbXpPhQyrlxt",
    "outputId": "6d864c74-3d2e-44c2-c5ed-a67cb6c817de"
   },
   "outputs": [
    {
     "name": "stderr",
     "output_type": "stream",
     "text": [
      "Using TensorFlow backend.\n"
     ]
    },
    {
     "data": {
      "text/html": [
       "<p style=\"color: red;\">\n",
       "The default version of TensorFlow in Colab will soon switch to TensorFlow 2.x.<br>\n",
       "We recommend you <a href=\"https://www.tensorflow.org/guide/migrate\" target=\"_blank\">upgrade</a> now \n",
       "or ensure your notebook will continue to use TensorFlow 1.x via the <code>%tensorflow_version 1.x</code> magic:\n",
       "<a href=\"https://colab.research.google.com/notebooks/tensorflow_version.ipynb\" target=\"_blank\">more info</a>.</p>\n"
      ],
      "text/plain": [
       "<IPython.core.display.HTML object>"
      ]
     },
     "metadata": {
      "tags": []
     },
     "output_type": "display_data"
    }
   ],
   "source": [
    "from keras import Sequential\n",
    "from keras.layers import Dense"
   ]
  },
  {
   "cell_type": "markdown",
   "metadata": {
    "colab_type": "text",
    "id": "fM8X5098B6om"
   },
   "source": [
    "### Making model for training"
   ]
  },
  {
   "cell_type": "code",
   "execution_count": 13,
   "metadata": {
    "colab": {
     "base_uri": "https://localhost:8080/",
     "height": 105
    },
    "colab_type": "code",
    "id": "R_UquosurvSL",
    "outputId": "f29b98f5-20b9-417a-c024-b907b8beace1"
   },
   "outputs": [
    {
     "name": "stdout",
     "output_type": "stream",
     "text": [
      "WARNING:tensorflow:From /usr/local/lib/python3.6/dist-packages/keras/backend/tensorflow_backend.py:66: The name tf.get_default_graph is deprecated. Please use tf.compat.v1.get_default_graph instead.\n",
      "\n",
      "WARNING:tensorflow:From /usr/local/lib/python3.6/dist-packages/keras/optimizers.py:793: The name tf.train.Optimizer is deprecated. Please use tf.compat.v1.train.Optimizer instead.\n",
      "\n"
     ]
    }
   ],
   "source": [
    "model = Sequential()\n",
    "model.add(Dense(300, activation='softmax'))\n",
    "model.add(Dense(200, activation='relu'))\n",
    "model.add(Dense(102, activation='sigmoid'))\n",
    "model.compile(optimizer='adam', loss='mse', metrics=['accuracy'])"
   ]
  },
  {
   "cell_type": "markdown",
   "metadata": {
    "colab_type": "text",
    "id": "jGsNti5FB9v7"
   },
   "source": [
    "### Training on train set generated above and using test set as validation data over 20 epochs"
   ]
  },
  {
   "cell_type": "code",
   "execution_count": 14,
   "metadata": {
    "colab": {
     "base_uri": "https://localhost:8080/",
     "height": 1000
    },
    "colab_type": "code",
    "id": "bxf_asaxsINQ",
    "outputId": "e8dd50cf-7400-485f-ed2d-244f9b1e469a"
   },
   "outputs": [
    {
     "name": "stdout",
     "output_type": "stream",
     "text": [
      "WARNING:tensorflow:From /usr/local/lib/python3.6/dist-packages/keras/backend/tensorflow_backend.py:541: The name tf.placeholder is deprecated. Please use tf.compat.v1.placeholder instead.\n",
      "\n",
      "WARNING:tensorflow:From /usr/local/lib/python3.6/dist-packages/keras/backend/tensorflow_backend.py:4432: The name tf.random_uniform is deprecated. Please use tf.random.uniform instead.\n",
      "\n",
      "WARNING:tensorflow:From /usr/local/lib/python3.6/dist-packages/keras/backend/tensorflow_backend.py:1033: The name tf.assign_add is deprecated. Please use tf.compat.v1.assign_add instead.\n",
      "\n",
      "WARNING:tensorflow:From /usr/local/lib/python3.6/dist-packages/keras/backend/tensorflow_backend.py:1020: The name tf.assign is deprecated. Please use tf.compat.v1.assign instead.\n",
      "\n",
      "WARNING:tensorflow:From /usr/local/lib/python3.6/dist-packages/keras/backend/tensorflow_backend.py:3005: The name tf.Session is deprecated. Please use tf.compat.v1.Session instead.\n",
      "\n",
      "Train on 5278 samples, validate on 1320 samples\n",
      "Epoch 1/100\n",
      "WARNING:tensorflow:From /usr/local/lib/python3.6/dist-packages/keras/backend/tensorflow_backend.py:190: The name tf.get_default_session is deprecated. Please use tf.compat.v1.get_default_session instead.\n",
      "\n",
      "WARNING:tensorflow:From /usr/local/lib/python3.6/dist-packages/keras/backend/tensorflow_backend.py:197: The name tf.ConfigProto is deprecated. Please use tf.compat.v1.ConfigProto instead.\n",
      "\n",
      "WARNING:tensorflow:From /usr/local/lib/python3.6/dist-packages/keras/backend/tensorflow_backend.py:207: The name tf.global_variables is deprecated. Please use tf.compat.v1.global_variables instead.\n",
      "\n",
      "WARNING:tensorflow:From /usr/local/lib/python3.6/dist-packages/keras/backend/tensorflow_backend.py:216: The name tf.is_variable_initialized is deprecated. Please use tf.compat.v1.is_variable_initialized instead.\n",
      "\n",
      "WARNING:tensorflow:From /usr/local/lib/python3.6/dist-packages/keras/backend/tensorflow_backend.py:223: The name tf.variables_initializer is deprecated. Please use tf.compat.v1.variables_initializer instead.\n",
      "\n",
      "5278/5278 [==============================] - 10s 2ms/step - loss: 0.0708 - acc: 0.1065 - val_loss: 0.0090 - val_acc: 0.1682\n",
      "Epoch 2/100\n",
      "5278/5278 [==============================] - 1s 103us/step - loss: 0.0088 - acc: 0.2069 - val_loss: 0.0085 - val_acc: 0.2545\n",
      "Epoch 3/100\n",
      "5278/5278 [==============================] - 1s 105us/step - loss: 0.0084 - acc: 0.2584 - val_loss: 0.0080 - val_acc: 0.2977\n",
      "Epoch 4/100\n",
      "5278/5278 [==============================] - 1s 109us/step - loss: 0.0077 - acc: 0.3210 - val_loss: 0.0071 - val_acc: 0.3735\n",
      "Epoch 5/100\n",
      "5278/5278 [==============================] - 1s 104us/step - loss: 0.0065 - acc: 0.5028 - val_loss: 0.0054 - val_acc: 0.6258\n",
      "Epoch 6/100\n",
      "5278/5278 [==============================] - 1s 107us/step - loss: 0.0051 - acc: 0.6124 - val_loss: 0.0044 - val_acc: 0.6780\n",
      "Epoch 7/100\n",
      "5278/5278 [==============================] - 1s 102us/step - loss: 0.0044 - acc: 0.6588 - val_loss: 0.0038 - val_acc: 0.6955\n",
      "Epoch 8/100\n",
      "5278/5278 [==============================] - 1s 111us/step - loss: 0.0040 - acc: 0.6658 - val_loss: 0.0036 - val_acc: 0.7030\n",
      "Epoch 9/100\n",
      "5278/5278 [==============================] - 1s 115us/step - loss: 0.0038 - acc: 0.6732 - val_loss: 0.0034 - val_acc: 0.6992\n",
      "Epoch 10/100\n",
      "5278/5278 [==============================] - 1s 103us/step - loss: 0.0036 - acc: 0.6904 - val_loss: 0.0032 - val_acc: 0.7402\n",
      "Epoch 11/100\n",
      "5278/5278 [==============================] - 1s 97us/step - loss: 0.0033 - acc: 0.7257 - val_loss: 0.0029 - val_acc: 0.7598\n",
      "Epoch 12/100\n",
      "5278/5278 [==============================] - 1s 102us/step - loss: 0.0031 - acc: 0.7442 - val_loss: 0.0027 - val_acc: 0.7826\n",
      "Epoch 13/100\n",
      "5278/5278 [==============================] - 1s 99us/step - loss: 0.0029 - acc: 0.7683 - val_loss: 0.0026 - val_acc: 0.7992\n",
      "Epoch 14/100\n",
      "5278/5278 [==============================] - 1s 103us/step - loss: 0.0028 - acc: 0.7787 - val_loss: 0.0025 - val_acc: 0.8061\n",
      "Epoch 15/100\n",
      "5278/5278 [==============================] - 1s 102us/step - loss: 0.0027 - acc: 0.7889 - val_loss: 0.0024 - val_acc: 0.8197\n",
      "Epoch 16/100\n",
      "5278/5278 [==============================] - 1s 102us/step - loss: 0.0026 - acc: 0.7980 - val_loss: 0.0023 - val_acc: 0.8212\n",
      "Epoch 17/100\n",
      "5278/5278 [==============================] - 1s 105us/step - loss: 0.0025 - acc: 0.8050 - val_loss: 0.0022 - val_acc: 0.8318\n",
      "Epoch 18/100\n",
      "5278/5278 [==============================] - 1s 101us/step - loss: 0.0024 - acc: 0.8109 - val_loss: 0.0021 - val_acc: 0.8318\n",
      "Epoch 19/100\n",
      "5278/5278 [==============================] - 1s 100us/step - loss: 0.0023 - acc: 0.8206 - val_loss: 0.0020 - val_acc: 0.8470\n",
      "Epoch 20/100\n",
      "5278/5278 [==============================] - 1s 100us/step - loss: 0.0022 - acc: 0.8342 - val_loss: 0.0019 - val_acc: 0.8591\n",
      "Epoch 21/100\n",
      "5278/5278 [==============================] - 1s 108us/step - loss: 0.0021 - acc: 0.8427 - val_loss: 0.0018 - val_acc: 0.8720\n",
      "Epoch 22/100\n",
      "5278/5278 [==============================] - 1s 114us/step - loss: 0.0020 - acc: 0.8499 - val_loss: 0.0018 - val_acc: 0.8720\n",
      "Epoch 23/100\n",
      "5278/5278 [==============================] - 1s 103us/step - loss: 0.0020 - acc: 0.8545 - val_loss: 0.0017 - val_acc: 0.8735\n",
      "Epoch 24/100\n",
      "5278/5278 [==============================] - 1s 102us/step - loss: 0.0019 - acc: 0.8566 - val_loss: 0.0017 - val_acc: 0.8765\n",
      "Epoch 25/100\n",
      "5278/5278 [==============================] - 1s 102us/step - loss: 0.0018 - acc: 0.8624 - val_loss: 0.0016 - val_acc: 0.8818\n",
      "Epoch 26/100\n",
      "5278/5278 [==============================] - 1s 103us/step - loss: 0.0018 - acc: 0.8695 - val_loss: 0.0016 - val_acc: 0.8856\n",
      "Epoch 27/100\n",
      "5278/5278 [==============================] - 1s 104us/step - loss: 0.0017 - acc: 0.8698 - val_loss: 0.0015 - val_acc: 0.8856\n",
      "Epoch 28/100\n",
      "5278/5278 [==============================] - 1s 100us/step - loss: 0.0017 - acc: 0.8757 - val_loss: 0.0015 - val_acc: 0.8955\n",
      "Epoch 29/100\n",
      "5278/5278 [==============================] - 1s 107us/step - loss: 0.0016 - acc: 0.8816 - val_loss: 0.0014 - val_acc: 0.8947\n",
      "Epoch 30/100\n",
      "5278/5278 [==============================] - 1s 101us/step - loss: 0.0016 - acc: 0.8833 - val_loss: 0.0014 - val_acc: 0.9030\n",
      "Epoch 31/100\n",
      "5278/5278 [==============================] - 1s 96us/step - loss: 0.0016 - acc: 0.8852 - val_loss: 0.0014 - val_acc: 0.9068\n",
      "Epoch 32/100\n",
      "5278/5278 [==============================] - 1s 99us/step - loss: 0.0015 - acc: 0.8880 - val_loss: 0.0013 - val_acc: 0.9114\n",
      "Epoch 33/100\n",
      "5278/5278 [==============================] - 1s 97us/step - loss: 0.0015 - acc: 0.8916 - val_loss: 0.0013 - val_acc: 0.9068\n",
      "Epoch 34/100\n",
      "5278/5278 [==============================] - 1s 100us/step - loss: 0.0014 - acc: 0.8926 - val_loss: 0.0013 - val_acc: 0.9152\n",
      "Epoch 35/100\n",
      "5278/5278 [==============================] - 1s 100us/step - loss: 0.0014 - acc: 0.8948 - val_loss: 0.0013 - val_acc: 0.9136\n",
      "Epoch 36/100\n",
      "5278/5278 [==============================] - 1s 104us/step - loss: 0.0014 - acc: 0.8964 - val_loss: 0.0012 - val_acc: 0.9159\n",
      "Epoch 37/100\n",
      "5278/5278 [==============================] - 1s 104us/step - loss: 0.0013 - acc: 0.8998 - val_loss: 0.0012 - val_acc: 0.9136\n",
      "Epoch 38/100\n",
      "5278/5278 [==============================] - 1s 102us/step - loss: 0.0013 - acc: 0.9020 - val_loss: 0.0011 - val_acc: 0.9205\n",
      "Epoch 39/100\n",
      "5278/5278 [==============================] - 1s 102us/step - loss: 0.0012 - acc: 0.9077 - val_loss: 0.0011 - val_acc: 0.9265\n",
      "Epoch 40/100\n",
      "5278/5278 [==============================] - 1s 105us/step - loss: 0.0012 - acc: 0.9085 - val_loss: 0.0010 - val_acc: 0.9356\n",
      "Epoch 41/100\n",
      "5278/5278 [==============================] - 1s 112us/step - loss: 0.0012 - acc: 0.9164 - val_loss: 0.0010 - val_acc: 0.9318\n",
      "Epoch 42/100\n",
      "5278/5278 [==============================] - 1s 106us/step - loss: 0.0012 - acc: 0.9147 - val_loss: 0.0010 - val_acc: 0.9326\n",
      "Epoch 43/100\n",
      "5278/5278 [==============================] - 1s 98us/step - loss: 0.0011 - acc: 0.9166 - val_loss: 9.7725e-04 - val_acc: 0.9364\n",
      "Epoch 44/100\n",
      "5278/5278 [==============================] - 1s 99us/step - loss: 0.0011 - acc: 0.9216 - val_loss: 9.4362e-04 - val_acc: 0.9364\n",
      "Epoch 45/100\n",
      "5278/5278 [==============================] - 1s 103us/step - loss: 0.0011 - acc: 0.9216 - val_loss: 9.2315e-04 - val_acc: 0.9356\n",
      "Epoch 46/100\n",
      "5278/5278 [==============================] - 1s 101us/step - loss: 0.0010 - acc: 0.9254 - val_loss: 9.0450e-04 - val_acc: 0.9371\n",
      "Epoch 47/100\n",
      "5278/5278 [==============================] - 1s 101us/step - loss: 0.0010 - acc: 0.9255 - val_loss: 9.3575e-04 - val_acc: 0.9386\n",
      "Epoch 48/100\n",
      "5278/5278 [==============================] - 1s 109us/step - loss: 9.7744e-04 - acc: 0.9286 - val_loss: 8.6481e-04 - val_acc: 0.9394\n",
      "Epoch 49/100\n",
      "5278/5278 [==============================] - 1s 106us/step - loss: 9.6074e-04 - acc: 0.9286 - val_loss: 8.6109e-04 - val_acc: 0.9424\n",
      "Epoch 50/100\n",
      "5278/5278 [==============================] - 1s 104us/step - loss: 9.3902e-04 - acc: 0.9291 - val_loss: 8.6677e-04 - val_acc: 0.9379\n",
      "Epoch 51/100\n",
      "5278/5278 [==============================] - 1s 106us/step - loss: 9.1069e-04 - acc: 0.9337 - val_loss: 8.7461e-04 - val_acc: 0.9455\n",
      "Epoch 52/100\n",
      "5278/5278 [==============================] - 1s 100us/step - loss: 8.9989e-04 - acc: 0.9326 - val_loss: 8.0794e-04 - val_acc: 0.9470\n",
      "Epoch 53/100\n",
      "5278/5278 [==============================] - 1s 103us/step - loss: 8.9431e-04 - acc: 0.9343 - val_loss: 8.6287e-04 - val_acc: 0.9439\n",
      "Epoch 54/100\n",
      "5278/5278 [==============================] - 1s 102us/step - loss: 8.9932e-04 - acc: 0.9348 - val_loss: 7.5662e-04 - val_acc: 0.9477\n",
      "Epoch 55/100\n",
      "5278/5278 [==============================] - 1s 103us/step - loss: 8.3965e-04 - acc: 0.9367 - val_loss: 7.5197e-04 - val_acc: 0.9477\n",
      "Epoch 56/100\n",
      "5278/5278 [==============================] - 1s 99us/step - loss: 8.2497e-04 - acc: 0.9363 - val_loss: 7.3129e-04 - val_acc: 0.9515\n",
      "Epoch 57/100\n",
      "5278/5278 [==============================] - 1s 99us/step - loss: 8.1094e-04 - acc: 0.9420 - val_loss: 7.1036e-04 - val_acc: 0.9515\n",
      "Epoch 58/100\n",
      "5278/5278 [==============================] - 1s 101us/step - loss: 8.0209e-04 - acc: 0.9411 - val_loss: 7.1460e-04 - val_acc: 0.9538\n",
      "Epoch 59/100\n",
      "5278/5278 [==============================] - 1s 99us/step - loss: 7.9501e-04 - acc: 0.9413 - val_loss: 7.2225e-04 - val_acc: 0.9538\n",
      "Epoch 60/100\n",
      "5278/5278 [==============================] - 1s 100us/step - loss: 7.8256e-04 - acc: 0.9424 - val_loss: 7.6850e-04 - val_acc: 0.9485\n",
      "Epoch 61/100\n",
      "5278/5278 [==============================] - 1s 99us/step - loss: 7.7463e-04 - acc: 0.9449 - val_loss: 6.7194e-04 - val_acc: 0.9545\n",
      "Epoch 62/100\n",
      "5278/5278 [==============================] - 1s 103us/step - loss: 7.3661e-04 - acc: 0.9447 - val_loss: 6.7459e-04 - val_acc: 0.9568\n",
      "Epoch 63/100\n",
      "5278/5278 [==============================] - 1s 103us/step - loss: 7.1956e-04 - acc: 0.9464 - val_loss: 6.5599e-04 - val_acc: 0.9576\n",
      "Epoch 64/100\n",
      "5278/5278 [==============================] - 1s 107us/step - loss: 7.1988e-04 - acc: 0.9458 - val_loss: 6.6576e-04 - val_acc: 0.9591\n",
      "Epoch 65/100\n",
      "5278/5278 [==============================] - 1s 99us/step - loss: 7.1938e-04 - acc: 0.9466 - val_loss: 6.2996e-04 - val_acc: 0.9598\n",
      "Epoch 66/100\n",
      "5278/5278 [==============================] - 1s 102us/step - loss: 6.9275e-04 - acc: 0.9488 - val_loss: 6.3703e-04 - val_acc: 0.9598\n",
      "Epoch 67/100\n",
      "5278/5278 [==============================] - 1s 99us/step - loss: 6.7793e-04 - acc: 0.9490 - val_loss: 6.7305e-04 - val_acc: 0.9568\n",
      "Epoch 68/100\n",
      "5278/5278 [==============================] - 1s 107us/step - loss: 7.3250e-04 - acc: 0.9469 - val_loss: 6.6509e-04 - val_acc: 0.9553\n",
      "Epoch 69/100\n",
      "5278/5278 [==============================] - 1s 101us/step - loss: 6.9216e-04 - acc: 0.9488 - val_loss: 6.1093e-04 - val_acc: 0.9591\n",
      "Epoch 70/100\n",
      "5278/5278 [==============================] - 1s 109us/step - loss: 6.4776e-04 - acc: 0.9523 - val_loss: 5.9595e-04 - val_acc: 0.9583\n",
      "Epoch 71/100\n",
      "5278/5278 [==============================] - 1s 105us/step - loss: 6.5105e-04 - acc: 0.9498 - val_loss: 6.0637e-04 - val_acc: 0.9598\n",
      "Epoch 72/100\n",
      "5278/5278 [==============================] - 1s 103us/step - loss: 6.2486e-04 - acc: 0.9521 - val_loss: 5.5939e-04 - val_acc: 0.9621\n",
      "Epoch 73/100\n",
      "5278/5278 [==============================] - 1s 99us/step - loss: 6.1322e-04 - acc: 0.9534 - val_loss: 5.7341e-04 - val_acc: 0.9629\n",
      "Epoch 74/100\n",
      "5278/5278 [==============================] - 1s 104us/step - loss: 6.2073e-04 - acc: 0.9526 - val_loss: 5.5765e-04 - val_acc: 0.9606\n",
      "Epoch 75/100\n",
      "5278/5278 [==============================] - 1s 103us/step - loss: 6.0167e-04 - acc: 0.9555 - val_loss: 5.5589e-04 - val_acc: 0.9614\n",
      "Epoch 76/100\n",
      "5278/5278 [==============================] - 1s 106us/step - loss: 6.1538e-04 - acc: 0.9523 - val_loss: 5.6234e-04 - val_acc: 0.9606\n",
      "Epoch 77/100\n",
      "5278/5278 [==============================] - 1s 106us/step - loss: 6.2586e-04 - acc: 0.9536 - val_loss: 5.2598e-04 - val_acc: 0.9629\n",
      "Epoch 78/100\n",
      "5278/5278 [==============================] - 1s 102us/step - loss: 5.9650e-04 - acc: 0.9564 - val_loss: 5.4212e-04 - val_acc: 0.9591\n",
      "Epoch 79/100\n",
      "5278/5278 [==============================] - 1s 101us/step - loss: 5.6741e-04 - acc: 0.9564 - val_loss: 5.0985e-04 - val_acc: 0.9636\n",
      "Epoch 80/100\n",
      "5278/5278 [==============================] - 1s 103us/step - loss: 5.7056e-04 - acc: 0.9570 - val_loss: 5.2530e-04 - val_acc: 0.9652\n",
      "Epoch 81/100\n",
      "5278/5278 [==============================] - 1s 103us/step - loss: 5.7604e-04 - acc: 0.9576 - val_loss: 5.4073e-04 - val_acc: 0.9614\n",
      "Epoch 82/100\n",
      "5278/5278 [==============================] - 1s 104us/step - loss: 5.4572e-04 - acc: 0.9587 - val_loss: 4.8760e-04 - val_acc: 0.9659\n",
      "Epoch 83/100\n",
      "5278/5278 [==============================] - 1s 100us/step - loss: 5.3519e-04 - acc: 0.9608 - val_loss: 4.9943e-04 - val_acc: 0.9636\n",
      "Epoch 84/100\n",
      "5278/5278 [==============================] - 1s 99us/step - loss: 5.2518e-04 - acc: 0.9606 - val_loss: 4.7745e-04 - val_acc: 0.9674\n",
      "Epoch 85/100\n",
      "5278/5278 [==============================] - 1s 105us/step - loss: 5.9790e-04 - acc: 0.9577 - val_loss: 4.9412e-04 - val_acc: 0.9667\n",
      "Epoch 86/100\n",
      "5278/5278 [==============================] - 1s 100us/step - loss: 5.3105e-04 - acc: 0.9610 - val_loss: 5.1140e-04 - val_acc: 0.9659\n",
      "Epoch 87/100\n",
      "5278/5278 [==============================] - 1s 110us/step - loss: 5.0920e-04 - acc: 0.9631 - val_loss: 4.5258e-04 - val_acc: 0.9682\n",
      "Epoch 88/100\n",
      "5278/5278 [==============================] - 1s 104us/step - loss: 4.8633e-04 - acc: 0.9657 - val_loss: 4.6332e-04 - val_acc: 0.9667\n",
      "Epoch 89/100\n",
      "5278/5278 [==============================] - 1s 102us/step - loss: 4.8360e-04 - acc: 0.9646 - val_loss: 4.4361e-04 - val_acc: 0.9689\n",
      "Epoch 90/100\n",
      "5278/5278 [==============================] - 1s 101us/step - loss: 4.8636e-04 - acc: 0.9636 - val_loss: 4.4249e-04 - val_acc: 0.9727\n",
      "Epoch 91/100\n",
      "5278/5278 [==============================] - 1s 103us/step - loss: 4.5734e-04 - acc: 0.9667 - val_loss: 4.3221e-04 - val_acc: 0.9674\n",
      "Epoch 92/100\n",
      "5278/5278 [==============================] - 1s 101us/step - loss: 4.7184e-04 - acc: 0.9653 - val_loss: 4.4127e-04 - val_acc: 0.9712\n",
      "Epoch 93/100\n",
      "5278/5278 [==============================] - 1s 101us/step - loss: 4.5572e-04 - acc: 0.9672 - val_loss: 4.6739e-04 - val_acc: 0.9682\n",
      "Epoch 94/100\n",
      "5278/5278 [==============================] - 1s 103us/step - loss: 4.5750e-04 - acc: 0.9678 - val_loss: 5.1569e-04 - val_acc: 0.9652\n",
      "Epoch 95/100\n",
      "5278/5278 [==============================] - 1s 100us/step - loss: 5.2448e-04 - acc: 0.9621 - val_loss: 5.0888e-04 - val_acc: 0.9636\n",
      "Epoch 96/100\n",
      "5278/5278 [==============================] - 1s 98us/step - loss: 4.6483e-04 - acc: 0.9661 - val_loss: 4.4185e-04 - val_acc: 0.9705\n",
      "Epoch 97/100\n",
      "5278/5278 [==============================] - 1s 104us/step - loss: 4.4636e-04 - acc: 0.9667 - val_loss: 4.0323e-04 - val_acc: 0.9735\n",
      "Epoch 98/100\n",
      "5278/5278 [==============================] - 1s 102us/step - loss: 4.1364e-04 - acc: 0.9691 - val_loss: 4.1223e-04 - val_acc: 0.9720\n",
      "Epoch 99/100\n",
      "5278/5278 [==============================] - 1s 103us/step - loss: 4.1357e-04 - acc: 0.9684 - val_loss: 3.9160e-04 - val_acc: 0.9727\n",
      "Epoch 100/100\n",
      "5278/5278 [==============================] - 1s 100us/step - loss: 4.3129e-04 - acc: 0.9685 - val_loss: 4.3418e-04 - val_acc: 0.9720\n"
     ]
    },
    {
     "data": {
      "text/plain": [
       "<keras.callbacks.History at 0x7f69148fee10>"
      ]
     },
     "execution_count": 14,
     "metadata": {
      "tags": []
     },
     "output_type": "execute_result"
    }
   ],
   "source": [
    "model.fit(X_train, y_train, verbose=1, validation_data=(X_test, y_test), epochs=100)"
   ]
  },
  {
   "cell_type": "markdown",
   "metadata": {
    "colab_type": "text",
    "id": "Y3WvwT0bB_dn"
   },
   "source": [
    "### Plotting Training vs Validation Accuracy and Loss"
   ]
  },
  {
   "cell_type": "code",
   "execution_count": 0,
   "metadata": {
    "colab": {},
    "colab_type": "code",
    "id": "SmEzqPRUsT-7"
   },
   "outputs": [],
   "source": [
    "train_accuracy = model.history.history['acc']\n",
    "validation_accuracy = model.history.history['val_acc']\n",
    "\n",
    "train_loss = model.history.history['loss']\n",
    "validation_loss = model.history.history['val_loss']"
   ]
  },
  {
   "cell_type": "code",
   "execution_count": 16,
   "metadata": {
    "colab": {
     "base_uri": "https://localhost:8080/",
     "height": 266
    },
    "colab_type": "code",
    "id": "8AoCO3k6tQEJ",
    "outputId": "92d97ed3-f66f-4125-bbdf-d5afa8bba8c5"
   },
   "outputs": [
    {
     "data": {
      "image/png": "[encoded data removed]",
      "text/plain": [
       "<Figure size 432x288 with 1 Axes>"
      ]
     },
     "metadata": {
      "tags": []
     },
     "output_type": "display_data"
    }
   ],
   "source": [
    "plt.plot(train_accuracy, label='training accuracy')\n",
    "plt.plot(validation_accuracy, label='validation accuracy')\n",
    "plt.legend()\n",
    "plt.show()"
   ]
  },
  {
   "cell_type": "code",
   "execution_count": 17,
   "metadata": {
    "colab": {
     "base_uri": "https://localhost:8080/",
     "height": 265
    },
    "colab_type": "code",
    "id": "ngN9N80itq-Z",
    "outputId": "7848c994-784a-4ffc-da2e-dfff45005208"
   },
   "outputs": [
    {
     "data": {
      "image/png": "[encoded data removed]",
      "text/plain": [
       "<Figure size 432x288 with 1 Axes>"
      ]
     },
     "metadata": {
      "tags": []
     },
     "output_type": "display_data"
    }
   ],
   "source": [
    "plt.plot(train_loss, label='training loss')\n",
    "plt.plot(validation_loss, label='validation loss')\n",
    "plt.legend()\n",
    "plt.show()"
   ]
  },
  {
   "cell_type": "code",
   "execution_count": 0,
   "metadata": {
    "colab": {},
    "colab_type": "code",
    "id": "nKS4iqAiuRDh"
   },
   "outputs": [],
   "source": [
    "model.save('model_molecule_dnn.h5')"
   ]
  },
  {
   "cell_type": "markdown",
   "metadata": {
    "colab_type": "text",
    "id": "FtrpQPWKCHBN"
   },
   "source": [
    "### Generating Classification Report and Confusion matrix"
   ]
  },
  {
   "cell_type": "code",
   "execution_count": 0,
   "metadata": {
    "colab": {},
    "colab_type": "code",
    "id": "wGkDzH_BuZ64"
   },
   "outputs": [],
   "source": [
    "y_hat = model.predict(X_test)"
   ]
  },
  {
   "cell_type": "code",
   "execution_count": 0,
   "metadata": {
    "colab": {},
    "colab_type": "code",
    "id": "uHHUOrEidiHI"
   },
   "outputs": [],
   "source": [
    "y_hat_i = []\n",
    "y_test_i = []\n",
    "for i in range(len(y_test)):\n",
    "  y_hat_i.append(np.argmax(y_hat[i]))\n",
    "  y_test_i.append(np.argmax(y_test[i]))\n"
   ]
  },
  {
   "cell_type": "code",
   "execution_count": 0,
   "metadata": {
    "colab": {},
    "colab_type": "code",
    "id": "Bg-mA6ypeF_Y"
   },
   "outputs": [],
   "source": [
    "y_hat_i = np.array(y_hat_i)\n",
    "y_test_i = np.array(y_test_i)"
   ]
  },
  {
   "cell_type": "code",
   "execution_count": 22,
   "metadata": {
    "colab": {
     "base_uri": "https://localhost:8080/",
     "height": 51
    },
    "colab_type": "code",
    "id": "PysaYfmXob53",
    "outputId": "6d184f9a-dbf2-4f63-acaa-b125abaee308"
   },
   "outputs": [
    {
     "name": "stdout",
     "output_type": "stream",
     "text": [
      "Accuracy = \n"
     ]
    },
    {
     "data": {
      "text/plain": [
       "0.9719696969696969"
      ]
     },
     "execution_count": 22,
     "metadata": {
      "tags": []
     },
     "output_type": "execute_result"
    }
   ],
   "source": [
    "print(\"Accuracy = \")\n",
    "sum((y_hat_i == y_test_i).astype(int))/len(y_test_i)"
   ]
  },
  {
   "cell_type": "code",
   "execution_count": 23,
   "metadata": {
    "colab": {
     "base_uri": "https://localhost:8080/",
     "height": 1000
    },
    "colab_type": "code",
    "id": "f1DOARmCeGre",
    "outputId": "66a094e9-2ac5-4c6c-cc4c-7ea3e391567c"
   },
   "outputs": [
    {
     "name": "stdout",
     "output_type": "stream",
     "text": [
      "              precision    recall  f1-score   support\n",
      "\n",
      "           1       1.00      1.00      1.00         9\n",
      "           2       1.00      0.78      0.88         9\n",
      "           3       1.00      1.00      1.00         5\n",
      "           4       1.00      1.00      1.00        17\n",
      "           5       0.96      1.00      0.98        51\n",
      "           6       1.00      0.50      0.67         2\n",
      "           7       1.00      1.00      1.00         2\n",
      "           8       0.67      1.00      0.80         4\n",
      "          10       1.00      0.83      0.91        12\n",
      "          11       0.89      1.00      0.94         8\n",
      "          12       0.75      1.00      0.86         3\n",
      "          13       1.00      1.00      1.00         1\n",
      "          14       1.00      1.00      1.00        11\n",
      "          18       1.00      1.00      1.00         2\n",
      "          19       0.00      0.00      0.00         1\n",
      "          20       1.00      1.00      1.00         4\n",
      "          21       0.00      0.00      0.00         3\n",
      "          22       0.00      0.00      0.00         3\n",
      "          23       0.00      0.00      0.00         0\n",
      "          24       1.00      1.00      1.00         3\n",
      "          26       0.86      1.00      0.92         6\n",
      "          27       1.00      1.00      1.00        11\n",
      "          28       0.29      1.00      0.44         2\n",
      "          29       1.00      1.00      1.00         3\n",
      "          30       0.00      0.00      0.00         2\n",
      "          31       1.00      1.00      1.00         1\n",
      "          32       0.00      0.00      0.00         0\n",
      "          33       1.00      1.00      1.00         3\n",
      "          34       0.57      0.80      0.67         5\n",
      "          35       0.75      0.50      0.60         6\n",
      "          36       1.00      1.00      1.00         1\n",
      "          37       1.00      1.00      1.00         6\n",
      "          38       0.00      0.00      0.00         1\n",
      "          39       1.00      1.00      1.00        68\n",
      "          40       1.00      1.00      1.00        50\n",
      "          41       1.00      1.00      1.00         2\n",
      "          42       1.00      1.00      1.00         1\n",
      "          43       0.91      1.00      0.95        10\n",
      "          44       1.00      0.50      0.67         2\n",
      "          45       1.00      1.00      1.00         2\n",
      "          46       1.00      1.00      1.00        26\n",
      "          47       0.75      1.00      0.86         9\n",
      "          48       0.00      0.00      0.00         2\n",
      "          49       1.00      1.00      1.00         4\n",
      "          50       1.00      1.00      1.00        16\n",
      "          51       1.00      1.00      1.00        10\n",
      "          52       1.00      1.00      1.00         9\n",
      "          53       1.00      1.00      1.00        27\n",
      "          54       1.00      1.00      1.00       200\n",
      "          55       0.00      0.00      0.00         3\n",
      "          56       1.00      1.00      1.00         9\n",
      "          57       1.00      1.00      1.00         1\n",
      "          58       1.00      1.00      1.00        12\n",
      "          59       1.00      1.00      1.00        60\n",
      "          60       0.00      0.00      0.00         2\n",
      "          64       1.00      1.00      1.00         1\n",
      "          69       1.00      1.00      1.00         2\n",
      "          70       1.00      1.00      1.00         1\n",
      "          71       0.87      1.00      0.93        27\n",
      "          72       0.00      0.00      0.00         3\n",
      "          74       0.00      0.00      0.00         0\n",
      "          75       0.00      0.00      0.00         1\n",
      "          77       0.00      0.00      0.00         1\n",
      "          78       0.00      0.00      0.00         0\n",
      "          79       1.00      1.00      1.00         3\n",
      "          80       1.00      1.00      1.00         4\n",
      "          81       1.00      1.00      1.00        72\n",
      "          82       1.00      1.00      1.00         3\n",
      "          84       1.00      1.00      1.00         6\n",
      "          85       1.00      1.00      1.00        15\n",
      "          86       1.00      1.00      1.00         4\n",
      "          87       0.00      0.00      0.00         1\n",
      "          89       1.00      1.00      1.00       225\n",
      "          90       1.00      1.00      1.00       210\n",
      "          91       0.00      0.00      0.00         2\n",
      "          93       0.00      0.00      0.00         1\n",
      "          95       0.56      1.00      0.71         5\n",
      "          96       0.00      0.00      0.00         1\n",
      "         101       1.00      1.00      1.00        10\n",
      "\n",
      "    accuracy                           0.97      1320\n",
      "   macro avg       0.72      0.73      0.72      1320\n",
      "weighted avg       0.96      0.97      0.97      1320\n",
      "\n"
     ]
    },
    {
     "name": "stderr",
     "output_type": "stream",
     "text": [
      "/usr/local/lib/python3.6/dist-packages/sklearn/metrics/_classification.py:1272: UndefinedMetricWarning: Precision and F-score are ill-defined and being set to 0.0 in labels with no predicted samples. Use `zero_division` parameter to control this behavior.\n",
      "  _warn_prf(average, modifier, msg_start, len(result))\n",
      "/usr/local/lib/python3.6/dist-packages/sklearn/metrics/_classification.py:1272: UndefinedMetricWarning: Recall and F-score are ill-defined and being set to 0.0 in labels with no true samples. Use `zero_division` parameter to control this behavior.\n",
      "  _warn_prf(average, modifier, msg_start, len(result))\n"
     ]
    }
   ],
   "source": [
    "from sklearn.metrics import classification_report, confusion_matrix\n",
    "print(classification_report(y_test_i, y_hat_i))"
   ]
  },
  {
   "cell_type": "code",
   "execution_count": 24,
   "metadata": {
    "colab": {
     "base_uri": "https://localhost:8080/",
     "height": 136
    },
    "colab_type": "code",
    "id": "uvY61XK5ooX5",
    "outputId": "9ecd18a1-67df-4bc9-c0f0-1ce5f7188262"
   },
   "outputs": [
    {
     "data": {
      "text/plain": [
       "array([[ 9,  0,  0, ...,  0,  0,  0],\n",
       "       [ 0,  7,  0, ...,  0,  0,  0],\n",
       "       [ 0,  0,  5, ...,  0,  0,  0],\n",
       "       ...,\n",
       "       [ 0,  0,  0, ...,  5,  0,  0],\n",
       "       [ 0,  0,  0, ...,  0,  0,  0],\n",
       "       [ 0,  0,  0, ...,  0,  0, 10]])"
      ]
     },
     "execution_count": 24,
     "metadata": {
      "tags": []
     },
     "output_type": "execute_result"
    }
   ],
   "source": [
    "confusion_matrix(y_test_i, y_hat_i)"
   ]
  },
  {
   "cell_type": "code",
   "execution_count": 0,
   "metadata": {
    "colab": {},
    "colab_type": "code",
    "id": "vUz66o9yqaZH"
   },
   "outputs": [],
   "source": [
    "from sklearn.metrics import plot_confusion_matrix"
   ]
  },
  {
   "cell_type": "code",
   "execution_count": 36,
   "metadata": {
    "colab": {
     "base_uri": "https://localhost:8080/",
     "height": 607
    },
    "colab_type": "code",
    "id": "NQ_iJ5RBEJlE",
    "outputId": "62954866-547f-4e33-e64a-340f79b347f5"
   },
   "outputs": [
    {
     "data": {
      "image/png": "[encoded data removed]",
      "text/plain": [
       "<Figure size 720x720 with 1 Axes>"
      ]
     },
     "metadata": {
      "tags": []
     },
     "output_type": "display_data"
    }
   ],
   "source": [
    "plt.figure(figsize=(10, 10))\n",
    "plt.title(\"Confusion Metrics\")\n",
    "plt.imshow(confusion_matrix(y_test_i, y_hat_i), cmap='Paired', interpolation='nearest')\n",
    "plt.show()"
   ]
  },
  {
   "cell_type": "code",
   "execution_count": 0,
   "metadata": {
    "colab": {},
    "colab_type": "code",
    "id": "fnaBQz2BES0V"
   },
   "outputs": [],
   "source": []
  }
 ],
 "metadata": {
  "accelerator": "GPU",
  "colab": {
   "name": "credicxo1",
   "provenance": []
  },
  "kernelspec": {
   "display_name": "Python 3",
   "language": "python",
   "name": "python3"
  },
  "language_info": {
   "codemirror_mode": {
    "name": "ipython",
    "version": 3
   },
   "file_extension": ".py",
   "mimetype": "text/x-python",
   "name": "python",
   "nbconvert_exporter": "python",
   "pygments_lexer": "ipython3",
   "version": "3.7.3"
  }
 },
 "nbformat": 4,
 "nbformat_minor": 1
}
