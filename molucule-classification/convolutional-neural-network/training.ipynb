{
 "cells": [
  {
   "cell_type": "markdown",
   "metadata": {
    "colab_type": "text",
    "id": "8LMSTPk0iDTh"
   },
   "source": [
    "# Classification based on <b>'molucle_name'</b> using Convolution Neural Network"
   ]
  },
  {
   "cell_type": "markdown",
   "metadata": {
    "colab_type": "text",
    "id": "JQnNmTSQBKOm"
   },
   "source": [
    "Dataset is uploaded to a github repo URL is saved here"
   ]
  },
  {
   "cell_type": "code",
   "execution_count": 0,
   "metadata": {
    "colab": {},
    "colab_type": "code",
    "id": "jOUkGH2vlZ03"
   },
   "outputs": [],
   "source": [
    "URL = \"https://raw.githubusercontent.com/rani700/datasets/master/musk_csv.csv\""
   ]
  },
  {
   "cell_type": "markdown",
   "metadata": {
    "colab_type": "text",
    "id": "UQESI1OVBOL2"
   },
   "source": [
    "### Importing libraries for data manipulation and visualisation"
   ]
  },
  {
   "cell_type": "code",
   "execution_count": 0,
   "metadata": {
    "colab": {},
    "colab_type": "code",
    "id": "nGHYb8Ublg8v"
   },
   "outputs": [],
   "source": [
    "import matplotlib.pyplot as plt\n",
    "import numpy as np\n",
    "import pandas as pd"
   ]
  },
  {
   "cell_type": "markdown",
   "metadata": {
    "colab_type": "text",
    "id": "wAIk6zjTBQZs"
   },
   "source": [
    "### Reading dataset into DataFrame"
   ]
  },
  {
   "cell_type": "code",
   "execution_count": 0,
   "metadata": {
    "colab": {},
    "colab_type": "code",
    "id": "yrGP_RT3oY5l"
   },
   "outputs": [],
   "source": [
    "df = pd.read_csv(URL)"
   ]
  },
  {
   "cell_type": "code",
   "execution_count": 4,
   "metadata": {
    "colab": {
     "base_uri": "https://localhost:8080/",
     "height": 253
    },
    "colab_type": "code",
    "id": "7IcIrmf-obBt",
    "outputId": "6d190764-3a61-475f-a2a1-60cfea324f44"
   },
   "outputs": [
    {
     "data": {
      "text/html": [
       "<div>\n",
       "<style scoped>\n",
       "    .dataframe tbody tr th:only-of-type {\n",
       "        vertical-align: middle;\n",
       "    }\n",
       "\n",
       "    .dataframe tbody tr th {\n",
       "        vertical-align: top;\n",
       "    }\n",
       "\n",
       "    .dataframe thead th {\n",
       "        text-align: right;\n",
       "    }\n",
       "</style>\n",
       "<table border=\"1\" class=\"dataframe\">\n",
       "  <thead>\n",
       "    <tr style=\"text-align: right;\">\n",
       "      <th></th>\n",
       "      <th>ID</th>\n",
       "      <th>molecule_name</th>\n",
       "      <th>conformation_name</th>\n",
       "      <th>f1</th>\n",
       "      <th>f2</th>\n",
       "      <th>f3</th>\n",
       "      <th>f4</th>\n",
       "      <th>f5</th>\n",
       "      <th>f6</th>\n",
       "      <th>f7</th>\n",
       "      <th>f8</th>\n",
       "      <th>f9</th>\n",
       "      <th>f10</th>\n",
       "      <th>f11</th>\n",
       "      <th>f12</th>\n",
       "      <th>f13</th>\n",
       "      <th>f14</th>\n",
       "      <th>f15</th>\n",
       "      <th>f16</th>\n",
       "      <th>f17</th>\n",
       "      <th>f18</th>\n",
       "      <th>f19</th>\n",
       "      <th>f20</th>\n",
       "      <th>f21</th>\n",
       "      <th>f22</th>\n",
       "      <th>f23</th>\n",
       "      <th>f24</th>\n",
       "      <th>f25</th>\n",
       "      <th>f26</th>\n",
       "      <th>f27</th>\n",
       "      <th>f28</th>\n",
       "      <th>f29</th>\n",
       "      <th>f30</th>\n",
       "      <th>f31</th>\n",
       "      <th>f32</th>\n",
       "      <th>f33</th>\n",
       "      <th>f34</th>\n",
       "      <th>f35</th>\n",
       "      <th>f36</th>\n",
       "      <th>f37</th>\n",
       "      <th>...</th>\n",
       "      <th>f128</th>\n",
       "      <th>f129</th>\n",
       "      <th>f130</th>\n",
       "      <th>f131</th>\n",
       "      <th>f132</th>\n",
       "      <th>f133</th>\n",
       "      <th>f134</th>\n",
       "      <th>f135</th>\n",
       "      <th>f136</th>\n",
       "      <th>f137</th>\n",
       "      <th>f138</th>\n",
       "      <th>f139</th>\n",
       "      <th>f140</th>\n",
       "      <th>f141</th>\n",
       "      <th>f142</th>\n",
       "      <th>f143</th>\n",
       "      <th>f144</th>\n",
       "      <th>f145</th>\n",
       "      <th>f146</th>\n",
       "      <th>f147</th>\n",
       "      <th>f148</th>\n",
       "      <th>f149</th>\n",
       "      <th>f150</th>\n",
       "      <th>f151</th>\n",
       "      <th>f152</th>\n",
       "      <th>f153</th>\n",
       "      <th>f154</th>\n",
       "      <th>f155</th>\n",
       "      <th>f156</th>\n",
       "      <th>f157</th>\n",
       "      <th>f158</th>\n",
       "      <th>f159</th>\n",
       "      <th>f160</th>\n",
       "      <th>f161</th>\n",
       "      <th>f162</th>\n",
       "      <th>f163</th>\n",
       "      <th>f164</th>\n",
       "      <th>f165</th>\n",
       "      <th>f166</th>\n",
       "      <th>class</th>\n",
       "    </tr>\n",
       "  </thead>\n",
       "  <tbody>\n",
       "    <tr>\n",
       "      <th>0</th>\n",
       "      <td>1</td>\n",
       "      <td>MUSK-211</td>\n",
       "      <td>211_1+1</td>\n",
       "      <td>46</td>\n",
       "      <td>-108</td>\n",
       "      <td>-60</td>\n",
       "      <td>-69</td>\n",
       "      <td>-117</td>\n",
       "      <td>49</td>\n",
       "      <td>38</td>\n",
       "      <td>-161</td>\n",
       "      <td>-8</td>\n",
       "      <td>5</td>\n",
       "      <td>-323</td>\n",
       "      <td>-220</td>\n",
       "      <td>-113</td>\n",
       "      <td>-299</td>\n",
       "      <td>-283</td>\n",
       "      <td>-307</td>\n",
       "      <td>-31</td>\n",
       "      <td>-106</td>\n",
       "      <td>-227</td>\n",
       "      <td>-42</td>\n",
       "      <td>-59</td>\n",
       "      <td>-22</td>\n",
       "      <td>-67</td>\n",
       "      <td>189</td>\n",
       "      <td>81</td>\n",
       "      <td>17</td>\n",
       "      <td>-27</td>\n",
       "      <td>-89</td>\n",
       "      <td>-67</td>\n",
       "      <td>105</td>\n",
       "      <td>-116</td>\n",
       "      <td>124</td>\n",
       "      <td>-106</td>\n",
       "      <td>5</td>\n",
       "      <td>-120</td>\n",
       "      <td>63</td>\n",
       "      <td>-165</td>\n",
       "      <td>...</td>\n",
       "      <td>81</td>\n",
       "      <td>-114</td>\n",
       "      <td>-187</td>\n",
       "      <td>45</td>\n",
       "      <td>-118</td>\n",
       "      <td>-75</td>\n",
       "      <td>-182</td>\n",
       "      <td>-234</td>\n",
       "      <td>-19</td>\n",
       "      <td>12</td>\n",
       "      <td>-13</td>\n",
       "      <td>-41</td>\n",
       "      <td>-119</td>\n",
       "      <td>-149</td>\n",
       "      <td>70</td>\n",
       "      <td>17</td>\n",
       "      <td>-20</td>\n",
       "      <td>-177</td>\n",
       "      <td>-101</td>\n",
       "      <td>-116</td>\n",
       "      <td>-14</td>\n",
       "      <td>-50</td>\n",
       "      <td>24</td>\n",
       "      <td>-81</td>\n",
       "      <td>-125</td>\n",
       "      <td>-114</td>\n",
       "      <td>-44</td>\n",
       "      <td>128</td>\n",
       "      <td>3</td>\n",
       "      <td>-244</td>\n",
       "      <td>-308</td>\n",
       "      <td>52</td>\n",
       "      <td>-7</td>\n",
       "      <td>39</td>\n",
       "      <td>126</td>\n",
       "      <td>156</td>\n",
       "      <td>-50</td>\n",
       "      <td>-112</td>\n",
       "      <td>96</td>\n",
       "      <td>1</td>\n",
       "    </tr>\n",
       "    <tr>\n",
       "      <th>1</th>\n",
       "      <td>2</td>\n",
       "      <td>MUSK-211</td>\n",
       "      <td>211_1+10</td>\n",
       "      <td>41</td>\n",
       "      <td>-188</td>\n",
       "      <td>-145</td>\n",
       "      <td>22</td>\n",
       "      <td>-117</td>\n",
       "      <td>-6</td>\n",
       "      <td>57</td>\n",
       "      <td>-171</td>\n",
       "      <td>-39</td>\n",
       "      <td>-100</td>\n",
       "      <td>-319</td>\n",
       "      <td>-111</td>\n",
       "      <td>-228</td>\n",
       "      <td>-281</td>\n",
       "      <td>-281</td>\n",
       "      <td>-300</td>\n",
       "      <td>54</td>\n",
       "      <td>-149</td>\n",
       "      <td>-98</td>\n",
       "      <td>-196</td>\n",
       "      <td>-27</td>\n",
       "      <td>-22</td>\n",
       "      <td>2</td>\n",
       "      <td>75</td>\n",
       "      <td>49</td>\n",
       "      <td>-34</td>\n",
       "      <td>45</td>\n",
       "      <td>-91</td>\n",
       "      <td>32</td>\n",
       "      <td>95</td>\n",
       "      <td>-116</td>\n",
       "      <td>85</td>\n",
       "      <td>-23</td>\n",
       "      <td>42</td>\n",
       "      <td>-58</td>\n",
       "      <td>61</td>\n",
       "      <td>-171</td>\n",
       "      <td>...</td>\n",
       "      <td>88</td>\n",
       "      <td>-21</td>\n",
       "      <td>-32</td>\n",
       "      <td>32</td>\n",
       "      <td>-128</td>\n",
       "      <td>-72</td>\n",
       "      <td>-124</td>\n",
       "      <td>-218</td>\n",
       "      <td>-94</td>\n",
       "      <td>53</td>\n",
       "      <td>-79</td>\n",
       "      <td>-20</td>\n",
       "      <td>-35</td>\n",
       "      <td>-26</td>\n",
       "      <td>4</td>\n",
       "      <td>50</td>\n",
       "      <td>17</td>\n",
       "      <td>-177</td>\n",
       "      <td>-102</td>\n",
       "      <td>-121</td>\n",
       "      <td>-66</td>\n",
       "      <td>-77</td>\n",
       "      <td>51</td>\n",
       "      <td>-41</td>\n",
       "      <td>-34</td>\n",
       "      <td>-32</td>\n",
       "      <td>-63</td>\n",
       "      <td>115</td>\n",
       "      <td>-5</td>\n",
       "      <td>-235</td>\n",
       "      <td>-59</td>\n",
       "      <td>-2</td>\n",
       "      <td>52</td>\n",
       "      <td>103</td>\n",
       "      <td>136</td>\n",
       "      <td>169</td>\n",
       "      <td>-61</td>\n",
       "      <td>-136</td>\n",
       "      <td>79</td>\n",
       "      <td>1</td>\n",
       "    </tr>\n",
       "    <tr>\n",
       "      <th>2</th>\n",
       "      <td>3</td>\n",
       "      <td>MUSK-211</td>\n",
       "      <td>211_1+11</td>\n",
       "      <td>46</td>\n",
       "      <td>-194</td>\n",
       "      <td>-145</td>\n",
       "      <td>28</td>\n",
       "      <td>-117</td>\n",
       "      <td>73</td>\n",
       "      <td>57</td>\n",
       "      <td>-168</td>\n",
       "      <td>-39</td>\n",
       "      <td>-22</td>\n",
       "      <td>-319</td>\n",
       "      <td>-111</td>\n",
       "      <td>-104</td>\n",
       "      <td>-283</td>\n",
       "      <td>-282</td>\n",
       "      <td>-303</td>\n",
       "      <td>52</td>\n",
       "      <td>-152</td>\n",
       "      <td>-97</td>\n",
       "      <td>-225</td>\n",
       "      <td>-28</td>\n",
       "      <td>-22</td>\n",
       "      <td>2</td>\n",
       "      <td>179</td>\n",
       "      <td>49</td>\n",
       "      <td>-33</td>\n",
       "      <td>46</td>\n",
       "      <td>-88</td>\n",
       "      <td>22</td>\n",
       "      <td>79</td>\n",
       "      <td>-116</td>\n",
       "      <td>19</td>\n",
       "      <td>-11</td>\n",
       "      <td>6</td>\n",
       "      <td>-38</td>\n",
       "      <td>71</td>\n",
       "      <td>-175</td>\n",
       "      <td>...</td>\n",
       "      <td>64</td>\n",
       "      <td>0</td>\n",
       "      <td>-23</td>\n",
       "      <td>-15</td>\n",
       "      <td>-129</td>\n",
       "      <td>-74</td>\n",
       "      <td>-125</td>\n",
       "      <td>-221</td>\n",
       "      <td>-93</td>\n",
       "      <td>53</td>\n",
       "      <td>-72</td>\n",
       "      <td>-19</td>\n",
       "      <td>-33</td>\n",
       "      <td>-26</td>\n",
       "      <td>3</td>\n",
       "      <td>49</td>\n",
       "      <td>17</td>\n",
       "      <td>-177</td>\n",
       "      <td>-102</td>\n",
       "      <td>-119</td>\n",
       "      <td>-66</td>\n",
       "      <td>-81</td>\n",
       "      <td>51</td>\n",
       "      <td>-41</td>\n",
       "      <td>-27</td>\n",
       "      <td>-41</td>\n",
       "      <td>-140</td>\n",
       "      <td>77</td>\n",
       "      <td>-163</td>\n",
       "      <td>-238</td>\n",
       "      <td>-134</td>\n",
       "      <td>-154</td>\n",
       "      <td>57</td>\n",
       "      <td>143</td>\n",
       "      <td>142</td>\n",
       "      <td>165</td>\n",
       "      <td>-67</td>\n",
       "      <td>-145</td>\n",
       "      <td>39</td>\n",
       "      <td>1</td>\n",
       "    </tr>\n",
       "    <tr>\n",
       "      <th>3</th>\n",
       "      <td>4</td>\n",
       "      <td>MUSK-211</td>\n",
       "      <td>211_1+12</td>\n",
       "      <td>41</td>\n",
       "      <td>-188</td>\n",
       "      <td>-145</td>\n",
       "      <td>22</td>\n",
       "      <td>-117</td>\n",
       "      <td>-7</td>\n",
       "      <td>57</td>\n",
       "      <td>-170</td>\n",
       "      <td>-39</td>\n",
       "      <td>-99</td>\n",
       "      <td>-319</td>\n",
       "      <td>-111</td>\n",
       "      <td>-228</td>\n",
       "      <td>-282</td>\n",
       "      <td>-281</td>\n",
       "      <td>-301</td>\n",
       "      <td>54</td>\n",
       "      <td>-150</td>\n",
       "      <td>-98</td>\n",
       "      <td>-196</td>\n",
       "      <td>-28</td>\n",
       "      <td>-22</td>\n",
       "      <td>2</td>\n",
       "      <td>77</td>\n",
       "      <td>48</td>\n",
       "      <td>-34</td>\n",
       "      <td>46</td>\n",
       "      <td>-91</td>\n",
       "      <td>32</td>\n",
       "      <td>94</td>\n",
       "      <td>-116</td>\n",
       "      <td>84</td>\n",
       "      <td>-23</td>\n",
       "      <td>41</td>\n",
       "      <td>-58</td>\n",
       "      <td>62</td>\n",
       "      <td>-171</td>\n",
       "      <td>...</td>\n",
       "      <td>88</td>\n",
       "      <td>-20</td>\n",
       "      <td>-32</td>\n",
       "      <td>32</td>\n",
       "      <td>-128</td>\n",
       "      <td>-73</td>\n",
       "      <td>-125</td>\n",
       "      <td>-220</td>\n",
       "      <td>-93</td>\n",
       "      <td>53</td>\n",
       "      <td>-78</td>\n",
       "      <td>-19</td>\n",
       "      <td>-34</td>\n",
       "      <td>-26</td>\n",
       "      <td>4</td>\n",
       "      <td>50</td>\n",
       "      <td>17</td>\n",
       "      <td>-177</td>\n",
       "      <td>-101</td>\n",
       "      <td>-121</td>\n",
       "      <td>-65</td>\n",
       "      <td>-77</td>\n",
       "      <td>52</td>\n",
       "      <td>-41</td>\n",
       "      <td>-34</td>\n",
       "      <td>-32</td>\n",
       "      <td>-66</td>\n",
       "      <td>115</td>\n",
       "      <td>-7</td>\n",
       "      <td>-236</td>\n",
       "      <td>-60</td>\n",
       "      <td>-4</td>\n",
       "      <td>52</td>\n",
       "      <td>104</td>\n",
       "      <td>136</td>\n",
       "      <td>168</td>\n",
       "      <td>-60</td>\n",
       "      <td>-135</td>\n",
       "      <td>80</td>\n",
       "      <td>1</td>\n",
       "    </tr>\n",
       "    <tr>\n",
       "      <th>4</th>\n",
       "      <td>5</td>\n",
       "      <td>MUSK-211</td>\n",
       "      <td>211_1+13</td>\n",
       "      <td>41</td>\n",
       "      <td>-188</td>\n",
       "      <td>-145</td>\n",
       "      <td>22</td>\n",
       "      <td>-117</td>\n",
       "      <td>-7</td>\n",
       "      <td>57</td>\n",
       "      <td>-170</td>\n",
       "      <td>-39</td>\n",
       "      <td>-99</td>\n",
       "      <td>-319</td>\n",
       "      <td>-111</td>\n",
       "      <td>-228</td>\n",
       "      <td>-282</td>\n",
       "      <td>-281</td>\n",
       "      <td>-301</td>\n",
       "      <td>54</td>\n",
       "      <td>-150</td>\n",
       "      <td>-98</td>\n",
       "      <td>-196</td>\n",
       "      <td>-28</td>\n",
       "      <td>-22</td>\n",
       "      <td>2</td>\n",
       "      <td>78</td>\n",
       "      <td>48</td>\n",
       "      <td>-34</td>\n",
       "      <td>46</td>\n",
       "      <td>-91</td>\n",
       "      <td>31</td>\n",
       "      <td>94</td>\n",
       "      <td>-116</td>\n",
       "      <td>84</td>\n",
       "      <td>-23</td>\n",
       "      <td>41</td>\n",
       "      <td>-58</td>\n",
       "      <td>62</td>\n",
       "      <td>-171</td>\n",
       "      <td>...</td>\n",
       "      <td>88</td>\n",
       "      <td>-20</td>\n",
       "      <td>-32</td>\n",
       "      <td>32</td>\n",
       "      <td>-128</td>\n",
       "      <td>-73</td>\n",
       "      <td>-125</td>\n",
       "      <td>-220</td>\n",
       "      <td>-93</td>\n",
       "      <td>53</td>\n",
       "      <td>-78</td>\n",
       "      <td>-19</td>\n",
       "      <td>-34</td>\n",
       "      <td>-26</td>\n",
       "      <td>4</td>\n",
       "      <td>50</td>\n",
       "      <td>17</td>\n",
       "      <td>-177</td>\n",
       "      <td>-101</td>\n",
       "      <td>-121</td>\n",
       "      <td>-65</td>\n",
       "      <td>-76</td>\n",
       "      <td>52</td>\n",
       "      <td>-41</td>\n",
       "      <td>-34</td>\n",
       "      <td>-32</td>\n",
       "      <td>-66</td>\n",
       "      <td>115</td>\n",
       "      <td>-8</td>\n",
       "      <td>-236</td>\n",
       "      <td>-60</td>\n",
       "      <td>-4</td>\n",
       "      <td>52</td>\n",
       "      <td>104</td>\n",
       "      <td>137</td>\n",
       "      <td>168</td>\n",
       "      <td>-60</td>\n",
       "      <td>-135</td>\n",
       "      <td>80</td>\n",
       "      <td>1</td>\n",
       "    </tr>\n",
       "  </tbody>\n",
       "</table>\n",
       "<p>5 rows × 170 columns</p>\n",
       "</div>"
      ],
      "text/plain": [
       "   ID molecule_name conformation_name  f1   f2  ...  f163  f164  f165  f166  class\n",
       "0   1      MUSK-211           211_1+1  46 -108  ...   156   -50  -112    96      1\n",
       "1   2      MUSK-211          211_1+10  41 -188  ...   169   -61  -136    79      1\n",
       "2   3      MUSK-211          211_1+11  46 -194  ...   165   -67  -145    39      1\n",
       "3   4      MUSK-211          211_1+12  41 -188  ...   168   -60  -135    80      1\n",
       "4   5      MUSK-211          211_1+13  41 -188  ...   168   -60  -135    80      1\n",
       "\n",
       "[5 rows x 170 columns]"
      ]
     },
     "execution_count": 4,
     "metadata": {
      "tags": []
     },
     "output_type": "execute_result"
    }
   ],
   "source": [
    "df.head()"
   ]
  },
  {
   "cell_type": "markdown",
   "metadata": {
    "colab_type": "text",
    "id": "XPL4PBbyBVdG"
   },
   "source": [
    "### Seperating Features (Input) and Output (Labels) for training\n",
    "here I have taken molecule_name as output / labels"
   ]
  },
  {
   "cell_type": "code",
   "execution_count": 0,
   "metadata": {
    "colab": {},
    "colab_type": "code",
    "id": "1Pw18ePsocdd"
   },
   "outputs": [],
   "source": [
    "X = df.iloc[:, 3:-1].values"
   ]
  },
  {
   "cell_type": "code",
   "execution_count": 6,
   "metadata": {
    "colab": {
     "base_uri": "https://localhost:8080/",
     "height": 34
    },
    "colab_type": "code",
    "id": "K-jUVbQJpN_J",
    "outputId": "875f095a-11b5-484a-d3da-ff5882b97b51"
   },
   "outputs": [
    {
     "data": {
      "text/plain": [
       "(6598, 166)"
      ]
     },
     "execution_count": 6,
     "metadata": {
      "tags": []
     },
     "output_type": "execute_result"
    }
   ],
   "source": [
    "X.shape"
   ]
  },
  {
   "cell_type": "code",
   "execution_count": 0,
   "metadata": {
    "colab": {},
    "colab_type": "code",
    "id": "Dpnaab7fqQhJ"
   },
   "outputs": [],
   "source": [
    "y = df.iloc[:, 1].values"
   ]
  },
  {
   "cell_type": "code",
   "execution_count": 8,
   "metadata": {
    "colab": {
     "base_uri": "https://localhost:8080/",
     "height": 34
    },
    "colab_type": "code",
    "id": "tK6zgEjAfH1X",
    "outputId": "af8d947e-2195-4486-d2c4-e8088e0bf493"
   },
   "outputs": [
    {
     "data": {
      "text/plain": [
       "(102,)"
      ]
     },
     "execution_count": 8,
     "metadata": {
      "tags": []
     },
     "output_type": "execute_result"
    }
   ],
   "source": [
    "np.unique(y).shape"
   ]
  },
  {
   "cell_type": "markdown",
   "metadata": {
    "colab_type": "text",
    "id": "Za7A-SMSBsVK"
   },
   "source": [
    "### One Hot Encoding the labels for training"
   ]
  },
  {
   "cell_type": "code",
   "execution_count": 0,
   "metadata": {
    "colab": {},
    "colab_type": "code",
    "id": "jS4lO8FWevvz"
   },
   "outputs": [],
   "source": [
    "from sklearn.preprocessing import OneHotEncoder\n",
    "y = OneHotEncoder().fit_transform(y.reshape(-1, 1)).toarray()"
   ]
  },
  {
   "cell_type": "markdown",
   "metadata": {
    "colab_type": "text",
    "id": "xpWQW81KBwpH"
   },
   "source": [
    "### Scaling the data using StandardScaler"
   ]
  },
  {
   "cell_type": "code",
   "execution_count": 0,
   "metadata": {
    "colab": {},
    "colab_type": "code",
    "id": "5YtB7gARsdha"
   },
   "outputs": [],
   "source": [
    "from sklearn.preprocessing import StandardScaler\n",
    "X = StandardScaler().fit_transform(X)"
   ]
  },
  {
   "cell_type": "code",
   "execution_count": 0,
   "metadata": {
    "colab": {},
    "colab_type": "code",
    "id": "71w3LTM_MRx-"
   },
   "outputs": [],
   "source": [
    "X = X.reshape(X.shape[0], X.shape[1], 1)"
   ]
  },
  {
   "cell_type": "markdown",
   "metadata": {
    "colab_type": "text",
    "id": "1_L30ORuByZa"
   },
   "source": [
    "### Spliting the dataset into training and testing set (Ratio 80:20)"
   ]
  },
  {
   "cell_type": "code",
   "execution_count": 0,
   "metadata": {
    "colab": {},
    "colab_type": "code",
    "id": "QsnDuBVsqYsX"
   },
   "outputs": [],
   "source": [
    "from sklearn.model_selection import train_test_split\n",
    "X_train, X_test, y_train, y_test = train_test_split(X, y, train_size=0.8, test_size=0.2)"
   ]
  },
  {
   "cell_type": "markdown",
   "metadata": {
    "colab_type": "text",
    "id": "yWYLJtkXB3DK"
   },
   "source": [
    "### Importing Sequential model and Dense Layer from keras"
   ]
  },
  {
   "cell_type": "code",
   "execution_count": 13,
   "metadata": {
    "colab": {
     "base_uri": "https://localhost:8080/",
     "height": 80
    },
    "colab_type": "code",
    "id": "mbXpPhQyrlxt",
    "outputId": "08e8a252-e60e-4f02-b902-0a5962e4f5a0"
   },
   "outputs": [
    {
     "name": "stderr",
     "output_type": "stream",
     "text": [
      "Using TensorFlow backend.\n"
     ]
    },
    {
     "data": {
      "text/html": [
       "<p style=\"color: red;\">\n",
       "The default version of TensorFlow in Colab will soon switch to TensorFlow 2.x.<br>\n",
       "We recommend you <a href=\"https://www.tensorflow.org/guide/migrate\" target=\"_blank\">upgrade</a> now \n",
       "or ensure your notebook will continue to use TensorFlow 1.x via the <code>%tensorflow_version 1.x</code> magic:\n",
       "<a href=\"https://colab.research.google.com/notebooks/tensorflow_version.ipynb\" target=\"_blank\">more info</a>.</p>\n"
      ],
      "text/plain": [
       "<IPython.core.display.HTML object>"
      ]
     },
     "metadata": {
      "tags": []
     },
     "output_type": "display_data"
    }
   ],
   "source": [
    "from keras import Sequential\n",
    "from keras.layers import Dense, Flatten\n",
    "from keras.layers.convolutional import Conv1D, Conv2D, MaxPooling1D, MaxPooling2D"
   ]
  },
  {
   "cell_type": "markdown",
   "metadata": {
    "colab_type": "text",
    "id": "fM8X5098B6om"
   },
   "source": [
    "### Making model for training"
   ]
  },
  {
   "cell_type": "code",
   "execution_count": 0,
   "metadata": {
    "colab": {},
    "colab_type": "code",
    "id": "R_UquosurvSL"
   },
   "outputs": [],
   "source": [
    "model = Sequential()\n",
    "model.add(Conv1D(filters=64, kernel_size=3, activation='softmax', input_shape=(X.shape[1],X.shape[2])))\n",
    "model.add(MaxPooling1D())\n",
    "model.add(Conv1D(filters=32, kernel_size=3, activation='relu'))\n",
    "model.add(Flatten())\n",
    "# model.add(Dense(50, activation='relu'))\n",
    "model.add(Dense(y.shape[1], activation='sigmoid'))\n",
    "model.compile(optimizer='adam', loss='mse', metrics=['accuracy'])"
   ]
  },
  {
   "cell_type": "markdown",
   "metadata": {
    "colab_type": "text",
    "id": "jGsNti5FB9v7"
   },
   "source": [
    "### Training on train set generated above and using test set as validation data over 20 epochs"
   ]
  },
  {
   "cell_type": "code",
   "execution_count": 55,
   "metadata": {
    "colab": {
     "base_uri": "https://localhost:8080/",
     "height": 1000
    },
    "colab_type": "code",
    "id": "bxf_asaxsINQ",
    "outputId": "19717bfd-ce81-49fd-ddf9-4f90c39aef0d"
   },
   "outputs": [
    {
     "name": "stdout",
     "output_type": "stream",
     "text": [
      "Train on 5278 samples, validate on 1320 samples\n",
      "Epoch 1/30\n",
      "5278/5278 [==============================] - 2s 426us/step - loss: 0.0250 - acc: 0.1455 - val_loss: 0.0090 - val_acc: 0.1689\n",
      "Epoch 2/30\n",
      "5278/5278 [==============================] - 1s 265us/step - loss: 0.0090 - acc: 0.1538 - val_loss: 0.0090 - val_acc: 0.2227\n",
      "Epoch 3/30\n",
      "5278/5278 [==============================] - 1s 267us/step - loss: 0.0088 - acc: 0.1881 - val_loss: 0.0083 - val_acc: 0.2121\n",
      "Epoch 4/30\n",
      "5278/5278 [==============================] - 1s 279us/step - loss: 0.0073 - acc: 0.4087 - val_loss: 0.0060 - val_acc: 0.5205\n",
      "Epoch 5/30\n",
      "5278/5278 [==============================] - 1s 259us/step - loss: 0.0048 - acc: 0.6679 - val_loss: 0.0041 - val_acc: 0.7432\n",
      "Epoch 6/30\n",
      "5278/5278 [==============================] - 1s 254us/step - loss: 0.0035 - acc: 0.7815 - val_loss: 0.0033 - val_acc: 0.8015\n",
      "Epoch 7/30\n",
      "5278/5278 [==============================] - 1s 275us/step - loss: 0.0027 - acc: 0.8494 - val_loss: 0.0027 - val_acc: 0.8477\n",
      "Epoch 8/30\n",
      "5278/5278 [==============================] - 1s 261us/step - loss: 0.0021 - acc: 0.8907 - val_loss: 0.0023 - val_acc: 0.8864\n",
      "Epoch 9/30\n",
      "5278/5278 [==============================] - 1s 269us/step - loss: 0.0018 - acc: 0.9157 - val_loss: 0.0020 - val_acc: 0.8818\n",
      "Epoch 10/30\n",
      "5278/5278 [==============================] - 1s 253us/step - loss: 0.0015 - acc: 0.9343 - val_loss: 0.0018 - val_acc: 0.9106\n",
      "Epoch 11/30\n",
      "5278/5278 [==============================] - 1s 259us/step - loss: 0.0012 - acc: 0.9449 - val_loss: 0.0016 - val_acc: 0.9114\n",
      "Epoch 12/30\n",
      "5278/5278 [==============================] - 1s 271us/step - loss: 0.0011 - acc: 0.9562 - val_loss: 0.0014 - val_acc: 0.9326\n",
      "Epoch 13/30\n",
      "5278/5278 [==============================] - 1s 268us/step - loss: 9.1169e-04 - acc: 0.9612 - val_loss: 0.0013 - val_acc: 0.9371\n",
      "Epoch 14/30\n",
      "5278/5278 [==============================] - 1s 277us/step - loss: 8.0201e-04 - acc: 0.9674 - val_loss: 0.0011 - val_acc: 0.9447\n",
      "Epoch 15/30\n",
      "5278/5278 [==============================] - 1s 278us/step - loss: 7.0010e-04 - acc: 0.9693 - val_loss: 0.0011 - val_acc: 0.9439\n",
      "Epoch 16/30\n",
      "5278/5278 [==============================] - 1s 270us/step - loss: 6.5049e-04 - acc: 0.9708 - val_loss: 0.0010 - val_acc: 0.9379\n",
      "Epoch 17/30\n",
      "5278/5278 [==============================] - 1s 266us/step - loss: 5.8056e-04 - acc: 0.9746 - val_loss: 9.8110e-04 - val_acc: 0.9439\n",
      "Epoch 18/30\n",
      "5278/5278 [==============================] - 1s 266us/step - loss: 5.2866e-04 - acc: 0.9748 - val_loss: 9.3646e-04 - val_acc: 0.9492\n",
      "Epoch 19/30\n",
      "5278/5278 [==============================] - 1s 254us/step - loss: 4.7930e-04 - acc: 0.9765 - val_loss: 8.7027e-04 - val_acc: 0.9515\n",
      "Epoch 20/30\n",
      "5278/5278 [==============================] - 1s 256us/step - loss: 4.3937e-04 - acc: 0.9773 - val_loss: 8.3488e-04 - val_acc: 0.9530\n",
      "Epoch 21/30\n",
      "5278/5278 [==============================] - 1s 258us/step - loss: 4.2330e-04 - acc: 0.9773 - val_loss: 8.0885e-04 - val_acc: 0.9500\n",
      "Epoch 22/30\n",
      "5278/5278 [==============================] - 2s 289us/step - loss: 3.9036e-04 - acc: 0.9780 - val_loss: 7.8012e-04 - val_acc: 0.9576\n",
      "Epoch 23/30\n",
      "5278/5278 [==============================] - 1s 266us/step - loss: 3.7473e-04 - acc: 0.9786 - val_loss: 7.3749e-04 - val_acc: 0.9538\n",
      "Epoch 24/30\n",
      "5278/5278 [==============================] - 1s 261us/step - loss: 3.5230e-04 - acc: 0.9788 - val_loss: 7.5657e-04 - val_acc: 0.9492\n",
      "Epoch 25/30\n",
      "5278/5278 [==============================] - 1s 266us/step - loss: 3.4515e-04 - acc: 0.9786 - val_loss: 6.7135e-04 - val_acc: 0.9568\n",
      "Epoch 26/30\n",
      "5278/5278 [==============================] - 1s 269us/step - loss: 3.2562e-04 - acc: 0.9803 - val_loss: 6.7732e-04 - val_acc: 0.9553\n",
      "Epoch 27/30\n",
      "5278/5278 [==============================] - 1s 255us/step - loss: 3.0444e-04 - acc: 0.9805 - val_loss: 6.4515e-04 - val_acc: 0.9561\n",
      "Epoch 28/30\n",
      "5278/5278 [==============================] - 1s 258us/step - loss: 2.9701e-04 - acc: 0.9809 - val_loss: 6.4752e-04 - val_acc: 0.9561\n",
      "Epoch 29/30\n",
      "5278/5278 [==============================] - 1s 265us/step - loss: 2.8627e-04 - acc: 0.9803 - val_loss: 6.7941e-04 - val_acc: 0.9568\n",
      "Epoch 30/30\n",
      "5278/5278 [==============================] - 1s 257us/step - loss: 2.6754e-04 - acc: 0.9809 - val_loss: 6.2188e-04 - val_acc: 0.9568\n"
     ]
    },
    {
     "data": {
      "text/plain": [
       "<keras.callbacks.History at 0x7fd9021c5278>"
      ]
     },
     "execution_count": 55,
     "metadata": {
      "tags": []
     },
     "output_type": "execute_result"
    }
   ],
   "source": [
    "model.fit(X_train, y_train, verbose=1, validation_data=(X_test, y_test), epochs=30)"
   ]
  },
  {
   "cell_type": "markdown",
   "metadata": {
    "colab_type": "text",
    "id": "Y3WvwT0bB_dn"
   },
   "source": [
    "### Plotting Training vs Validation Accuracy and Loss"
   ]
  },
  {
   "cell_type": "code",
   "execution_count": 0,
   "metadata": {
    "colab": {},
    "colab_type": "code",
    "id": "SmEzqPRUsT-7"
   },
   "outputs": [],
   "source": [
    "train_accuracy = model.history.history['acc']\n",
    "validation_accuracy = model.history.history['val_acc']\n",
    "\n",
    "train_loss = model.history.history['loss']\n",
    "validation_loss = model.history.history['val_loss']"
   ]
  },
  {
   "cell_type": "code",
   "execution_count": 57,
   "metadata": {
    "colab": {
     "base_uri": "https://localhost:8080/",
     "height": 265
    },
    "colab_type": "code",
    "id": "8AoCO3k6tQEJ",
    "outputId": "305e8cb4-dac7-4d9b-a935-e36a7ce39dfa"
   },
   "outputs": [
    {
     "data": {
      "image/png": "[encoded data removed]",
      "text/plain": [
       "<Figure size 432x288 with 1 Axes>"
      ]
     },
     "metadata": {
      "tags": []
     },
     "output_type": "display_data"
    }
   ],
   "source": [
    "plt.plot(train_accuracy, label='training accuracy')\n",
    "plt.plot(validation_accuracy, label='validation accuracy')\n",
    "plt.legend()\n",
    "plt.show()"
   ]
  },
  {
   "cell_type": "code",
   "execution_count": 58,
   "metadata": {
    "colab": {
     "base_uri": "https://localhost:8080/",
     "height": 265
    },
    "colab_type": "code",
    "id": "ngN9N80itq-Z",
    "outputId": "8040caea-068c-4ac9-dc27-d81b8a35ff06"
   },
   "outputs": [
    {
     "data": {
      "image/png": "[encoded data removed]",
      "text/plain": [
       "<Figure size 432x288 with 1 Axes>"
      ]
     },
     "metadata": {
      "tags": []
     },
     "output_type": "display_data"
    }
   ],
   "source": [
    "plt.plot(train_loss, label='training loss')\n",
    "plt.plot(validation_loss, label='validation loss')\n",
    "plt.legend()\n",
    "plt.show()"
   ]
  },
  {
   "cell_type": "code",
   "execution_count": 0,
   "metadata": {
    "colab": {},
    "colab_type": "code",
    "id": "nKS4iqAiuRDh"
   },
   "outputs": [],
   "source": [
    "model.save('model_molecule_cnn.h5')"
   ]
  },
  {
   "cell_type": "markdown",
   "metadata": {
    "colab_type": "text",
    "id": "FtrpQPWKCHBN"
   },
   "source": [
    "### Generating Classification Report and Confusion matrix"
   ]
  },
  {
   "cell_type": "code",
   "execution_count": 0,
   "metadata": {
    "colab": {},
    "colab_type": "code",
    "id": "wGkDzH_BuZ64"
   },
   "outputs": [],
   "source": [
    "y_hat = model.predict(X_test)"
   ]
  },
  {
   "cell_type": "code",
   "execution_count": 0,
   "metadata": {
    "colab": {},
    "colab_type": "code",
    "id": "uHHUOrEidiHI"
   },
   "outputs": [],
   "source": [
    "y_hat_i = []\n",
    "y_test_i = []\n",
    "for i in range(len(y_test)):\n",
    "  y_hat_i.append(np.argmax(y_hat[i]))\n",
    "  y_test_i.append(np.argmax(y_test[i]))\n"
   ]
  },
  {
   "cell_type": "code",
   "execution_count": 0,
   "metadata": {
    "colab": {},
    "colab_type": "code",
    "id": "Bg-mA6ypeF_Y"
   },
   "outputs": [],
   "source": [
    "y_hat_i = np.array(y_hat_i)\n",
    "y_test_i = np.array(y_test_i)"
   ]
  },
  {
   "cell_type": "code",
   "execution_count": 63,
   "metadata": {
    "colab": {
     "base_uri": "https://localhost:8080/",
     "height": 51
    },
    "colab_type": "code",
    "id": "PysaYfmXob53",
    "outputId": "a1c1dd8d-bcd3-49d8-f2b2-38d60e11a327"
   },
   "outputs": [
    {
     "name": "stdout",
     "output_type": "stream",
     "text": [
      "Accuracy = \n"
     ]
    },
    {
     "data": {
      "text/plain": [
       "0.9568181818181818"
      ]
     },
     "execution_count": 63,
     "metadata": {
      "tags": []
     },
     "output_type": "execute_result"
    }
   ],
   "source": [
    "print(\"Accuracy = \")\n",
    "sum((y_hat_i == y_test_i).astype(int))/len(y_test_i)"
   ]
  },
  {
   "cell_type": "code",
   "execution_count": 64,
   "metadata": {
    "colab": {
     "base_uri": "https://localhost:8080/",
     "height": 1000
    },
    "colab_type": "code",
    "id": "f1DOARmCeGre",
    "outputId": "6c19c972-a45e-424d-f65e-7d5a35a7e520"
   },
   "outputs": [
    {
     "name": "stdout",
     "output_type": "stream",
     "text": [
      "              precision    recall  f1-score   support\n",
      "\n",
      "           0       1.00      1.00      1.00         3\n",
      "           1       1.00      1.00      1.00         6\n",
      "           2       1.00      0.76      0.86        21\n",
      "           3       0.67      1.00      0.80         2\n",
      "           4       1.00      1.00      1.00        10\n",
      "           5       1.00      1.00      1.00        35\n",
      "           6       1.00      1.00      1.00         1\n",
      "           7       1.00      0.50      0.67         2\n",
      "           8       0.00      0.00      0.00         2\n",
      "          10       0.65      0.83      0.73        18\n",
      "          11       0.67      1.00      0.80         4\n",
      "          12       0.75      1.00      0.86         3\n",
      "          13       0.00      0.00      0.00         6\n",
      "          14       0.73      1.00      0.85        11\n",
      "          15       1.00      0.50      0.67         2\n",
      "          16       0.00      0.00      0.00         1\n",
      "          18       1.00      1.00      1.00         2\n",
      "          20       1.00      1.00      1.00         2\n",
      "          21       1.00      1.00      1.00         1\n",
      "          22       1.00      1.00      1.00         3\n",
      "          23       1.00      1.00      1.00         1\n",
      "          24       1.00      1.00      1.00         3\n",
      "          26       1.00      1.00      1.00         6\n",
      "          27       1.00      1.00      1.00         9\n",
      "          28       0.00      0.00      0.00         2\n",
      "          29       1.00      1.00      1.00         4\n",
      "          30       0.00      0.00      0.00         1\n",
      "          31       0.75      1.00      0.86         3\n",
      "          32       0.67      0.67      0.67         3\n",
      "          33       1.00      1.00      1.00         2\n",
      "          34       0.40      0.67      0.50         3\n",
      "          35       1.00      0.40      0.57         5\n",
      "          36       0.50      1.00      0.67         1\n",
      "          37       0.50      1.00      0.67         3\n",
      "          38       0.00      0.00      0.00         1\n",
      "          39       1.00      0.98      0.99        44\n",
      "          40       1.00      1.00      1.00        52\n",
      "          41       1.00      1.00      1.00         4\n",
      "          42       1.00      1.00      1.00         2\n",
      "          43       1.00      1.00      1.00         7\n",
      "          45       1.00      1.00      1.00         7\n",
      "          46       0.86      1.00      0.92        24\n",
      "          47       1.00      1.00      1.00        12\n",
      "          48       0.67      1.00      0.80         2\n",
      "          49       1.00      1.00      1.00         9\n",
      "          50       0.87      1.00      0.93        20\n",
      "          51       0.67      0.86      0.75         7\n",
      "          52       1.00      1.00      1.00         5\n",
      "          53       1.00      1.00      1.00        23\n",
      "          54       0.99      1.00      1.00       192\n",
      "          55       0.00      0.00      0.00         2\n",
      "          56       1.00      1.00      1.00        16\n",
      "          57       1.00      1.00      1.00         1\n",
      "          58       1.00      0.39      0.56        18\n",
      "          59       0.99      1.00      0.99        81\n",
      "          60       1.00      1.00      1.00         6\n",
      "          65       0.00      0.00      0.00         0\n",
      "          69       1.00      1.00      1.00         2\n",
      "          71       0.93      1.00      0.97        28\n",
      "          72       1.00      1.00      1.00         1\n",
      "          73       1.00      1.00      1.00         1\n",
      "          75       1.00      1.00      1.00         1\n",
      "          76       1.00      1.00      1.00         1\n",
      "          77       0.00      0.00      0.00         0\n",
      "          78       1.00      1.00      1.00         1\n",
      "          79       1.00      1.00      1.00         3\n",
      "          80       1.00      1.00      1.00         5\n",
      "          81       0.99      1.00      0.99        89\n",
      "          82       1.00      1.00      1.00         3\n",
      "          83       1.00      1.00      1.00         2\n",
      "          84       1.00      1.00      1.00         7\n",
      "          85       1.00      0.62      0.77         8\n",
      "          86       1.00      1.00      1.00         5\n",
      "          87       0.50      1.00      0.67         1\n",
      "          88       0.00      0.00      0.00         1\n",
      "          89       1.00      1.00      1.00       223\n",
      "          90       0.95      1.00      0.98       191\n",
      "          91       1.00      1.00      1.00         1\n",
      "          92       0.00      0.00      0.00         1\n",
      "          93       1.00      1.00      1.00         2\n",
      "          94       0.50      1.00      0.67         1\n",
      "          95       1.00      1.00      1.00         7\n",
      "          96       0.00      0.00      0.00         0\n",
      "          97       0.00      0.00      0.00         1\n",
      "          98       0.00      0.00      0.00         2\n",
      "         100       0.00      0.00      0.00         1\n",
      "         101       0.91      0.67      0.77        15\n",
      "\n",
      "    accuracy                           0.96      1320\n",
      "   macro avg       0.76      0.78      0.76      1320\n",
      "weighted avg       0.95      0.96      0.95      1320\n",
      "\n"
     ]
    },
    {
     "name": "stderr",
     "output_type": "stream",
     "text": [
      "/usr/local/lib/python3.6/dist-packages/sklearn/metrics/_classification.py:1272: UndefinedMetricWarning: Precision and F-score are ill-defined and being set to 0.0 in labels with no predicted samples. Use `zero_division` parameter to control this behavior.\n",
      "  _warn_prf(average, modifier, msg_start, len(result))\n",
      "/usr/local/lib/python3.6/dist-packages/sklearn/metrics/_classification.py:1272: UndefinedMetricWarning: Recall and F-score are ill-defined and being set to 0.0 in labels with no true samples. Use `zero_division` parameter to control this behavior.\n",
      "  _warn_prf(average, modifier, msg_start, len(result))\n"
     ]
    }
   ],
   "source": [
    "from sklearn.metrics import classification_report, confusion_matrix\n",
    "print(classification_report(y_test_i, y_hat_i))"
   ]
  },
  {
   "cell_type": "code",
   "execution_count": 65,
   "metadata": {
    "colab": {
     "base_uri": "https://localhost:8080/",
     "height": 136
    },
    "colab_type": "code",
    "id": "uvY61XK5ooX5",
    "outputId": "34405142-bb40-4b35-d9cc-6eeb3e14222b"
   },
   "outputs": [
    {
     "data": {
      "text/plain": [
       "array([[ 3,  0,  0, ...,  0,  0,  0],\n",
       "       [ 0,  6,  0, ...,  0,  0,  0],\n",
       "       [ 0,  0, 16, ...,  0,  0,  0],\n",
       "       ...,\n",
       "       [ 0,  0,  0, ...,  0,  0,  0],\n",
       "       [ 0,  0,  0, ...,  0,  0,  0],\n",
       "       [ 0,  0,  0, ...,  0,  0, 10]])"
      ]
     },
     "execution_count": 65,
     "metadata": {
      "tags": []
     },
     "output_type": "execute_result"
    }
   ],
   "source": [
    "confusion_matrix(y_test_i, y_hat_i)"
   ]
  },
  {
   "cell_type": "code",
   "execution_count": 68,
   "metadata": {
    "colab": {
     "base_uri": "https://localhost:8080/",
     "height": 607
    },
    "colab_type": "code",
    "id": "NQ_iJ5RBEJlE",
    "outputId": "a0e1634a-b67e-4eda-c1a9-14b1cfb88593"
   },
   "outputs": [
    {
     "data": {
      "image/png": "[encoded data removed]",
      "text/plain": [
       "<Figure size 720x720 with 1 Axes>"
      ]
     },
     "metadata": {
      "tags": []
     },
     "output_type": "display_data"
    }
   ],
   "source": [
    "plt.figure(figsize=(10, 10))\n",
    "plt.title(\"Confusion Metrics\")\n",
    "plt.imshow(confusion_matrix(y_test_i, y_hat_i), cmap='Paired', interpolation='nearest')\n",
    "plt.show()"
   ]
  },
  {
   "cell_type": "code",
   "execution_count": 0,
   "metadata": {
    "colab": {},
    "colab_type": "code",
    "id": "fnaBQz2BES0V"
   },
   "outputs": [],
   "source": []
  }
 ],
 "metadata": {
  "accelerator": "GPU",
  "colab": {
   "name": "credicxo_molecule_cnn",
   "provenance": []
  },
  "kernelspec": {
   "display_name": "Python 3",
   "language": "python",
   "name": "python3"
  },
  "language_info": {
   "codemirror_mode": {
    "name": "ipython",
    "version": 3
   },
   "file_extension": ".py",
   "mimetype": "text/x-python",
   "name": "python",
   "nbconvert_exporter": "python",
   "pygments_lexer": "ipython3",
   "version": "3.7.3"
  }
 },
 "nbformat": 4,
 "nbformat_minor": 1
}
