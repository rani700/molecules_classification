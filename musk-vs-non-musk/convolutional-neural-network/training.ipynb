{
  "nbformat": 4,
  "nbformat_minor": 0,
  "metadata": {
    "colab": {
      "name": "credicxo_musk_non_musk_cnn",
      "provenance": []
    },
    "kernelspec": {
      "name": "python3",
      "display_name": "Python 3"
    },
    "accelerator": "GPU"
  },
  "cells": [
    {
      "cell_type": "markdown",
      "metadata": {
        "id": "sb2amWhO0xH-",
        "colab_type": "text"
      },
      "source": [
        "# Musk vs Non Musk Classification using Convolutional Neural Network"
      ]
    },
    {
      "cell_type": "markdown",
      "metadata": {
        "id": "Qi4n2LO903ET",
        "colab_type": "text"
      },
      "source": [
        "Dataset is uploaded to a github repo URL is saved here"
      ]
    },
    {
      "cell_type": "code",
      "metadata": {
        "id": "jOUkGH2vlZ03",
        "colab_type": "code",
        "colab": {}
      },
      "source": [
        "URL = \"https://raw.githubusercontent.com/rani700/datasets/master/musk_csv.csv\""
      ],
      "execution_count": 0,
      "outputs": []
    },
    {
      "cell_type": "markdown",
      "metadata": {
        "id": "lvtME1Wj2ofs",
        "colab_type": "text"
      },
      "source": [
        "### Importing libraries for data manipulation and visualisation\n",
        "\n"
      ]
    },
    {
      "cell_type": "code",
      "metadata": {
        "id": "nGHYb8Ublg8v",
        "colab_type": "code",
        "colab": {}
      },
      "source": [
        "import matplotlib.pyplot as plt\n",
        "import numpy as np\n",
        "import pandas as pd"
      ],
      "execution_count": 0,
      "outputs": []
    },
    {
      "cell_type": "markdown",
      "metadata": {
        "id": "u0fysERN20kN",
        "colab_type": "text"
      },
      "source": [
        "### Reading dataset into DataFrame"
      ]
    },
    {
      "cell_type": "code",
      "metadata": {
        "id": "yrGP_RT3oY5l",
        "colab_type": "code",
        "colab": {}
      },
      "source": [
        "df = pd.read_csv(URL)"
      ],
      "execution_count": 0,
      "outputs": []
    },
    {
      "cell_type": "code",
      "metadata": {
        "id": "7IcIrmf-obBt",
        "colab_type": "code",
        "outputId": "656798a8-2fc2-46b4-b61d-c573642f1a4c",
        "colab": {
          "base_uri": "https://localhost:8080/",
          "height": 253
        }
      },
      "source": [
        "df.head()"
      ],
      "execution_count": 50,
      "outputs": [
        {
          "output_type": "execute_result",
          "data": {
            "text/html": [
              "<div>\n",
              "<style scoped>\n",
              "    .dataframe tbody tr th:only-of-type {\n",
              "        vertical-align: middle;\n",
              "    }\n",
              "\n",
              "    .dataframe tbody tr th {\n",
              "        vertical-align: top;\n",
              "    }\n",
              "\n",
              "    .dataframe thead th {\n",
              "        text-align: right;\n",
              "    }\n",
              "</style>\n",
              "<table border=\"1\" class=\"dataframe\">\n",
              "  <thead>\n",
              "    <tr style=\"text-align: right;\">\n",
              "      <th></th>\n",
              "      <th>ID</th>\n",
              "      <th>molecule_name</th>\n",
              "      <th>conformation_name</th>\n",
              "      <th>f1</th>\n",
              "      <th>f2</th>\n",
              "      <th>f3</th>\n",
              "      <th>f4</th>\n",
              "      <th>f5</th>\n",
              "      <th>f6</th>\n",
              "      <th>f7</th>\n",
              "      <th>f8</th>\n",
              "      <th>f9</th>\n",
              "      <th>f10</th>\n",
              "      <th>f11</th>\n",
              "      <th>f12</th>\n",
              "      <th>f13</th>\n",
              "      <th>f14</th>\n",
              "      <th>f15</th>\n",
              "      <th>f16</th>\n",
              "      <th>f17</th>\n",
              "      <th>f18</th>\n",
              "      <th>f19</th>\n",
              "      <th>f20</th>\n",
              "      <th>f21</th>\n",
              "      <th>f22</th>\n",
              "      <th>f23</th>\n",
              "      <th>f24</th>\n",
              "      <th>f25</th>\n",
              "      <th>f26</th>\n",
              "      <th>f27</th>\n",
              "      <th>f28</th>\n",
              "      <th>f29</th>\n",
              "      <th>f30</th>\n",
              "      <th>f31</th>\n",
              "      <th>f32</th>\n",
              "      <th>f33</th>\n",
              "      <th>f34</th>\n",
              "      <th>f35</th>\n",
              "      <th>f36</th>\n",
              "      <th>f37</th>\n",
              "      <th>...</th>\n",
              "      <th>f128</th>\n",
              "      <th>f129</th>\n",
              "      <th>f130</th>\n",
              "      <th>f131</th>\n",
              "      <th>f132</th>\n",
              "      <th>f133</th>\n",
              "      <th>f134</th>\n",
              "      <th>f135</th>\n",
              "      <th>f136</th>\n",
              "      <th>f137</th>\n",
              "      <th>f138</th>\n",
              "      <th>f139</th>\n",
              "      <th>f140</th>\n",
              "      <th>f141</th>\n",
              "      <th>f142</th>\n",
              "      <th>f143</th>\n",
              "      <th>f144</th>\n",
              "      <th>f145</th>\n",
              "      <th>f146</th>\n",
              "      <th>f147</th>\n",
              "      <th>f148</th>\n",
              "      <th>f149</th>\n",
              "      <th>f150</th>\n",
              "      <th>f151</th>\n",
              "      <th>f152</th>\n",
              "      <th>f153</th>\n",
              "      <th>f154</th>\n",
              "      <th>f155</th>\n",
              "      <th>f156</th>\n",
              "      <th>f157</th>\n",
              "      <th>f158</th>\n",
              "      <th>f159</th>\n",
              "      <th>f160</th>\n",
              "      <th>f161</th>\n",
              "      <th>f162</th>\n",
              "      <th>f163</th>\n",
              "      <th>f164</th>\n",
              "      <th>f165</th>\n",
              "      <th>f166</th>\n",
              "      <th>class</th>\n",
              "    </tr>\n",
              "  </thead>\n",
              "  <tbody>\n",
              "    <tr>\n",
              "      <th>0</th>\n",
              "      <td>1</td>\n",
              "      <td>MUSK-211</td>\n",
              "      <td>211_1+1</td>\n",
              "      <td>46</td>\n",
              "      <td>-108</td>\n",
              "      <td>-60</td>\n",
              "      <td>-69</td>\n",
              "      <td>-117</td>\n",
              "      <td>49</td>\n",
              "      <td>38</td>\n",
              "      <td>-161</td>\n",
              "      <td>-8</td>\n",
              "      <td>5</td>\n",
              "      <td>-323</td>\n",
              "      <td>-220</td>\n",
              "      <td>-113</td>\n",
              "      <td>-299</td>\n",
              "      <td>-283</td>\n",
              "      <td>-307</td>\n",
              "      <td>-31</td>\n",
              "      <td>-106</td>\n",
              "      <td>-227</td>\n",
              "      <td>-42</td>\n",
              "      <td>-59</td>\n",
              "      <td>-22</td>\n",
              "      <td>-67</td>\n",
              "      <td>189</td>\n",
              "      <td>81</td>\n",
              "      <td>17</td>\n",
              "      <td>-27</td>\n",
              "      <td>-89</td>\n",
              "      <td>-67</td>\n",
              "      <td>105</td>\n",
              "      <td>-116</td>\n",
              "      <td>124</td>\n",
              "      <td>-106</td>\n",
              "      <td>5</td>\n",
              "      <td>-120</td>\n",
              "      <td>63</td>\n",
              "      <td>-165</td>\n",
              "      <td>...</td>\n",
              "      <td>81</td>\n",
              "      <td>-114</td>\n",
              "      <td>-187</td>\n",
              "      <td>45</td>\n",
              "      <td>-118</td>\n",
              "      <td>-75</td>\n",
              "      <td>-182</td>\n",
              "      <td>-234</td>\n",
              "      <td>-19</td>\n",
              "      <td>12</td>\n",
              "      <td>-13</td>\n",
              "      <td>-41</td>\n",
              "      <td>-119</td>\n",
              "      <td>-149</td>\n",
              "      <td>70</td>\n",
              "      <td>17</td>\n",
              "      <td>-20</td>\n",
              "      <td>-177</td>\n",
              "      <td>-101</td>\n",
              "      <td>-116</td>\n",
              "      <td>-14</td>\n",
              "      <td>-50</td>\n",
              "      <td>24</td>\n",
              "      <td>-81</td>\n",
              "      <td>-125</td>\n",
              "      <td>-114</td>\n",
              "      <td>-44</td>\n",
              "      <td>128</td>\n",
              "      <td>3</td>\n",
              "      <td>-244</td>\n",
              "      <td>-308</td>\n",
              "      <td>52</td>\n",
              "      <td>-7</td>\n",
              "      <td>39</td>\n",
              "      <td>126</td>\n",
              "      <td>156</td>\n",
              "      <td>-50</td>\n",
              "      <td>-112</td>\n",
              "      <td>96</td>\n",
              "      <td>1</td>\n",
              "    </tr>\n",
              "    <tr>\n",
              "      <th>1</th>\n",
              "      <td>2</td>\n",
              "      <td>MUSK-211</td>\n",
              "      <td>211_1+10</td>\n",
              "      <td>41</td>\n",
              "      <td>-188</td>\n",
              "      <td>-145</td>\n",
              "      <td>22</td>\n",
              "      <td>-117</td>\n",
              "      <td>-6</td>\n",
              "      <td>57</td>\n",
              "      <td>-171</td>\n",
              "      <td>-39</td>\n",
              "      <td>-100</td>\n",
              "      <td>-319</td>\n",
              "      <td>-111</td>\n",
              "      <td>-228</td>\n",
              "      <td>-281</td>\n",
              "      <td>-281</td>\n",
              "      <td>-300</td>\n",
              "      <td>54</td>\n",
              "      <td>-149</td>\n",
              "      <td>-98</td>\n",
              "      <td>-196</td>\n",
              "      <td>-27</td>\n",
              "      <td>-22</td>\n",
              "      <td>2</td>\n",
              "      <td>75</td>\n",
              "      <td>49</td>\n",
              "      <td>-34</td>\n",
              "      <td>45</td>\n",
              "      <td>-91</td>\n",
              "      <td>32</td>\n",
              "      <td>95</td>\n",
              "      <td>-116</td>\n",
              "      <td>85</td>\n",
              "      <td>-23</td>\n",
              "      <td>42</td>\n",
              "      <td>-58</td>\n",
              "      <td>61</td>\n",
              "      <td>-171</td>\n",
              "      <td>...</td>\n",
              "      <td>88</td>\n",
              "      <td>-21</td>\n",
              "      <td>-32</td>\n",
              "      <td>32</td>\n",
              "      <td>-128</td>\n",
              "      <td>-72</td>\n",
              "      <td>-124</td>\n",
              "      <td>-218</td>\n",
              "      <td>-94</td>\n",
              "      <td>53</td>\n",
              "      <td>-79</td>\n",
              "      <td>-20</td>\n",
              "      <td>-35</td>\n",
              "      <td>-26</td>\n",
              "      <td>4</td>\n",
              "      <td>50</td>\n",
              "      <td>17</td>\n",
              "      <td>-177</td>\n",
              "      <td>-102</td>\n",
              "      <td>-121</td>\n",
              "      <td>-66</td>\n",
              "      <td>-77</td>\n",
              "      <td>51</td>\n",
              "      <td>-41</td>\n",
              "      <td>-34</td>\n",
              "      <td>-32</td>\n",
              "      <td>-63</td>\n",
              "      <td>115</td>\n",
              "      <td>-5</td>\n",
              "      <td>-235</td>\n",
              "      <td>-59</td>\n",
              "      <td>-2</td>\n",
              "      <td>52</td>\n",
              "      <td>103</td>\n",
              "      <td>136</td>\n",
              "      <td>169</td>\n",
              "      <td>-61</td>\n",
              "      <td>-136</td>\n",
              "      <td>79</td>\n",
              "      <td>1</td>\n",
              "    </tr>\n",
              "    <tr>\n",
              "      <th>2</th>\n",
              "      <td>3</td>\n",
              "      <td>MUSK-211</td>\n",
              "      <td>211_1+11</td>\n",
              "      <td>46</td>\n",
              "      <td>-194</td>\n",
              "      <td>-145</td>\n",
              "      <td>28</td>\n",
              "      <td>-117</td>\n",
              "      <td>73</td>\n",
              "      <td>57</td>\n",
              "      <td>-168</td>\n",
              "      <td>-39</td>\n",
              "      <td>-22</td>\n",
              "      <td>-319</td>\n",
              "      <td>-111</td>\n",
              "      <td>-104</td>\n",
              "      <td>-283</td>\n",
              "      <td>-282</td>\n",
              "      <td>-303</td>\n",
              "      <td>52</td>\n",
              "      <td>-152</td>\n",
              "      <td>-97</td>\n",
              "      <td>-225</td>\n",
              "      <td>-28</td>\n",
              "      <td>-22</td>\n",
              "      <td>2</td>\n",
              "      <td>179</td>\n",
              "      <td>49</td>\n",
              "      <td>-33</td>\n",
              "      <td>46</td>\n",
              "      <td>-88</td>\n",
              "      <td>22</td>\n",
              "      <td>79</td>\n",
              "      <td>-116</td>\n",
              "      <td>19</td>\n",
              "      <td>-11</td>\n",
              "      <td>6</td>\n",
              "      <td>-38</td>\n",
              "      <td>71</td>\n",
              "      <td>-175</td>\n",
              "      <td>...</td>\n",
              "      <td>64</td>\n",
              "      <td>0</td>\n",
              "      <td>-23</td>\n",
              "      <td>-15</td>\n",
              "      <td>-129</td>\n",
              "      <td>-74</td>\n",
              "      <td>-125</td>\n",
              "      <td>-221</td>\n",
              "      <td>-93</td>\n",
              "      <td>53</td>\n",
              "      <td>-72</td>\n",
              "      <td>-19</td>\n",
              "      <td>-33</td>\n",
              "      <td>-26</td>\n",
              "      <td>3</td>\n",
              "      <td>49</td>\n",
              "      <td>17</td>\n",
              "      <td>-177</td>\n",
              "      <td>-102</td>\n",
              "      <td>-119</td>\n",
              "      <td>-66</td>\n",
              "      <td>-81</td>\n",
              "      <td>51</td>\n",
              "      <td>-41</td>\n",
              "      <td>-27</td>\n",
              "      <td>-41</td>\n",
              "      <td>-140</td>\n",
              "      <td>77</td>\n",
              "      <td>-163</td>\n",
              "      <td>-238</td>\n",
              "      <td>-134</td>\n",
              "      <td>-154</td>\n",
              "      <td>57</td>\n",
              "      <td>143</td>\n",
              "      <td>142</td>\n",
              "      <td>165</td>\n",
              "      <td>-67</td>\n",
              "      <td>-145</td>\n",
              "      <td>39</td>\n",
              "      <td>1</td>\n",
              "    </tr>\n",
              "    <tr>\n",
              "      <th>3</th>\n",
              "      <td>4</td>\n",
              "      <td>MUSK-211</td>\n",
              "      <td>211_1+12</td>\n",
              "      <td>41</td>\n",
              "      <td>-188</td>\n",
              "      <td>-145</td>\n",
              "      <td>22</td>\n",
              "      <td>-117</td>\n",
              "      <td>-7</td>\n",
              "      <td>57</td>\n",
              "      <td>-170</td>\n",
              "      <td>-39</td>\n",
              "      <td>-99</td>\n",
              "      <td>-319</td>\n",
              "      <td>-111</td>\n",
              "      <td>-228</td>\n",
              "      <td>-282</td>\n",
              "      <td>-281</td>\n",
              "      <td>-301</td>\n",
              "      <td>54</td>\n",
              "      <td>-150</td>\n",
              "      <td>-98</td>\n",
              "      <td>-196</td>\n",
              "      <td>-28</td>\n",
              "      <td>-22</td>\n",
              "      <td>2</td>\n",
              "      <td>77</td>\n",
              "      <td>48</td>\n",
              "      <td>-34</td>\n",
              "      <td>46</td>\n",
              "      <td>-91</td>\n",
              "      <td>32</td>\n",
              "      <td>94</td>\n",
              "      <td>-116</td>\n",
              "      <td>84</td>\n",
              "      <td>-23</td>\n",
              "      <td>41</td>\n",
              "      <td>-58</td>\n",
              "      <td>62</td>\n",
              "      <td>-171</td>\n",
              "      <td>...</td>\n",
              "      <td>88</td>\n",
              "      <td>-20</td>\n",
              "      <td>-32</td>\n",
              "      <td>32</td>\n",
              "      <td>-128</td>\n",
              "      <td>-73</td>\n",
              "      <td>-125</td>\n",
              "      <td>-220</td>\n",
              "      <td>-93</td>\n",
              "      <td>53</td>\n",
              "      <td>-78</td>\n",
              "      <td>-19</td>\n",
              "      <td>-34</td>\n",
              "      <td>-26</td>\n",
              "      <td>4</td>\n",
              "      <td>50</td>\n",
              "      <td>17</td>\n",
              "      <td>-177</td>\n",
              "      <td>-101</td>\n",
              "      <td>-121</td>\n",
              "      <td>-65</td>\n",
              "      <td>-77</td>\n",
              "      <td>52</td>\n",
              "      <td>-41</td>\n",
              "      <td>-34</td>\n",
              "      <td>-32</td>\n",
              "      <td>-66</td>\n",
              "      <td>115</td>\n",
              "      <td>-7</td>\n",
              "      <td>-236</td>\n",
              "      <td>-60</td>\n",
              "      <td>-4</td>\n",
              "      <td>52</td>\n",
              "      <td>104</td>\n",
              "      <td>136</td>\n",
              "      <td>168</td>\n",
              "      <td>-60</td>\n",
              "      <td>-135</td>\n",
              "      <td>80</td>\n",
              "      <td>1</td>\n",
              "    </tr>\n",
              "    <tr>\n",
              "      <th>4</th>\n",
              "      <td>5</td>\n",
              "      <td>MUSK-211</td>\n",
              "      <td>211_1+13</td>\n",
              "      <td>41</td>\n",
              "      <td>-188</td>\n",
              "      <td>-145</td>\n",
              "      <td>22</td>\n",
              "      <td>-117</td>\n",
              "      <td>-7</td>\n",
              "      <td>57</td>\n",
              "      <td>-170</td>\n",
              "      <td>-39</td>\n",
              "      <td>-99</td>\n",
              "      <td>-319</td>\n",
              "      <td>-111</td>\n",
              "      <td>-228</td>\n",
              "      <td>-282</td>\n",
              "      <td>-281</td>\n",
              "      <td>-301</td>\n",
              "      <td>54</td>\n",
              "      <td>-150</td>\n",
              "      <td>-98</td>\n",
              "      <td>-196</td>\n",
              "      <td>-28</td>\n",
              "      <td>-22</td>\n",
              "      <td>2</td>\n",
              "      <td>78</td>\n",
              "      <td>48</td>\n",
              "      <td>-34</td>\n",
              "      <td>46</td>\n",
              "      <td>-91</td>\n",
              "      <td>31</td>\n",
              "      <td>94</td>\n",
              "      <td>-116</td>\n",
              "      <td>84</td>\n",
              "      <td>-23</td>\n",
              "      <td>41</td>\n",
              "      <td>-58</td>\n",
              "      <td>62</td>\n",
              "      <td>-171</td>\n",
              "      <td>...</td>\n",
              "      <td>88</td>\n",
              "      <td>-20</td>\n",
              "      <td>-32</td>\n",
              "      <td>32</td>\n",
              "      <td>-128</td>\n",
              "      <td>-73</td>\n",
              "      <td>-125</td>\n",
              "      <td>-220</td>\n",
              "      <td>-93</td>\n",
              "      <td>53</td>\n",
              "      <td>-78</td>\n",
              "      <td>-19</td>\n",
              "      <td>-34</td>\n",
              "      <td>-26</td>\n",
              "      <td>4</td>\n",
              "      <td>50</td>\n",
              "      <td>17</td>\n",
              "      <td>-177</td>\n",
              "      <td>-101</td>\n",
              "      <td>-121</td>\n",
              "      <td>-65</td>\n",
              "      <td>-76</td>\n",
              "      <td>52</td>\n",
              "      <td>-41</td>\n",
              "      <td>-34</td>\n",
              "      <td>-32</td>\n",
              "      <td>-66</td>\n",
              "      <td>115</td>\n",
              "      <td>-8</td>\n",
              "      <td>-236</td>\n",
              "      <td>-60</td>\n",
              "      <td>-4</td>\n",
              "      <td>52</td>\n",
              "      <td>104</td>\n",
              "      <td>137</td>\n",
              "      <td>168</td>\n",
              "      <td>-60</td>\n",
              "      <td>-135</td>\n",
              "      <td>80</td>\n",
              "      <td>1</td>\n",
              "    </tr>\n",
              "  </tbody>\n",
              "</table>\n",
              "<p>5 rows × 170 columns</p>\n",
              "</div>"
            ],
            "text/plain": [
              "   ID molecule_name conformation_name  f1   f2  ...  f163  f164  f165  f166  class\n",
              "0   1      MUSK-211           211_1+1  46 -108  ...   156   -50  -112    96      1\n",
              "1   2      MUSK-211          211_1+10  41 -188  ...   169   -61  -136    79      1\n",
              "2   3      MUSK-211          211_1+11  46 -194  ...   165   -67  -145    39      1\n",
              "3   4      MUSK-211          211_1+12  41 -188  ...   168   -60  -135    80      1\n",
              "4   5      MUSK-211          211_1+13  41 -188  ...   168   -60  -135    80      1\n",
              "\n",
              "[5 rows x 170 columns]"
            ]
          },
          "metadata": {
            "tags": []
          },
          "execution_count": 50
        }
      ]
    },
    {
      "cell_type": "markdown",
      "metadata": {
        "id": "BK-n-Wjj25Uh",
        "colab_type": "text"
      },
      "source": [
        "### Seperating Features (Input) and Output for training\n"
      ]
    },
    {
      "cell_type": "code",
      "metadata": {
        "id": "1Pw18ePsocdd",
        "colab_type": "code",
        "colab": {}
      },
      "source": [
        "X = df.iloc[:, 3:-1].values"
      ],
      "execution_count": 0,
      "outputs": []
    },
    {
      "cell_type": "code",
      "metadata": {
        "id": "K-jUVbQJpN_J",
        "colab_type": "code",
        "outputId": "d48bf220-79af-4b31-936a-008d1faf340e",
        "colab": {
          "base_uri": "https://localhost:8080/",
          "height": 34
        }
      },
      "source": [
        "X.shape"
      ],
      "execution_count": 52,
      "outputs": [
        {
          "output_type": "execute_result",
          "data": {
            "text/plain": [
              "(6598, 166)"
            ]
          },
          "metadata": {
            "tags": []
          },
          "execution_count": 52
        }
      ]
    },
    {
      "cell_type": "code",
      "metadata": {
        "id": "bWDfqv3RIrFK",
        "colab_type": "code",
        "colab": {}
      },
      "source": [
        ""
      ],
      "execution_count": 0,
      "outputs": []
    },
    {
      "cell_type": "code",
      "metadata": {
        "id": "Dpnaab7fqQhJ",
        "colab_type": "code",
        "colab": {}
      },
      "source": [
        "y = df.iloc[:, -1].values"
      ],
      "execution_count": 0,
      "outputs": []
    },
    {
      "cell_type": "markdown",
      "metadata": {
        "id": "pRvK6XjH3E_H",
        "colab_type": "text"
      },
      "source": [
        "### Scaling the data using StandardScaler"
      ]
    },
    {
      "cell_type": "code",
      "metadata": {
        "id": "5YtB7gARsdha",
        "colab_type": "code",
        "colab": {}
      },
      "source": [
        "from sklearn.preprocessing import StandardScaler\n",
        "X = StandardScaler().fit_transform(X)"
      ],
      "execution_count": 0,
      "outputs": []
    },
    {
      "cell_type": "code",
      "metadata": {
        "id": "4h55-BMwI4AS",
        "colab_type": "code",
        "colab": {}
      },
      "source": [
        "X = X.reshape(X.shape[0], X.shape[1], 1)"
      ],
      "execution_count": 0,
      "outputs": []
    },
    {
      "cell_type": "markdown",
      "metadata": {
        "id": "5gXyOU_-3Kcn",
        "colab_type": "text"
      },
      "source": [
        "### Spliting the dataset into training and testing set (Ratio 80:20)"
      ]
    },
    {
      "cell_type": "code",
      "metadata": {
        "id": "QsnDuBVsqYsX",
        "colab_type": "code",
        "colab": {}
      },
      "source": [
        "from sklearn.model_selection import train_test_split\n",
        "X_train, X_test, y_train, y_test = train_test_split(X, y, train_size=0.8, test_size=0.2)"
      ],
      "execution_count": 0,
      "outputs": []
    },
    {
      "cell_type": "markdown",
      "metadata": {
        "id": "rXw0cu3M3dET",
        "colab_type": "text"
      },
      "source": [
        "### Importing Sequential model and Dense Layer from keras"
      ]
    },
    {
      "cell_type": "code",
      "metadata": {
        "id": "mbXpPhQyrlxt",
        "colab_type": "code",
        "colab": {}
      },
      "source": [
        "from keras import Sequential\n",
        "from keras.layers import Dense, Flatten\n",
        "from keras.layers.convolutional import Conv1D, Conv2D, MaxPooling1D, MaxPooling2D"
      ],
      "execution_count": 0,
      "outputs": []
    },
    {
      "cell_type": "markdown",
      "metadata": {
        "id": "eg0Lr2XU3kun",
        "colab_type": "text"
      },
      "source": [
        "### Making model for training"
      ]
    },
    {
      "cell_type": "code",
      "metadata": {
        "id": "R_UquosurvSL",
        "colab_type": "code",
        "colab": {}
      },
      "source": [
        "model = Sequential()\n",
        "model.add(Conv1D(filters=64, kernel_size=3, activation='relu', input_shape=(X.shape[1],X.shape[2])))\n",
        "model.add(Conv1D(filters=32, kernel_size=3, activation='relu'))\n",
        "model.add(Flatten())\n",
        "model.add(Dense(50, activation='relu'))\n",
        "model.add(Dense(1))\n",
        "model.compile(optimizer='adam', loss='mse', metrics=['accuracy'])"
      ],
      "execution_count": 0,
      "outputs": []
    },
    {
      "cell_type": "markdown",
      "metadata": {
        "id": "xSDi4pm43pLS",
        "colab_type": "text"
      },
      "source": [
        "### Training on train set generated above and using test set as validation data over 20 epochs"
      ]
    },
    {
      "cell_type": "code",
      "metadata": {
        "id": "bxf_asaxsINQ",
        "colab_type": "code",
        "outputId": "85e8d3a2-261a-490c-f258-c951ce3950b6",
        "colab": {
          "base_uri": "https://localhost:8080/",
          "height": 751
        }
      },
      "source": [
        "model.fit(X_train, y_train, verbose=1, validation_data=(X_test, y_test), epochs=20)"
      ],
      "execution_count": 59,
      "outputs": [
        {
          "output_type": "stream",
          "text": [
            "Train on 5278 samples, validate on 1320 samples\n",
            "Epoch 1/20\n",
            "5278/5278 [==============================] - 1s 191us/step - loss: 0.0830 - acc: 0.8992 - val_loss: 0.0437 - val_acc: 0.9583\n",
            "Epoch 2/20\n",
            "5278/5278 [==============================] - 1s 132us/step - loss: 0.0375 - acc: 0.9568 - val_loss: 0.0291 - val_acc: 0.9644\n",
            "Epoch 3/20\n",
            "5278/5278 [==============================] - 1s 135us/step - loss: 0.0280 - acc: 0.9699 - val_loss: 0.0237 - val_acc: 0.9765\n",
            "Epoch 4/20\n",
            "5278/5278 [==============================] - 1s 129us/step - loss: 0.0212 - acc: 0.9778 - val_loss: 0.0205 - val_acc: 0.9818\n",
            "Epoch 5/20\n",
            "5278/5278 [==============================] - 1s 135us/step - loss: 0.0174 - acc: 0.9860 - val_loss: 0.0189 - val_acc: 0.9773\n",
            "Epoch 6/20\n",
            "5278/5278 [==============================] - 1s 143us/step - loss: 0.0132 - acc: 0.9900 - val_loss: 0.0167 - val_acc: 0.9841\n",
            "Epoch 7/20\n",
            "5278/5278 [==============================] - 1s 134us/step - loss: 0.0110 - acc: 0.9922 - val_loss: 0.0126 - val_acc: 0.9879\n",
            "Epoch 8/20\n",
            "5278/5278 [==============================] - 1s 126us/step - loss: 0.0087 - acc: 0.9951 - val_loss: 0.0138 - val_acc: 0.9917\n",
            "Epoch 9/20\n",
            "5278/5278 [==============================] - 1s 144us/step - loss: 0.0074 - acc: 0.9979 - val_loss: 0.0102 - val_acc: 0.9932\n",
            "Epoch 10/20\n",
            "5278/5278 [==============================] - 1s 148us/step - loss: 0.0060 - acc: 0.9991 - val_loss: 0.0118 - val_acc: 0.9924\n",
            "Epoch 11/20\n",
            "5278/5278 [==============================] - 1s 136us/step - loss: 0.0063 - acc: 0.9985 - val_loss: 0.0135 - val_acc: 0.9955\n",
            "Epoch 12/20\n",
            "5278/5278 [==============================] - 1s 138us/step - loss: 0.0051 - acc: 0.9998 - val_loss: 0.0081 - val_acc: 0.9970\n",
            "Epoch 13/20\n",
            "5278/5278 [==============================] - 1s 151us/step - loss: 0.0038 - acc: 0.9998 - val_loss: 0.0088 - val_acc: 0.9962\n",
            "Epoch 14/20\n",
            "5278/5278 [==============================] - 1s 151us/step - loss: 0.0039 - acc: 1.0000 - val_loss: 0.0068 - val_acc: 0.9977\n",
            "Epoch 15/20\n",
            "5278/5278 [==============================] - 1s 131us/step - loss: 0.0032 - acc: 1.0000 - val_loss: 0.0077 - val_acc: 0.9970\n",
            "Epoch 16/20\n",
            "5278/5278 [==============================] - 1s 139us/step - loss: 0.0024 - acc: 1.0000 - val_loss: 0.0057 - val_acc: 0.9977\n",
            "Epoch 17/20\n",
            "5278/5278 [==============================] - 1s 131us/step - loss: 0.0026 - acc: 1.0000 - val_loss: 0.0065 - val_acc: 0.9962\n",
            "Epoch 18/20\n",
            "5278/5278 [==============================] - 1s 125us/step - loss: 0.0022 - acc: 1.0000 - val_loss: 0.0067 - val_acc: 0.9955\n",
            "Epoch 19/20\n",
            "5278/5278 [==============================] - 1s 147us/step - loss: 0.0018 - acc: 1.0000 - val_loss: 0.0048 - val_acc: 0.9970\n",
            "Epoch 20/20\n",
            "5278/5278 [==============================] - 1s 157us/step - loss: 0.0017 - acc: 1.0000 - val_loss: 0.0046 - val_acc: 0.9985\n"
          ],
          "name": "stdout"
        },
        {
          "output_type": "execute_result",
          "data": {
            "text/plain": [
              "<keras.callbacks.History at 0x7f6a9e6e79b0>"
            ]
          },
          "metadata": {
            "tags": []
          },
          "execution_count": 59
        }
      ]
    },
    {
      "cell_type": "markdown",
      "metadata": {
        "id": "AYlbzhS-3354",
        "colab_type": "text"
      },
      "source": [
        "### Plotting Training vs Validation Accuracy and Loss"
      ]
    },
    {
      "cell_type": "code",
      "metadata": {
        "id": "SmEzqPRUsT-7",
        "colab_type": "code",
        "colab": {}
      },
      "source": [
        "train_accuracy = model.history.history['acc']\n",
        "validation_accuracy = model.history.history['val_acc']\n",
        "\n",
        "train_loss = model.history.history['loss']\n",
        "validation_loss = model.history.history['val_loss']"
      ],
      "execution_count": 0,
      "outputs": []
    },
    {
      "cell_type": "code",
      "metadata": {
        "id": "8AoCO3k6tQEJ",
        "colab_type": "code",
        "outputId": "54cc0507-6964-4a58-813a-2745ad478304",
        "colab": {
          "base_uri": "https://localhost:8080/",
          "height": 265
        }
      },
      "source": [
        "plt.plot(train_accuracy, label='training accuracy')\n",
        "plt.plot(validation_accuracy, label='validation accuracy')\n",
        "plt.legend()\n",
        "plt.show()"
      ],
      "execution_count": 61,
      "outputs": [
        {
          "output_type": "display_data",
          "data": {
            "image/png": "[encoded data removed]",
            "text/plain": [
              "<Figure size 432x288 with 1 Axes>"
            ]
          },
          "metadata": {
            "tags": []
          }
        }
      ]
    },
    {
      "cell_type": "code",
      "metadata": {
        "id": "ngN9N80itq-Z",
        "colab_type": "code",
        "outputId": "c6d568f7-9445-4c14-cfa9-8377c84e0f57",
        "colab": {
          "base_uri": "https://localhost:8080/",
          "height": 265
        }
      },
      "source": [
        "plt.plot(train_loss, label='training loss')\n",
        "plt.plot(validation_loss, label='validation loss')\n",
        "plt.legend()\n",
        "plt.show()"
      ],
      "execution_count": 62,
      "outputs": [
        {
          "output_type": "display_data",
          "data": {
            "image/png": "[encoded data removed]",
            "text/plain": [
              "<Figure size 432x288 with 1 Axes>"
            ]
          },
          "metadata": {
            "tags": []
          }
        }
      ]
    },
    {
      "cell_type": "markdown",
      "metadata": {
        "id": "C0I4nD_Y4FCk",
        "colab_type": "text"
      },
      "source": [
        "### Generating Classification Report and Confusion matrix"
      ]
    },
    {
      "cell_type": "code",
      "metadata": {
        "id": "av3LwJLUbbO8",
        "colab_type": "code",
        "colab": {}
      },
      "source": [
        "y_hat = model.predict(X_test)"
      ],
      "execution_count": 0,
      "outputs": []
    },
    {
      "cell_type": "code",
      "metadata": {
        "id": "3JjmkpzHbmQu",
        "colab_type": "code",
        "colab": {}
      },
      "source": [
        "y_hat = (y_hat[:] > 0.5).astype(int).flatten()"
      ],
      "execution_count": 0,
      "outputs": []
    },
    {
      "cell_type": "code",
      "metadata": {
        "id": "bPNVoQjPb7Bm",
        "colab_type": "code",
        "colab": {}
      },
      "source": [
        "from sklearn.metrics import classification_report, confusion_matrix"
      ],
      "execution_count": 0,
      "outputs": []
    },
    {
      "cell_type": "code",
      "metadata": {
        "id": "nFUUScnpcCym",
        "colab_type": "code",
        "outputId": "f9fb2a0c-42dc-46f9-de6d-c8c04f6cc2b5",
        "colab": {
          "base_uri": "https://localhost:8080/",
          "height": 170
        }
      },
      "source": [
        "print(classification_report(y_test, y_hat))"
      ],
      "execution_count": 66,
      "outputs": [
        {
          "output_type": "stream",
          "text": [
            "              precision    recall  f1-score   support\n",
            "\n",
            "           0       1.00      1.00      1.00      1115\n",
            "           1       0.99      1.00      1.00       205\n",
            "\n",
            "    accuracy                           1.00      1320\n",
            "   macro avg       1.00      1.00      1.00      1320\n",
            "weighted avg       1.00      1.00      1.00      1320\n",
            "\n"
          ],
          "name": "stdout"
        }
      ]
    },
    {
      "cell_type": "code",
      "metadata": {
        "id": "nKS4iqAiuRDh",
        "colab_type": "code",
        "colab": {}
      },
      "source": [
        "model.save('model_musk_vs_non_musk_cnn.h5')"
      ],
      "execution_count": 0,
      "outputs": []
    },
    {
      "cell_type": "code",
      "metadata": {
        "id": "wGkDzH_BuZ64",
        "colab_type": "code",
        "outputId": "684556c8-ccf6-4bd3-e300-6ad691081f0c",
        "colab": {
          "base_uri": "https://localhost:8080/",
          "height": 51
        }
      },
      "source": [
        "print(\"Accuracy = \")\n",
        "sum((y_hat == y_test).astype(int))/len(y_hat)"
      ],
      "execution_count": 69,
      "outputs": [
        {
          "output_type": "stream",
          "text": [
            "Accuracy = \n"
          ],
          "name": "stdout"
        },
        {
          "output_type": "execute_result",
          "data": {
            "text/plain": [
              "0.9984848484848485"
            ]
          },
          "metadata": {
            "tags": []
          },
          "execution_count": 69
        }
      ]
    },
    {
      "cell_type": "code",
      "metadata": {
        "id": "9gsaSSuFi1nb",
        "colab_type": "code",
        "outputId": "ffcd0d4d-0050-4d63-f306-9ecb08ba7058",
        "colab": {
          "base_uri": "https://localhost:8080/",
          "height": 51
        }
      },
      "source": [
        "confusion_matrix(y_test,y_hat)"
      ],
      "execution_count": 70,
      "outputs": [
        {
          "output_type": "execute_result",
          "data": {
            "text/plain": [
              "array([[1113,    2],\n",
              "       [   0,  205]])"
            ]
          },
          "metadata": {
            "tags": []
          },
          "execution_count": 70
        }
      ]
    },
    {
      "cell_type": "code",
      "metadata": {
        "id": "Hi518kAbzcH2",
        "colab_type": "code",
        "colab": {}
      },
      "source": [
        ""
      ],
      "execution_count": 0,
      "outputs": []
    },
    {
      "cell_type": "code",
      "metadata": {
        "id": "WkNMSj3HFIUA",
        "colab_type": "code",
        "colab": {}
      },
      "source": [
        ""
      ],
      "execution_count": 0,
      "outputs": []
    }
  ]
}